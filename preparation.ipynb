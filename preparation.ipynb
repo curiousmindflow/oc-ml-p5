{
 "cells": [
  {
   "cell_type": "markdown",
   "metadata": {},
   "source": [
    "# 0 Imports"
   ]
  },
  {
   "cell_type": "code",
   "execution_count": 1,
   "metadata": {},
   "outputs": [],
   "source": [
    "import numpy as np\n",
    "import matplotlib as pl\n",
    "import seaborn as sns\n",
    "import pandas as pd\n",
    "\n",
    "import re\n",
    "\n",
    "from bs4 import BeautifulSoup as bs\n",
    "import nltk\n",
    "from nltk import pos_tag\n",
    "from nltk.corpus import stopwords, wordnet\n",
    "from nltk.stem import SnowballStemmer, WordNetLemmatizer\n",
    "# nltk.download()\n",
    "\n",
    "pd.set_option(\"display.max_columns\", None)\n",
    "pd.set_option(\"display.max_rows\", None)\n",
    "pd.set_option(\"display.max_colwidth\", None)\n",
    "\n",
    "np.random.seed(0)\n"
   ]
  },
  {
   "cell_type": "markdown",
   "metadata": {},
   "source": [
    "***\n",
    "# 1 Config"
   ]
  },
  {
   "cell_type": "code",
   "execution_count": 26,
   "metadata": {},
   "outputs": [],
   "source": [
    "config = {\n",
    "    \"preproc\": False,\n",
    "    \"processing\": True\n",
    "}"
   ]
  },
  {
   "cell_type": "markdown",
   "metadata": {},
   "source": [
    "***\n",
    "# 2 Data preprocessing"
   ]
  },
  {
   "cell_type": "markdown",
   "metadata": {},
   "source": [
    "## 2.1 Loading"
   ]
  },
  {
   "cell_type": "code",
   "execution_count": 3,
   "metadata": {},
   "outputs": [
    {
     "name": "stdout",
     "output_type": "stream",
     "text": [
      "<class 'pandas.core.frame.DataFrame'>\n",
      "RangeIndex: 1000000 entries, 0 to 999999\n",
      "Data columns (total 4 columns):\n",
      " #   Column  Non-Null Count    Dtype \n",
      "---  ------  --------------    ----- \n",
      " 0   Id      1000000 non-null  int64 \n",
      " 1   Title   422825 non-null   object\n",
      " 2   Body    999558 non-null   object\n",
      " 3   Tags    422825 non-null   object\n",
      "dtypes: int64(1), object(3)\n",
      "memory usage: 30.5+ MB\n"
     ]
    }
   ],
   "source": [
    "if config[\"preproc\"]:\n",
    "    data = pd.read_csv(\"data/stackoverflow_posts_1m.csv\")\n",
    "    data.info()"
   ]
  },
  {
   "cell_type": "code",
   "execution_count": 4,
   "metadata": {},
   "outputs": [
    {
     "data": {
      "text/html": [
       "<div>\n",
       "<style scoped>\n",
       "    .dataframe tbody tr th:only-of-type {\n",
       "        vertical-align: middle;\n",
       "    }\n",
       "\n",
       "    .dataframe tbody tr th {\n",
       "        vertical-align: top;\n",
       "    }\n",
       "\n",
       "    .dataframe thead th {\n",
       "        text-align: right;\n",
       "    }\n",
       "</style>\n",
       "<table border=\"1\" class=\"dataframe\">\n",
       "  <thead>\n",
       "    <tr style=\"text-align: right;\">\n",
       "      <th></th>\n",
       "      <th>Id</th>\n",
       "      <th>Title</th>\n",
       "      <th>Body</th>\n",
       "      <th>Tags</th>\n",
       "    </tr>\n",
       "  </thead>\n",
       "  <tbody>\n",
       "    <tr>\n",
       "      <th>0</th>\n",
       "      <td>525063</td>\n",
       "      <td>Android Respond To URL in Intent</td>\n",
       "      <td>&lt;p&gt;I want my intent to be launched when the user goes to a certain url: for example the android market does this with &lt;a href= http://market.android.com/ &gt;http://market.android.com/&lt;/a&gt; urls. so does youtube. I want mine to do that too.&lt;/p&gt;</td>\n",
       "      <td>android|url|android-intent|intentfilter|launch</td>\n",
       "    </tr>\n",
       "    <tr>\n",
       "      <th>1</th>\n",
       "      <td>14128723</td>\n",
       "      <td>Eclipse -- Progress windows don't show up any more</td>\n",
       "      <td>&lt;p&gt;I used to see both Building and Cleaning actions in their own separate windows where I could wait for them to complete before continuing. Several weeks ago I must have clicked Run in Background  because now the progress only appears in a small obscured Progress view.&lt;/p&gt; &lt;p&gt;&lt;img src= http://i.stack.imgur.com/Ik1x8.gif alt= Not so nice. &gt;&lt;/p&gt; &lt;p&gt;How do I set the progress of things like Java Build and Clean to appear in a popup dialog again?&lt;/p&gt; &lt;p&gt;&lt;img src= http://i.stack.imgur.com/PtQsk.gif alt= Nice. &gt;&lt;/p&gt;</td>\n",
       "      <td>java|eclipse</td>\n",
       "    </tr>\n",
       "    <tr>\n",
       "      <th>2</th>\n",
       "      <td>20728</td>\n",
       "      <td>What's the best way to create ClickOnce deployments</td>\n",
       "      <td>&lt;p&gt;Our team develops distributed winform apps. We use ClickOnce for deployment and are very pleased with it.&lt;/p&gt; &lt;p&gt;However we've found the pain point with ClickOnce is in &lt;em&gt;creating&lt;/em&gt; the deployments. We have the standard dev/test/production environments and need to be able to create deployments for each of these that install and update separate from one another. Also we want control over what assemblies get deployed. Just because an assembly was compiled doesn't mean we want it deployed.&lt;/p&gt; &lt;p&gt;The obvious first choice for creating deployments is Visual Studio. However VS really doesn't address the issues stated. The next in line is the SDK tool Mage. Mage works OK but creating deployments is rather tedious and we don't want every developer having our code signing certificate and password.&lt;/p&gt; &lt;p&gt;What we ended up doing was rolling our own deployment app that uses the command line version of Mage to create the ClickOnce manifest files.&lt;/p&gt; &lt;p&gt;I'm satisfied with our current solution but is seems like there would be an industry-wide accepted approach to this problem. Is there?&lt;/p&gt;</td>\n",
       "      <td>winforms|deployment|clickonce</td>\n",
       "    </tr>\n",
       "    <tr>\n",
       "      <th>3</th>\n",
       "      <td>6531409</td>\n",
       "      <td>iOS: how to get image dimensions without opening it</td>\n",
       "      <td>&lt;p&gt;In an iOS app I need to provide image filters based on their size (width/height) think of something similar to Large Medium Small in Google images search. Opening each image and reading its dimensions when creating the list would be very performance intensive. Is there a way to get this info without opening the image itself?&lt;/p&gt; &lt;p&gt;Damien DeVille answered the question below based on his suggestion I am now using the following code:&lt;/p&gt; &lt;pre&gt;&lt;code&gt;NSURL *imageURL = [NSURL fileURLWithPath:imagePath]; if (imageURL == nil) return; CGImageSourceRef imageSourceRef = CGImageSourceCreateWithURL((CFURLRef)imageURL NULL); if(imageSourceRef == NULL) return; CFDictionaryRef props = CGImageSourceCopyPropertiesAtIndex(imageSourceRef 0 NULL); CFRelease(imageSourceRef); NSLog(@ %@  (NSDictionary *)props); CFRelease(props); &lt;/code&gt;&lt;/pre&gt;</td>\n",
       "      <td>ios4|uikit</td>\n",
       "    </tr>\n",
       "    <tr>\n",
       "      <th>4</th>\n",
       "      <td>593205</td>\n",
       "      <td>action delegate with zero parameters</td>\n",
       "      <td>&lt;p&gt;I see this line in many online examples of using the Action delegate:&lt;/p&gt; &lt;pre&gt;&lt;code&gt;public event Action MyEvent; &lt;/code&gt;&lt;/pre&gt; &lt;p&gt;But when I try it in my own code I get this error&lt;/p&gt; &lt;blockquote&gt; &lt;p&gt;Using the generic type 'System.Action' requires '1' type arguments&lt;/p&gt; &lt;/blockquote&gt; &lt;p&gt;The documentation certainly describes a form of Action without any type parameter. What am I missing?&lt;/p&gt;</td>\n",
       "      <td>c#|delegates|action</td>\n",
       "    </tr>\n",
       "  </tbody>\n",
       "</table>\n",
       "</div>"
      ],
      "text/plain": [
       "         Id                                                Title  \\\n",
       "0    525063                     Android Respond To URL in Intent   \n",
       "1  14128723   Eclipse -- Progress windows don't show up any more   \n",
       "2     20728  What's the best way to create ClickOnce deployments   \n",
       "3   6531409  iOS: how to get image dimensions without opening it   \n",
       "4    593205                 action delegate with zero parameters   \n",
       "\n",
       "                                                                                                                                                                                                                                                                                                                                                                                                                                                                                                                                                                                                                                                                                                                                                                                                                                                                                                                                                                                                                                                                                                                                            Body  \\\n",
       "0                                                                                                                                                                                                                                                                                                                                                                                                                                                                                                                                                                                                                                                                                                                                                                                                                                                                                               <p>I want my intent to be launched when the user goes to a certain url: for example the android market does this with <a href= http://market.android.com/ >http://market.android.com/</a> urls. so does youtube. I want mine to do that too.</p>   \n",
       "1                                                                                                                                                                                                                                                                                                                                                                                                                                                                                                                                                                                                            <p>I used to see both Building and Cleaning actions in their own separate windows where I could wait for them to complete before continuing. Several weeks ago I must have clicked Run in Background  because now the progress only appears in a small obscured Progress view.</p> <p><img src= http://i.stack.imgur.com/Ik1x8.gif alt= Not so nice. ></p> <p>How do I set the progress of things like Java Build and Clean to appear in a popup dialog again?</p> <p><img src= http://i.stack.imgur.com/PtQsk.gif alt= Nice. ></p>   \n",
       "2  <p>Our team develops distributed winform apps. We use ClickOnce for deployment and are very pleased with it.</p> <p>However we've found the pain point with ClickOnce is in <em>creating</em> the deployments. We have the standard dev/test/production environments and need to be able to create deployments for each of these that install and update separate from one another. Also we want control over what assemblies get deployed. Just because an assembly was compiled doesn't mean we want it deployed.</p> <p>The obvious first choice for creating deployments is Visual Studio. However VS really doesn't address the issues stated. The next in line is the SDK tool Mage. Mage works OK but creating deployments is rather tedious and we don't want every developer having our code signing certificate and password.</p> <p>What we ended up doing was rolling our own deployment app that uses the command line version of Mage to create the ClickOnce manifest files.</p> <p>I'm satisfied with our current solution but is seems like there would be an industry-wide accepted approach to this problem. Is there?</p>   \n",
       "3                                                                                                                                                                                                                                                                            <p>In an iOS app I need to provide image filters based on their size (width/height) think of something similar to Large Medium Small in Google images search. Opening each image and reading its dimensions when creating the list would be very performance intensive. Is there a way to get this info without opening the image itself?</p> <p>Damien DeVille answered the question below based on his suggestion I am now using the following code:</p> <pre><code>NSURL *imageURL = [NSURL fileURLWithPath:imagePath]; if (imageURL == nil) return; CGImageSourceRef imageSourceRef = CGImageSourceCreateWithURL((CFURLRef)imageURL NULL); if(imageSourceRef == NULL) return; CFDictionaryRef props = CGImageSourceCopyPropertiesAtIndex(imageSourceRef 0 NULL); CFRelease(imageSourceRef); NSLog(@ %@  (NSDictionary *)props); CFRelease(props); </code></pre>   \n",
       "4                                                                                                                                                                                                                                                                                                                                                                                                                                                                                                                                                                                                                                                                                                                                  <p>I see this line in many online examples of using the Action delegate:</p> <pre><code>public event Action MyEvent; </code></pre> <p>But when I try it in my own code I get this error</p> <blockquote> <p>Using the generic type 'System.Action' requires '1' type arguments</p> </blockquote> <p>The documentation certainly describes a form of Action without any type parameter. What am I missing?</p>   \n",
       "\n",
       "                                             Tags  \n",
       "0  android|url|android-intent|intentfilter|launch  \n",
       "1                                    java|eclipse  \n",
       "2                   winforms|deployment|clickonce  \n",
       "3                                      ios4|uikit  \n",
       "4                             c#|delegates|action  "
      ]
     },
     "execution_count": 4,
     "metadata": {},
     "output_type": "execute_result"
    }
   ],
   "source": [
    "display = None\n",
    "if config[\"preproc\"]:\n",
    "    display = data.head()\n",
    "display"
   ]
  },
  {
   "cell_type": "code",
   "execution_count": 5,
   "metadata": {},
   "outputs": [
    {
     "name": "stdout",
     "output_type": "stream",
     "text": [
      "<class 'pandas.core.frame.DataFrame'>\n",
      "Int64Index: 422825 entries, 0 to 999999\n",
      "Data columns (total 4 columns):\n",
      " #   Column  Non-Null Count   Dtype \n",
      "---  ------  --------------   ----- \n",
      " 0   Id      422825 non-null  int64 \n",
      " 1   Title   422825 non-null  object\n",
      " 2   Body    422825 non-null  object\n",
      " 3   Tags    422825 non-null  object\n",
      "dtypes: int64(1), object(3)\n",
      "memory usage: 16.1+ MB\n"
     ]
    }
   ],
   "source": [
    "if config[\"preproc\"]:\n",
    "    data = data.dropna(subset=[\"Tags\"])\n",
    "    data.info()"
   ]
  },
  {
   "cell_type": "markdown",
   "metadata": {},
   "source": [
    "***\n",
    "## 2.2 Html parsing"
   ]
  },
  {
   "cell_type": "code",
   "execution_count": 6,
   "metadata": {},
   "outputs": [],
   "source": [
    "if config[\"preproc\"]:\n",
    "    def preproc_raw_data_body(cell):\n",
    "        soup = bs(cell, \"html.parser\")\n",
    "\n",
    "        script_tags = soup.find_all(\"script\")\n",
    "        for script_tag in script_tags:\n",
    "            script_tag.extract()\n",
    "\n",
    "        code_tags = soup.find_all(\"code\")\n",
    "        for code_tag in code_tags:\n",
    "            code_tag.extract()\n",
    "\n",
    "        preproc_cell = soup.get_text()\n",
    "        preproc_cell = preproc_cell.replace(',', ' ')\n",
    "\n",
    "        return preproc_cell"
   ]
  },
  {
   "cell_type": "code",
   "execution_count": 7,
   "metadata": {},
   "outputs": [],
   "source": [
    "if config[\"preproc\"]:\n",
    "    data[\"Body\"] = data.apply(lambda row: preproc_raw_data_body(row.Body), axis=1)"
   ]
  },
  {
   "cell_type": "markdown",
   "metadata": {},
   "source": [
    "***\n",
    "## 2.3 Tags to list"
   ]
  },
  {
   "cell_type": "code",
   "execution_count": 8,
   "metadata": {},
   "outputs": [],
   "source": [
    "if config[\"preproc\"]:\n",
    "    def tags_to_list(cell):\n",
    "        return [tag for tag in re.split(r'[|]', cell) if tag]"
   ]
  },
  {
   "cell_type": "code",
   "execution_count": 9,
   "metadata": {},
   "outputs": [],
   "source": [
    "if config[\"preproc\"]:\n",
    "    data[\"Tags\"] = data.apply(lambda row: tags_to_list(row[\"Tags\"]), axis=\"columns\")"
   ]
  },
  {
   "cell_type": "code",
   "execution_count": 10,
   "metadata": {},
   "outputs": [
    {
     "data": {
      "text/html": [
       "<div>\n",
       "<style scoped>\n",
       "    .dataframe tbody tr th:only-of-type {\n",
       "        vertical-align: middle;\n",
       "    }\n",
       "\n",
       "    .dataframe tbody tr th {\n",
       "        vertical-align: top;\n",
       "    }\n",
       "\n",
       "    .dataframe thead th {\n",
       "        text-align: right;\n",
       "    }\n",
       "</style>\n",
       "<table border=\"1\" class=\"dataframe\">\n",
       "  <thead>\n",
       "    <tr style=\"text-align: right;\">\n",
       "      <th></th>\n",
       "      <th>Tags</th>\n",
       "    </tr>\n",
       "  </thead>\n",
       "  <tbody>\n",
       "    <tr>\n",
       "      <th>0</th>\n",
       "      <td>[android, url, android-intent, intentfilter, launch]</td>\n",
       "    </tr>\n",
       "    <tr>\n",
       "      <th>1</th>\n",
       "      <td>[java, eclipse]</td>\n",
       "    </tr>\n",
       "    <tr>\n",
       "      <th>2</th>\n",
       "      <td>[winforms, deployment, clickonce]</td>\n",
       "    </tr>\n",
       "    <tr>\n",
       "      <th>3</th>\n",
       "      <td>[ios4, uikit]</td>\n",
       "    </tr>\n",
       "    <tr>\n",
       "      <th>4</th>\n",
       "      <td>[c#, delegates, action]</td>\n",
       "    </tr>\n",
       "  </tbody>\n",
       "</table>\n",
       "</div>"
      ],
      "text/plain": [
       "                                                   Tags\n",
       "0  [android, url, android-intent, intentfilter, launch]\n",
       "1                                       [java, eclipse]\n",
       "2                     [winforms, deployment, clickonce]\n",
       "3                                         [ios4, uikit]\n",
       "4                               [c#, delegates, action]"
      ]
     },
     "execution_count": 10,
     "metadata": {},
     "output_type": "execute_result"
    }
   ],
   "source": [
    "display = None\n",
    "if config[\"preproc\"]:\n",
    "    display = data[[\"Tags\"]].head()\n",
    "display"
   ]
  },
  {
   "cell_type": "markdown",
   "metadata": {},
   "source": [
    "***\n",
    "## 2.4 Lowering"
   ]
  },
  {
   "cell_type": "code",
   "execution_count": 11,
   "metadata": {},
   "outputs": [],
   "source": [
    "if config[\"preproc\"]:\n",
    "    def lower(cell):\n",
    "        return cell.lower()"
   ]
  },
  {
   "cell_type": "code",
   "execution_count": 12,
   "metadata": {},
   "outputs": [],
   "source": [
    "if config[\"preproc\"]:\n",
    "    data[\"Title\"] = data.apply(lambda row: lower(row[\"Title\"]), axis=\"columns\")\n",
    "    data[\"Body\"] = data.apply(lambda row: lower(row[\"Body\"]), axis=\"columns\")"
   ]
  },
  {
   "cell_type": "code",
   "execution_count": 13,
   "metadata": {},
   "outputs": [
    {
     "data": {
      "text/html": [
       "<div>\n",
       "<style scoped>\n",
       "    .dataframe tbody tr th:only-of-type {\n",
       "        vertical-align: middle;\n",
       "    }\n",
       "\n",
       "    .dataframe tbody tr th {\n",
       "        vertical-align: top;\n",
       "    }\n",
       "\n",
       "    .dataframe thead th {\n",
       "        text-align: right;\n",
       "    }\n",
       "</style>\n",
       "<table border=\"1\" class=\"dataframe\">\n",
       "  <thead>\n",
       "    <tr style=\"text-align: right;\">\n",
       "      <th></th>\n",
       "      <th>Title</th>\n",
       "      <th>Body</th>\n",
       "    </tr>\n",
       "  </thead>\n",
       "  <tbody>\n",
       "    <tr>\n",
       "      <th>0</th>\n",
       "      <td>android respond to url in intent</td>\n",
       "      <td>i want my intent to be launched when the user goes to a certain url: for example the android market does this with http://market.android.com/ urls. so does youtube. i want mine to do that too.</td>\n",
       "    </tr>\n",
       "    <tr>\n",
       "      <th>1</th>\n",
       "      <td>eclipse -- progress windows don't show up any more</td>\n",
       "      <td>i used to see both building and cleaning actions in their own separate windows where i could wait for them to complete before continuing. several weeks ago i must have clicked run in background  because now the progress only appears in a small obscured progress view.  how do i set the progress of things like java build and clean to appear in a popup dialog again?</td>\n",
       "    </tr>\n",
       "    <tr>\n",
       "      <th>2</th>\n",
       "      <td>what's the best way to create clickonce deployments</td>\n",
       "      <td>our team develops distributed winform apps. we use clickonce for deployment and are very pleased with it. however we've found the pain point with clickonce is in creating the deployments. we have the standard dev/test/production environments and need to be able to create deployments for each of these that install and update separate from one another. also we want control over what assemblies get deployed. just because an assembly was compiled doesn't mean we want it deployed. the obvious first choice for creating deployments is visual studio. however vs really doesn't address the issues stated. the next in line is the sdk tool mage. mage works ok but creating deployments is rather tedious and we don't want every developer having our code signing certificate and password. what we ended up doing was rolling our own deployment app that uses the command line version of mage to create the clickonce manifest files. i'm satisfied with our current solution but is seems like there would be an industry-wide accepted approach to this problem. is there?</td>\n",
       "    </tr>\n",
       "    <tr>\n",
       "      <th>3</th>\n",
       "      <td>ios: how to get image dimensions without opening it</td>\n",
       "      <td>in an ios app i need to provide image filters based on their size (width/height) think of something similar to large medium small in google images search. opening each image and reading its dimensions when creating the list would be very performance intensive. is there a way to get this info without opening the image itself? damien deville answered the question below based on his suggestion i am now using the following code:</td>\n",
       "    </tr>\n",
       "    <tr>\n",
       "      <th>4</th>\n",
       "      <td>action delegate with zero parameters</td>\n",
       "      <td>i see this line in many online examples of using the action delegate:  but when i try it in my own code i get this error  using the generic type 'system.action' requires '1' type arguments  the documentation certainly describes a form of action without any type parameter. what am i missing?</td>\n",
       "    </tr>\n",
       "  </tbody>\n",
       "</table>\n",
       "</div>"
      ],
      "text/plain": [
       "                                                 Title  \\\n",
       "0                     android respond to url in intent   \n",
       "1   eclipse -- progress windows don't show up any more   \n",
       "2  what's the best way to create clickonce deployments   \n",
       "3  ios: how to get image dimensions without opening it   \n",
       "4                 action delegate with zero parameters   \n",
       "\n",
       "                                                                                                                                                                                                                                                                                                                                                                                                                                                                                                                                                                                                                                                                                                                                                                                                                                                                                                                                                                                                                                                                                                Body  \n",
       "0                                                                                                                                                                                                                                                                                                                                                                                                                                                                                                                                                                                                                                                                                                                                                                                                                                                                                                   i want my intent to be launched when the user goes to a certain url: for example the android market does this with http://market.android.com/ urls. so does youtube. i want mine to do that too.  \n",
       "1                                                                                                                                                                                                                                                                                                                                                                                                                                                                                                                                                                                                                                                                                                                     i used to see both building and cleaning actions in their own separate windows where i could wait for them to complete before continuing. several weeks ago i must have clicked run in background  because now the progress only appears in a small obscured progress view.  how do i set the progress of things like java build and clean to appear in a popup dialog again?   \n",
       "2  our team develops distributed winform apps. we use clickonce for deployment and are very pleased with it. however we've found the pain point with clickonce is in creating the deployments. we have the standard dev/test/production environments and need to be able to create deployments for each of these that install and update separate from one another. also we want control over what assemblies get deployed. just because an assembly was compiled doesn't mean we want it deployed. the obvious first choice for creating deployments is visual studio. however vs really doesn't address the issues stated. the next in line is the sdk tool mage. mage works ok but creating deployments is rather tedious and we don't want every developer having our code signing certificate and password. what we ended up doing was rolling our own deployment app that uses the command line version of mage to create the clickonce manifest files. i'm satisfied with our current solution but is seems like there would be an industry-wide accepted approach to this problem. is there?  \n",
       "3                                                                                                                                                                                                                                                                                                                                                                                                                                                                                                                                                                                                                                                      in an ios app i need to provide image filters based on their size (width/height) think of something similar to large medium small in google images search. opening each image and reading its dimensions when creating the list would be very performance intensive. is there a way to get this info without opening the image itself? damien deville answered the question below based on his suggestion i am now using the following code:   \n",
       "4                                                                                                                                                                                                                                                                                                                                                                                                                                                                                                                                                                                                                                                                                                                                                                                                i see this line in many online examples of using the action delegate:  but when i try it in my own code i get this error  using the generic type 'system.action' requires '1' type arguments  the documentation certainly describes a form of action without any type parameter. what am i missing?  "
      ]
     },
     "execution_count": 13,
     "metadata": {},
     "output_type": "execute_result"
    }
   ],
   "source": [
    "display = None\n",
    "if config[\"preproc\"]:\n",
    "    display = data[[\"Title\", \"Body\"]].head()\n",
    "display"
   ]
  },
  {
   "cell_type": "markdown",
   "metadata": {},
   "source": [
    "***\n",
    "## 2.5 Save preprocessed data"
   ]
  },
  {
   "cell_type": "code",
   "execution_count": 14,
   "metadata": {},
   "outputs": [
    {
     "data": {
      "text/html": [
       "<div>\n",
       "<style scoped>\n",
       "    .dataframe tbody tr th:only-of-type {\n",
       "        vertical-align: middle;\n",
       "    }\n",
       "\n",
       "    .dataframe tbody tr th {\n",
       "        vertical-align: top;\n",
       "    }\n",
       "\n",
       "    .dataframe thead th {\n",
       "        text-align: right;\n",
       "    }\n",
       "</style>\n",
       "<table border=\"1\" class=\"dataframe\">\n",
       "  <thead>\n",
       "    <tr style=\"text-align: right;\">\n",
       "      <th></th>\n",
       "      <th>Id</th>\n",
       "      <th>Title</th>\n",
       "      <th>Body</th>\n",
       "      <th>Tags</th>\n",
       "    </tr>\n",
       "  </thead>\n",
       "  <tbody>\n",
       "    <tr>\n",
       "      <th>0</th>\n",
       "      <td>525063</td>\n",
       "      <td>android respond to url in intent</td>\n",
       "      <td>i want my intent to be launched when the user goes to a certain url: for example the android market does this with http://market.android.com/ urls. so does youtube. i want mine to do that too.</td>\n",
       "      <td>[android, url, android-intent, intentfilter, launch]</td>\n",
       "    </tr>\n",
       "    <tr>\n",
       "      <th>1</th>\n",
       "      <td>14128723</td>\n",
       "      <td>eclipse -- progress windows don't show up any more</td>\n",
       "      <td>i used to see both building and cleaning actions in their own separate windows where i could wait for them to complete before continuing. several weeks ago i must have clicked run in background  because now the progress only appears in a small obscured progress view.  how do i set the progress of things like java build and clean to appear in a popup dialog again?</td>\n",
       "      <td>[java, eclipse]</td>\n",
       "    </tr>\n",
       "    <tr>\n",
       "      <th>2</th>\n",
       "      <td>20728</td>\n",
       "      <td>what's the best way to create clickonce deployments</td>\n",
       "      <td>our team develops distributed winform apps. we use clickonce for deployment and are very pleased with it. however we've found the pain point with clickonce is in creating the deployments. we have the standard dev/test/production environments and need to be able to create deployments for each of these that install and update separate from one another. also we want control over what assemblies get deployed. just because an assembly was compiled doesn't mean we want it deployed. the obvious first choice for creating deployments is visual studio. however vs really doesn't address the issues stated. the next in line is the sdk tool mage. mage works ok but creating deployments is rather tedious and we don't want every developer having our code signing certificate and password. what we ended up doing was rolling our own deployment app that uses the command line version of mage to create the clickonce manifest files. i'm satisfied with our current solution but is seems like there would be an industry-wide accepted approach to this problem. is there?</td>\n",
       "      <td>[winforms, deployment, clickonce]</td>\n",
       "    </tr>\n",
       "    <tr>\n",
       "      <th>3</th>\n",
       "      <td>6531409</td>\n",
       "      <td>ios: how to get image dimensions without opening it</td>\n",
       "      <td>in an ios app i need to provide image filters based on their size (width/height) think of something similar to large medium small in google images search. opening each image and reading its dimensions when creating the list would be very performance intensive. is there a way to get this info without opening the image itself? damien deville answered the question below based on his suggestion i am now using the following code:</td>\n",
       "      <td>[ios4, uikit]</td>\n",
       "    </tr>\n",
       "    <tr>\n",
       "      <th>4</th>\n",
       "      <td>593205</td>\n",
       "      <td>action delegate with zero parameters</td>\n",
       "      <td>i see this line in many online examples of using the action delegate:  but when i try it in my own code i get this error  using the generic type 'system.action' requires '1' type arguments  the documentation certainly describes a form of action without any type parameter. what am i missing?</td>\n",
       "      <td>[c#, delegates, action]</td>\n",
       "    </tr>\n",
       "  </tbody>\n",
       "</table>\n",
       "</div>"
      ],
      "text/plain": [
       "         Id                                                Title  \\\n",
       "0    525063                     android respond to url in intent   \n",
       "1  14128723   eclipse -- progress windows don't show up any more   \n",
       "2     20728  what's the best way to create clickonce deployments   \n",
       "3   6531409  ios: how to get image dimensions without opening it   \n",
       "4    593205                 action delegate with zero parameters   \n",
       "\n",
       "                                                                                                                                                                                                                                                                                                                                                                                                                                                                                                                                                                                                                                                                                                                                                                                                                                                                                                                                                                                                                                                                                                Body  \\\n",
       "0                                                                                                                                                                                                                                                                                                                                                                                                                                                                                                                                                                                                                                                                                                                                                                                                                                                                                                   i want my intent to be launched when the user goes to a certain url: for example the android market does this with http://market.android.com/ urls. so does youtube. i want mine to do that too.   \n",
       "1                                                                                                                                                                                                                                                                                                                                                                                                                                                                                                                                                                                                                                                                                                                     i used to see both building and cleaning actions in their own separate windows where i could wait for them to complete before continuing. several weeks ago i must have clicked run in background  because now the progress only appears in a small obscured progress view.  how do i set the progress of things like java build and clean to appear in a popup dialog again?    \n",
       "2  our team develops distributed winform apps. we use clickonce for deployment and are very pleased with it. however we've found the pain point with clickonce is in creating the deployments. we have the standard dev/test/production environments and need to be able to create deployments for each of these that install and update separate from one another. also we want control over what assemblies get deployed. just because an assembly was compiled doesn't mean we want it deployed. the obvious first choice for creating deployments is visual studio. however vs really doesn't address the issues stated. the next in line is the sdk tool mage. mage works ok but creating deployments is rather tedious and we don't want every developer having our code signing certificate and password. what we ended up doing was rolling our own deployment app that uses the command line version of mage to create the clickonce manifest files. i'm satisfied with our current solution but is seems like there would be an industry-wide accepted approach to this problem. is there?   \n",
       "3                                                                                                                                                                                                                                                                                                                                                                                                                                                                                                                                                                                                                                                      in an ios app i need to provide image filters based on their size (width/height) think of something similar to large medium small in google images search. opening each image and reading its dimensions when creating the list would be very performance intensive. is there a way to get this info without opening the image itself? damien deville answered the question below based on his suggestion i am now using the following code:    \n",
       "4                                                                                                                                                                                                                                                                                                                                                                                                                                                                                                                                                                                                                                                                                                                                                                                                i see this line in many online examples of using the action delegate:  but when i try it in my own code i get this error  using the generic type 'system.action' requires '1' type arguments  the documentation certainly describes a form of action without any type parameter. what am i missing?   \n",
       "\n",
       "                                                   Tags  \n",
       "0  [android, url, android-intent, intentfilter, launch]  \n",
       "1                                       [java, eclipse]  \n",
       "2                     [winforms, deployment, clickonce]  \n",
       "3                                         [ios4, uikit]  \n",
       "4                               [c#, delegates, action]  "
      ]
     },
     "execution_count": 14,
     "metadata": {},
     "output_type": "execute_result"
    }
   ],
   "source": [
    "display = None\n",
    "if config[\"preproc\"]:\n",
    "    display = data.head()\n",
    "display"
   ]
  },
  {
   "cell_type": "code",
   "execution_count": 15,
   "metadata": {},
   "outputs": [],
   "source": [
    "if config[\"preproc\"]:\n",
    "    data.to_csv(\"data/stackoverflow_posts_preprocessed.csv\", index=False)"
   ]
  },
  {
   "cell_type": "markdown",
   "metadata": {},
   "source": [
    "***\n",
    "# 3 Data preprocessing"
   ]
  },
  {
   "cell_type": "markdown",
   "metadata": {},
   "source": [
    "## 3.0 Utils"
   ]
  },
  {
   "cell_type": "code",
   "execution_count": 18,
   "metadata": {},
   "outputs": [],
   "source": [
    "if config[\"processing\"]:\n",
    "    def tokenize(*texts):\n",
    "        tokens = []\n",
    "        for text in texts:\n",
    "            # https://regex101.com/\n",
    "            tokenizer = nltk.RegexpTokenizer(r'\\.?[a-z#]+')\n",
    "            tokens_temp = tokenizer.tokenize(text)\n",
    "            tokens += [re.sub(\"(.)\\\\1{3,}\", \"\\\\1\", token) for token in tokens_temp]\n",
    "        return tokens"
   ]
  },
  {
   "cell_type": "code",
   "execution_count": 19,
   "metadata": {},
   "outputs": [],
   "source": [
    "if config[\"processing\"]:\n",
    "    def remove_stop_words(cell):\n",
    "        return [word for word in cell if word not in stop_words]"
   ]
  },
  {
   "cell_type": "code",
   "execution_count": 20,
   "metadata": {},
   "outputs": [],
   "source": [
    "if config[\"processing\"]:\n",
    "    def get_wordnet_pos(treebank_tag):\n",
    "        if treebank_tag.startswith('J'):\n",
    "            return wordnet.ADJ\n",
    "        elif treebank_tag.startswith('V'):\n",
    "            return wordnet.VERB\n",
    "        elif treebank_tag.startswith('N'):\n",
    "            return wordnet.NOUN\n",
    "        elif treebank_tag.startswith('R'):\n",
    "            return wordnet.ADV\n",
    "        else:\n",
    "            return 'n'"
   ]
  },
  {
   "cell_type": "code",
   "execution_count": 21,
   "metadata": {},
   "outputs": [],
   "source": [
    "if config[\"processing\"]:\n",
    "    def tag_pos(cell):\n",
    "        treebank_tags = pos_tag(cell)\n",
    "        pos = [(tag[0], get_wordnet_pos(tag[1])) for tag in treebank_tags]\n",
    "        return pos"
   ]
  },
  {
   "cell_type": "code",
   "execution_count": 22,
   "metadata": {},
   "outputs": [],
   "source": [
    "if config[\"processing\"]:\n",
    "    def lemmatize(cell, with_pos=False):\n",
    "        lemmatizer = WordNetLemmatizer()\n",
    "        if not with_pos:\n",
    "            lemmatized_tokens = [lemmatizer.lemmatize(token) for token in cell]\n",
    "        else:\n",
    "            lemmatized_tokens = [lemmatizer.lemmatize(pair[0], pos=pair[1]) for pair in cell]\n",
    "        return lemmatized_tokens"
   ]
  },
  {
   "cell_type": "code",
   "execution_count": 23,
   "metadata": {},
   "outputs": [],
   "source": [
    "if config[\"processing\"]:\n",
    "    def stemmize(cell):\n",
    "        stemmer = SnowballStemmer(\"english\")\n",
    "        stemmed_tokens = [stemmer.stem(token) for token in cell]\n",
    "        return stemmed_tokens"
   ]
  },
  {
   "cell_type": "markdown",
   "metadata": {},
   "source": [
    "***\n",
    "## 3.1 Loading data"
   ]
  },
  {
   "cell_type": "code",
   "execution_count": 24,
   "metadata": {},
   "outputs": [
    {
     "name": "stderr",
     "output_type": "stream",
     "text": [
      "/opt/anaconda/lib/python3.8/site-packages/IPython/core/interactiveshell.py:3444: DtypeWarning: Columns (0) have mixed types.Specify dtype option on import or set low_memory=False.\n",
      "  exec(code_obj, self.user_global_ns, self.user_ns)\n"
     ]
    },
    {
     "name": "stdout",
     "output_type": "stream",
     "text": [
      "<class 'pandas.core.frame.DataFrame'>\n",
      "Index: 570825 entries, 525063 to 19839956\n",
      "Data columns (total 3 columns):\n",
      " #   Column  Non-Null Count   Dtype \n",
      "---  ------  --------------   ----- \n",
      " 0   Title   570825 non-null  object\n",
      " 1   Body    570603 non-null  object\n",
      " 2   Tags    422822 non-null  object\n",
      "dtypes: object(3)\n",
      "memory usage: 17.4+ MB\n"
     ]
    }
   ],
   "source": [
    "if config[\"processing\"]:\n",
    "    data = pd.read_csv(\"data/stackoverflow_posts_preprocessed.csv\", index_col=\"Id\")\n",
    "    data.info()"
   ]
  },
  {
   "cell_type": "code",
   "execution_count": 41,
   "metadata": {},
   "outputs": [
    {
     "name": "stdout",
     "output_type": "stream",
     "text": [
      "<class 'pandas.core.frame.DataFrame'>\n",
      "Index: 422603 entries, 525063 to 19839956\n",
      "Data columns (total 3 columns):\n",
      " #   Column  Non-Null Count   Dtype \n",
      "---  ------  --------------   ----- \n",
      " 0   Title   422603 non-null  object\n",
      " 1   Body    422603 non-null  object\n",
      " 2   Tags    422603 non-null  object\n",
      "dtypes: object(3)\n",
      "memory usage: 12.9+ MB\n"
     ]
    }
   ],
   "source": [
    "if config[\"processing\"]:\n",
    "    data = data.dropna()\n",
    "    data.info()"
   ]
  },
  {
   "cell_type": "code",
   "execution_count": 40,
   "metadata": {},
   "outputs": [
    {
     "data": {
      "text/html": [
       "<div>\n",
       "<style scoped>\n",
       "    .dataframe tbody tr th:only-of-type {\n",
       "        vertical-align: middle;\n",
       "    }\n",
       "\n",
       "    .dataframe tbody tr th {\n",
       "        vertical-align: top;\n",
       "    }\n",
       "\n",
       "    .dataframe thead th {\n",
       "        text-align: right;\n",
       "    }\n",
       "</style>\n",
       "<table border=\"1\" class=\"dataframe\">\n",
       "  <thead>\n",
       "    <tr style=\"text-align: right;\">\n",
       "      <th></th>\n",
       "      <th>Title</th>\n",
       "      <th>Body</th>\n",
       "      <th>Tags</th>\n",
       "    </tr>\n",
       "    <tr>\n",
       "      <th>Id</th>\n",
       "      <th></th>\n",
       "      <th></th>\n",
       "      <th></th>\n",
       "    </tr>\n",
       "  </thead>\n",
       "  <tbody>\n",
       "    <tr>\n",
       "      <th>525063</th>\n",
       "      <td>android respond to url in intent</td>\n",
       "      <td>i want my intent to be launched when the user goes to a certain url: for example the android market does this with http://market.android.com/ urls. so does youtube. i want mine to do that too.</td>\n",
       "      <td>['android', 'url', 'android-intent', 'intentfilter', 'launch']</td>\n",
       "    </tr>\n",
       "    <tr>\n",
       "      <th>14128723</th>\n",
       "      <td>eclipse -- progress windows don't show up any more</td>\n",
       "      <td>i used to see both building and cleaning actions in their own separate windows where i could wait for them to complete before continuing. several weeks ago i must have clicked run in background  because now the progress only appears in a small obscured progress view.  how do i set the progress of things like java build and clean to appear in a popup dialog again?</td>\n",
       "      <td>['java', 'eclipse']</td>\n",
       "    </tr>\n",
       "    <tr>\n",
       "      <th>20728</th>\n",
       "      <td>what's the best way to create clickonce deployments</td>\n",
       "      <td>our team develops distributed winform apps. we use clickonce for deployment and are very pleased with it. however we've found the pain point with clickonce is in creating the deployments. we have the standard dev/test/production environments and need to be able to create deployments for each of these that install and update separate from one another. also we want control over what assemblies get deployed. just because an assembly was compiled doesn't mean we want it deployed. the obvious first choice for creating deployments is visual studio. however vs really doesn't address the issues stated. the next in line is the sdk tool mage. mage works ok but creating deployments is rather tedious and we don't want every developer having our code signing certificate and password. what we ended up doing was rolling our own deployment app that uses the command line version of mage to create the clickonce manifest files. i'm satisfied with our current solution but is seems like there would be an industry-wide accepted approach to this problem. is there?</td>\n",
       "      <td>['winforms', 'deployment', 'clickonce']</td>\n",
       "    </tr>\n",
       "    <tr>\n",
       "      <th>6531409</th>\n",
       "      <td>ios: how to get image dimensions without opening it</td>\n",
       "      <td>in an ios app i need to provide image filters based on their size (width/height) think of something similar to large medium small in google images search. opening each image and reading its dimensions when creating the list would be very performance intensive. is there a way to get this info without opening the image itself? damien deville answered the question below based on his suggestion i am now using the following code:</td>\n",
       "      <td>['ios4', 'uikit']</td>\n",
       "    </tr>\n",
       "    <tr>\n",
       "      <th>593205</th>\n",
       "      <td>action delegate with zero parameters</td>\n",
       "      <td>i see this line in many online examples of using the action delegate:  but when i try it in my own code i get this error  using the generic type 'system.action' requires '1' type arguments  the documentation certainly describes a form of action without any type parameter. what am i missing?</td>\n",
       "      <td>['c#', 'delegates', 'action']</td>\n",
       "    </tr>\n",
       "  </tbody>\n",
       "</table>\n",
       "</div>"
      ],
      "text/plain": [
       "                                                        Title  \\\n",
       "Id                                                              \n",
       "525063                       android respond to url in intent   \n",
       "14128723   eclipse -- progress windows don't show up any more   \n",
       "20728     what's the best way to create clickonce deployments   \n",
       "6531409   ios: how to get image dimensions without opening it   \n",
       "593205                   action delegate with zero parameters   \n",
       "\n",
       "                                                                                                                                                                                                                                                                                                                                                                                                                                                                                                                                                                                                                                                                                                                                                                                                                                                                                                                                                                                                                                                                                                       Body  \\\n",
       "Id                                                                                                                                                                                                                                                                                                                                                                                                                                                                                                                                                                                                                                                                                                                                                                                                                                                                                                                                                                                                                                                                                                            \n",
       "525063                                                                                                                                                                                                                                                                                                                                                                                                                                                                                                                                                                                                                                                                                                                                                                                                                                                                                                     i want my intent to be launched when the user goes to a certain url: for example the android market does this with http://market.android.com/ urls. so does youtube. i want mine to do that too.   \n",
       "14128723                                                                                                                                                                                                                                                                                                                                                                                                                                                                                                                                                                                                                                                                                                                     i used to see both building and cleaning actions in their own separate windows where i could wait for them to complete before continuing. several weeks ago i must have clicked run in background  because now the progress only appears in a small obscured progress view.  how do i set the progress of things like java build and clean to appear in a popup dialog again?    \n",
       "20728     our team develops distributed winform apps. we use clickonce for deployment and are very pleased with it. however we've found the pain point with clickonce is in creating the deployments. we have the standard dev/test/production environments and need to be able to create deployments for each of these that install and update separate from one another. also we want control over what assemblies get deployed. just because an assembly was compiled doesn't mean we want it deployed. the obvious first choice for creating deployments is visual studio. however vs really doesn't address the issues stated. the next in line is the sdk tool mage. mage works ok but creating deployments is rather tedious and we don't want every developer having our code signing certificate and password. what we ended up doing was rolling our own deployment app that uses the command line version of mage to create the clickonce manifest files. i'm satisfied with our current solution but is seems like there would be an industry-wide accepted approach to this problem. is there?   \n",
       "6531409                                                                                                                                                                                                                                                                                                                                                                                                                                                                                                                                                                                                                                                       in an ios app i need to provide image filters based on their size (width/height) think of something similar to large medium small in google images search. opening each image and reading its dimensions when creating the list would be very performance intensive. is there a way to get this info without opening the image itself? damien deville answered the question below based on his suggestion i am now using the following code:    \n",
       "593205                                                                                                                                                                                                                                                                                                                                                                                                                                                                                                                                                                                                                                                                                                                                                                                                  i see this line in many online examples of using the action delegate:  but when i try it in my own code i get this error  using the generic type 'system.action' requires '1' type arguments  the documentation certainly describes a form of action without any type parameter. what am i missing?   \n",
       "\n",
       "                                                                    Tags  \n",
       "Id                                                                        \n",
       "525063    ['android', 'url', 'android-intent', 'intentfilter', 'launch']  \n",
       "14128723                                             ['java', 'eclipse']  \n",
       "20728                            ['winforms', 'deployment', 'clickonce']  \n",
       "6531409                                                ['ios4', 'uikit']  \n",
       "593205                                     ['c#', 'delegates', 'action']  "
      ]
     },
     "execution_count": 40,
     "metadata": {},
     "output_type": "execute_result"
    }
   ],
   "source": [
    "display = None\n",
    "if config[\"processing\"]:\n",
    "    display = data.head()\n",
    "display"
   ]
  },
  {
   "cell_type": "markdown",
   "metadata": {},
   "source": [
    "***\n",
    "## 3.2 Creating unique corpus"
   ]
  },
  {
   "cell_type": "code",
   "execution_count": 27,
   "metadata": {},
   "outputs": [],
   "source": [
    "if config[\"processing\"]:\n",
    "    unique_corpus_body = \" \".join([str(item) for item in data[\"Body\"].values])\n",
    "    unique_corpus_title = \" \".join([str(item) for item in data[\"Title\"].values])\n",
    "    unique_corpus = unique_corpus_body + unique_corpus_title\n",
    "    unique_corpus = tokenize(unique_corpus)"
   ]
  },
  {
   "cell_type": "code",
   "execution_count": 28,
   "metadata": {},
   "outputs": [
    {
     "data": {
      "text/plain": [
       "['i', 'want', 'my', 'intent', 'to', 'be', 'launched', 'when', 'the', 'user']"
      ]
     },
     "execution_count": 28,
     "metadata": {},
     "output_type": "execute_result"
    }
   ],
   "source": [
    "display = None\n",
    "if config[\"processing\"]:\n",
    "    display = unique_corpus[:10]\n",
    "display"
   ]
  },
  {
   "cell_type": "markdown",
   "metadata": {},
   "source": [
    "***\n",
    "## 3.2 Tokenize"
   ]
  },
  {
   "cell_type": "code",
   "execution_count": 44,
   "metadata": {},
   "outputs": [],
   "source": [
    "if config[\"processing\"]:\n",
    "    data[\"Tokens\"] = data.apply(lambda row: tokenize(row[\"Body\"] + row[\"Title\"]), axis=\"columns\")"
   ]
  },
  {
   "cell_type": "code",
   "execution_count": 45,
   "metadata": {},
   "outputs": [
    {
     "data": {
      "text/html": [
       "<div>\n",
       "<style scoped>\n",
       "    .dataframe tbody tr th:only-of-type {\n",
       "        vertical-align: middle;\n",
       "    }\n",
       "\n",
       "    .dataframe tbody tr th {\n",
       "        vertical-align: top;\n",
       "    }\n",
       "\n",
       "    .dataframe thead th {\n",
       "        text-align: right;\n",
       "    }\n",
       "</style>\n",
       "<table border=\"1\" class=\"dataframe\">\n",
       "  <thead>\n",
       "    <tr style=\"text-align: right;\">\n",
       "      <th></th>\n",
       "      <th>Title</th>\n",
       "      <th>Body</th>\n",
       "      <th>Tokens</th>\n",
       "    </tr>\n",
       "    <tr>\n",
       "      <th>Id</th>\n",
       "      <th></th>\n",
       "      <th></th>\n",
       "      <th></th>\n",
       "    </tr>\n",
       "  </thead>\n",
       "  <tbody>\n",
       "    <tr>\n",
       "      <th>525063</th>\n",
       "      <td>android respond to url in intent</td>\n",
       "      <td>i want my intent to be launched when the user goes to a certain url: for example the android market does this with http://market.android.com/ urls. so does youtube. i want mine to do that too.</td>\n",
       "      <td>[i, want, my, intent, to, be, launched, when, the, user, goes, to, a, certain, url, for, example, the, android, market, does, this, with, http, market, .android, .com, urls, so, does, youtube, i, want, mine, to, do, that, too, .android, respond, to, url, in, intent]</td>\n",
       "    </tr>\n",
       "    <tr>\n",
       "      <th>14128723</th>\n",
       "      <td>eclipse -- progress windows don't show up any more</td>\n",
       "      <td>i used to see both building and cleaning actions in their own separate windows where i could wait for them to complete before continuing. several weeks ago i must have clicked run in background  because now the progress only appears in a small obscured progress view.  how do i set the progress of things like java build and clean to appear in a popup dialog again?</td>\n",
       "      <td>[i, used, to, see, both, building, and, cleaning, actions, in, their, own, separate, windows, where, i, could, wait, for, them, to, complete, before, continuing, several, weeks, ago, i, must, have, clicked, run, in, background, because, now, the, progress, only, appears, in, a, small, obscured, progress, view, how, do, i, set, the, progress, of, things, like, java, build, and, clean, to, appear, in, a, popup, dialog, again, eclipse, progress, windows, don, t, show, up, any, more]</td>\n",
       "    </tr>\n",
       "    <tr>\n",
       "      <th>20728</th>\n",
       "      <td>what's the best way to create clickonce deployments</td>\n",
       "      <td>our team develops distributed winform apps. we use clickonce for deployment and are very pleased with it. however we've found the pain point with clickonce is in creating the deployments. we have the standard dev/test/production environments and need to be able to create deployments for each of these that install and update separate from one another. also we want control over what assemblies get deployed. just because an assembly was compiled doesn't mean we want it deployed. the obvious first choice for creating deployments is visual studio. however vs really doesn't address the issues stated. the next in line is the sdk tool mage. mage works ok but creating deployments is rather tedious and we don't want every developer having our code signing certificate and password. what we ended up doing was rolling our own deployment app that uses the command line version of mage to create the clickonce manifest files. i'm satisfied with our current solution but is seems like there would be an industry-wide accepted approach to this problem. is there?</td>\n",
       "      <td>[our, team, develops, distributed, winform, apps, we, use, clickonce, for, deployment, and, are, very, pleased, with, it, however, we, ve, found, the, pain, point, with, clickonce, is, in, creating, the, deployments, we, have, the, standard, dev, test, production, environments, and, need, to, be, able, to, create, deployments, for, each, of, these, that, install, and, update, separate, from, one, another, also, we, want, control, over, what, assemblies, get, deployed, just, because, an, assembly, was, compiled, doesn, t, mean, we, want, it, deployed, the, obvious, first, choice, for, creating, deployments, is, visual, studio, however, vs, really, doesn, t, address, the, issues, stated, ...]</td>\n",
       "    </tr>\n",
       "    <tr>\n",
       "      <th>6531409</th>\n",
       "      <td>ios: how to get image dimensions without opening it</td>\n",
       "      <td>in an ios app i need to provide image filters based on their size (width/height) think of something similar to large medium small in google images search. opening each image and reading its dimensions when creating the list would be very performance intensive. is there a way to get this info without opening the image itself? damien deville answered the question below based on his suggestion i am now using the following code:</td>\n",
       "      <td>[in, an, ios, app, i, need, to, provide, image, filters, based, on, their, size, width, height, think, of, something, similar, to, large, medium, small, in, google, images, search, opening, each, image, and, reading, its, dimensions, when, creating, the, list, would, be, very, performance, intensive, is, there, a, way, to, get, this, info, without, opening, the, image, itself, damien, deville, answered, the, question, below, based, on, his, suggestion, i, am, now, using, the, following, code, ios, how, to, get, image, dimensions, without, opening, it]</td>\n",
       "    </tr>\n",
       "    <tr>\n",
       "      <th>593205</th>\n",
       "      <td>action delegate with zero parameters</td>\n",
       "      <td>i see this line in many online examples of using the action delegate:  but when i try it in my own code i get this error  using the generic type 'system.action' requires '1' type arguments  the documentation certainly describes a form of action without any type parameter. what am i missing?</td>\n",
       "      <td>[i, see, this, line, in, many, online, examples, of, using, the, action, delegate, but, when, i, try, it, in, my, own, code, i, get, this, error, using, the, generic, type, system, .action, requires, type, arguments, the, documentation, certainly, describes, a, form, of, action, without, any, type, parameter, what, am, i, missing, action, delegate, with, zero, parameters]</td>\n",
       "    </tr>\n",
       "  </tbody>\n",
       "</table>\n",
       "</div>"
      ],
      "text/plain": [
       "                                                        Title  \\\n",
       "Id                                                              \n",
       "525063                       android respond to url in intent   \n",
       "14128723   eclipse -- progress windows don't show up any more   \n",
       "20728     what's the best way to create clickonce deployments   \n",
       "6531409   ios: how to get image dimensions without opening it   \n",
       "593205                   action delegate with zero parameters   \n",
       "\n",
       "                                                                                                                                                                                                                                                                                                                                                                                                                                                                                                                                                                                                                                                                                                                                                                                                                                                                                                                                                                                                                                                                                                       Body  \\\n",
       "Id                                                                                                                                                                                                                                                                                                                                                                                                                                                                                                                                                                                                                                                                                                                                                                                                                                                                                                                                                                                                                                                                                                            \n",
       "525063                                                                                                                                                                                                                                                                                                                                                                                                                                                                                                                                                                                                                                                                                                                                                                                                                                                                                                     i want my intent to be launched when the user goes to a certain url: for example the android market does this with http://market.android.com/ urls. so does youtube. i want mine to do that too.   \n",
       "14128723                                                                                                                                                                                                                                                                                                                                                                                                                                                                                                                                                                                                                                                                                                                     i used to see both building and cleaning actions in their own separate windows where i could wait for them to complete before continuing. several weeks ago i must have clicked run in background  because now the progress only appears in a small obscured progress view.  how do i set the progress of things like java build and clean to appear in a popup dialog again?    \n",
       "20728     our team develops distributed winform apps. we use clickonce for deployment and are very pleased with it. however we've found the pain point with clickonce is in creating the deployments. we have the standard dev/test/production environments and need to be able to create deployments for each of these that install and update separate from one another. also we want control over what assemblies get deployed. just because an assembly was compiled doesn't mean we want it deployed. the obvious first choice for creating deployments is visual studio. however vs really doesn't address the issues stated. the next in line is the sdk tool mage. mage works ok but creating deployments is rather tedious and we don't want every developer having our code signing certificate and password. what we ended up doing was rolling our own deployment app that uses the command line version of mage to create the clickonce manifest files. i'm satisfied with our current solution but is seems like there would be an industry-wide accepted approach to this problem. is there?   \n",
       "6531409                                                                                                                                                                                                                                                                                                                                                                                                                                                                                                                                                                                                                                                       in an ios app i need to provide image filters based on their size (width/height) think of something similar to large medium small in google images search. opening each image and reading its dimensions when creating the list would be very performance intensive. is there a way to get this info without opening the image itself? damien deville answered the question below based on his suggestion i am now using the following code:    \n",
       "593205                                                                                                                                                                                                                                                                                                                                                                                                                                                                                                                                                                                                                                                                                                                                                                                                  i see this line in many online examples of using the action delegate:  but when i try it in my own code i get this error  using the generic type 'system.action' requires '1' type arguments  the documentation certainly describes a form of action without any type parameter. what am i missing?   \n",
       "\n",
       "                                                                                                                                                                                                                                                                                                                                                                                                                                                                                                                                                                                                                                                                                                                               Tokens  \n",
       "Id                                                                                                                                                                                                                                                                                                                                                                                                                                                                                                                                                                                                                                                                                                                                     \n",
       "525063                                                                                                                                                                                                                                                                                                                                                                                                                                                     [i, want, my, intent, to, be, launched, when, the, user, goes, to, a, certain, url, for, example, the, android, market, does, this, with, http, market, .android, .com, urls, so, does, youtube, i, want, mine, to, do, that, too, .android, respond, to, url, in, intent]  \n",
       "14128723                                                                                                                                                                                                                         [i, used, to, see, both, building, and, cleaning, actions, in, their, own, separate, windows, where, i, could, wait, for, them, to, complete, before, continuing, several, weeks, ago, i, must, have, clicked, run, in, background, because, now, the, progress, only, appears, in, a, small, obscured, progress, view, how, do, i, set, the, progress, of, things, like, java, build, and, clean, to, appear, in, a, popup, dialog, again, eclipse, progress, windows, don, t, show, up, any, more]  \n",
       "20728     [our, team, develops, distributed, winform, apps, we, use, clickonce, for, deployment, and, are, very, pleased, with, it, however, we, ve, found, the, pain, point, with, clickonce, is, in, creating, the, deployments, we, have, the, standard, dev, test, production, environments, and, need, to, be, able, to, create, deployments, for, each, of, these, that, install, and, update, separate, from, one, another, also, we, want, control, over, what, assemblies, get, deployed, just, because, an, assembly, was, compiled, doesn, t, mean, we, want, it, deployed, the, obvious, first, choice, for, creating, deployments, is, visual, studio, however, vs, really, doesn, t, address, the, issues, stated, ...]  \n",
       "6531409                                                                                                                                                 [in, an, ios, app, i, need, to, provide, image, filters, based, on, their, size, width, height, think, of, something, similar, to, large, medium, small, in, google, images, search, opening, each, image, and, reading, its, dimensions, when, creating, the, list, would, be, very, performance, intensive, is, there, a, way, to, get, this, info, without, opening, the, image, itself, damien, deville, answered, the, question, below, based, on, his, suggestion, i, am, now, using, the, following, code, ios, how, to, get, image, dimensions, without, opening, it]  \n",
       "593205                                                                                                                                                                                                                                                                                                                                         [i, see, this, line, in, many, online, examples, of, using, the, action, delegate, but, when, i, try, it, in, my, own, code, i, get, this, error, using, the, generic, type, system, .action, requires, type, arguments, the, documentation, certainly, describes, a, form, of, action, without, any, type, parameter, what, am, i, missing, action, delegate, with, zero, parameters]  "
      ]
     },
     "execution_count": 45,
     "metadata": {},
     "output_type": "execute_result"
    }
   ],
   "source": [
    "display = None\n",
    "if config[\"processing\"]:\n",
    "    display = data[[\"Title\", \"Body\", \"Tokens\"]].head()\n",
    "display"
   ]
  },
  {
   "cell_type": "markdown",
   "metadata": {},
   "source": [
    "***\n",
    "## 3.3 StopWords deletion"
   ]
  },
  {
   "cell_type": "code",
   "execution_count": 46,
   "metadata": {},
   "outputs": [
    {
     "name": "stdout",
     "output_type": "stream",
     "text": [
      "stopwords: ['i', 'me', 'my', 'myself', 'we', 'our', 'ours', 'ourselves', 'you', \"you're\", \"you've\", \"you'll\", \"you'd\", 'your', 'yours', 'yourself', 'yourselves', 'he', 'him', 'his', 'himself', 'she', \"she's\", 'her', 'hers', 'herself', 'it', \"it's\", 'its', 'itself', 'they', 'them', 'their', 'theirs', 'themselves', 'what', 'which', 'who', 'whom', 'this', 'that', \"that'll\", 'these', 'those', 'am', 'is', 'are', 'was', 'were', 'be', 'been', 'being', 'have', 'has', 'had', 'having', 'do', 'does', 'did', 'doing', 'a', 'an', 'the', 'and', 'but', 'if', 'or', 'because', 'as', 'until', 'while', 'of', 'at', 'by', 'for', 'with', 'about', 'against', 'between', 'into', 'through', 'during', 'before', 'after', 'above', 'below', 'to', 'from', 'up', 'down', 'in', 'out', 'on', 'off', 'over', 'under', 'again', 'further', 'then', 'once', 'here', 'there', 'when', 'where', 'why', 'how', 'all', 'any', 'both', 'each', 'few', 'more', 'most', 'other', 'some', 'such', 'no', 'nor', 'not', 'only', 'own', 'same', 'so', 'than', 'too', 'very', 's', 't', 'can', 'will', 'just', 'don', \"don't\", 'should', \"should've\", 'now', 'd', 'll', 'm', 'o', 're', 've', 'y', 'ain', 'aren', \"aren't\", 'couldn', \"couldn't\", 'didn', \"didn't\", 'doesn', \"doesn't\", 'hadn', \"hadn't\", 'hasn', \"hasn't\", 'haven', \"haven't\", 'isn', \"isn't\", 'ma', 'mightn', \"mightn't\", 'mustn', \"mustn't\", 'needn', \"needn't\", 'shan', \"shan't\", 'shouldn', \"shouldn't\", 'wasn', \"wasn't\", 'weren', \"weren't\", 'won', \"won't\", 'wouldn', \"wouldn't\"]\n"
     ]
    }
   ],
   "source": [
    "if config[\"processing\"]:\n",
    "    stop_words = stopwords.words(\"english\")\n",
    "    print(f\"stopwords: {stop_words}\")"
   ]
  },
  {
   "cell_type": "code",
   "execution_count": 47,
   "metadata": {},
   "outputs": [],
   "source": [
    "if config[\"processing\"]:\n",
    "    data[\"Tokens\"] = data.apply(lambda row: remove_stop_words(row[\"Tokens\"]), axis=\"columns\")"
   ]
  },
  {
   "cell_type": "code",
   "execution_count": 48,
   "metadata": {},
   "outputs": [
    {
     "data": {
      "text/html": [
       "<div>\n",
       "<style scoped>\n",
       "    .dataframe tbody tr th:only-of-type {\n",
       "        vertical-align: middle;\n",
       "    }\n",
       "\n",
       "    .dataframe tbody tr th {\n",
       "        vertical-align: top;\n",
       "    }\n",
       "\n",
       "    .dataframe thead th {\n",
       "        text-align: right;\n",
       "    }\n",
       "</style>\n",
       "<table border=\"1\" class=\"dataframe\">\n",
       "  <thead>\n",
       "    <tr style=\"text-align: right;\">\n",
       "      <th></th>\n",
       "      <th>Title</th>\n",
       "      <th>Body</th>\n",
       "      <th>Tokens</th>\n",
       "    </tr>\n",
       "    <tr>\n",
       "      <th>Id</th>\n",
       "      <th></th>\n",
       "      <th></th>\n",
       "      <th></th>\n",
       "    </tr>\n",
       "  </thead>\n",
       "  <tbody>\n",
       "    <tr>\n",
       "      <th>525063</th>\n",
       "      <td>android respond to url in intent</td>\n",
       "      <td>i want my intent to be launched when the user goes to a certain url: for example the android market does this with http://market.android.com/ urls. so does youtube. i want mine to do that too.</td>\n",
       "      <td>[want, intent, launched, user, goes, certain, url, example, android, market, http, market, .android, .com, urls, youtube, want, mine, .android, respond, url, intent]</td>\n",
       "    </tr>\n",
       "    <tr>\n",
       "      <th>14128723</th>\n",
       "      <td>eclipse -- progress windows don't show up any more</td>\n",
       "      <td>i used to see both building and cleaning actions in their own separate windows where i could wait for them to complete before continuing. several weeks ago i must have clicked run in background  because now the progress only appears in a small obscured progress view.  how do i set the progress of things like java build and clean to appear in a popup dialog again?</td>\n",
       "      <td>[used, see, building, cleaning, actions, separate, windows, could, wait, complete, continuing, several, weeks, ago, must, clicked, run, background, progress, appears, small, obscured, progress, view, set, progress, things, like, java, build, clean, appear, popup, dialog, eclipse, progress, windows, show]</td>\n",
       "    </tr>\n",
       "    <tr>\n",
       "      <th>20728</th>\n",
       "      <td>what's the best way to create clickonce deployments</td>\n",
       "      <td>our team develops distributed winform apps. we use clickonce for deployment and are very pleased with it. however we've found the pain point with clickonce is in creating the deployments. we have the standard dev/test/production environments and need to be able to create deployments for each of these that install and update separate from one another. also we want control over what assemblies get deployed. just because an assembly was compiled doesn't mean we want it deployed. the obvious first choice for creating deployments is visual studio. however vs really doesn't address the issues stated. the next in line is the sdk tool mage. mage works ok but creating deployments is rather tedious and we don't want every developer having our code signing certificate and password. what we ended up doing was rolling our own deployment app that uses the command line version of mage to create the clickonce manifest files. i'm satisfied with our current solution but is seems like there would be an industry-wide accepted approach to this problem. is there?</td>\n",
       "      <td>[team, develops, distributed, winform, apps, use, clickonce, deployment, pleased, however, found, pain, point, clickonce, creating, deployments, standard, dev, test, production, environments, need, able, create, deployments, install, update, separate, one, another, also, want, control, assemblies, get, deployed, assembly, compiled, mean, want, deployed, obvious, first, choice, creating, deployments, visual, studio, however, vs, really, address, issues, stated, next, line, sdk, tool, mage, mage, works, ok, creating, deployments, rather, tedious, want, every, developer, code, signing, certificate, password, ended, rolling, deployment, app, uses, command, line, version, mage, create, clickonce, manifest, files, satisfied, current, solution, seems, like, would, industry, wide, accepted, approach, problem, best, way, create, ...]</td>\n",
       "    </tr>\n",
       "    <tr>\n",
       "      <th>6531409</th>\n",
       "      <td>ios: how to get image dimensions without opening it</td>\n",
       "      <td>in an ios app i need to provide image filters based on their size (width/height) think of something similar to large medium small in google images search. opening each image and reading its dimensions when creating the list would be very performance intensive. is there a way to get this info without opening the image itself? damien deville answered the question below based on his suggestion i am now using the following code:</td>\n",
       "      <td>[ios, app, need, provide, image, filters, based, size, width, height, think, something, similar, large, medium, small, google, images, search, opening, image, reading, dimensions, creating, list, would, performance, intensive, way, get, info, without, opening, image, damien, deville, answered, question, based, suggestion, using, following, code, ios, get, image, dimensions, without, opening]</td>\n",
       "    </tr>\n",
       "    <tr>\n",
       "      <th>593205</th>\n",
       "      <td>action delegate with zero parameters</td>\n",
       "      <td>i see this line in many online examples of using the action delegate:  but when i try it in my own code i get this error  using the generic type 'system.action' requires '1' type arguments  the documentation certainly describes a form of action without any type parameter. what am i missing?</td>\n",
       "      <td>[see, line, many, online, examples, using, action, delegate, try, code, get, error, using, generic, type, system, .action, requires, type, arguments, documentation, certainly, describes, form, action, without, type, parameter, missing, action, delegate, zero, parameters]</td>\n",
       "    </tr>\n",
       "  </tbody>\n",
       "</table>\n",
       "</div>"
      ],
      "text/plain": [
       "                                                        Title  \\\n",
       "Id                                                              \n",
       "525063                       android respond to url in intent   \n",
       "14128723   eclipse -- progress windows don't show up any more   \n",
       "20728     what's the best way to create clickonce deployments   \n",
       "6531409   ios: how to get image dimensions without opening it   \n",
       "593205                   action delegate with zero parameters   \n",
       "\n",
       "                                                                                                                                                                                                                                                                                                                                                                                                                                                                                                                                                                                                                                                                                                                                                                                                                                                                                                                                                                                                                                                                                                       Body  \\\n",
       "Id                                                                                                                                                                                                                                                                                                                                                                                                                                                                                                                                                                                                                                                                                                                                                                                                                                                                                                                                                                                                                                                                                                            \n",
       "525063                                                                                                                                                                                                                                                                                                                                                                                                                                                                                                                                                                                                                                                                                                                                                                                                                                                                                                     i want my intent to be launched when the user goes to a certain url: for example the android market does this with http://market.android.com/ urls. so does youtube. i want mine to do that too.   \n",
       "14128723                                                                                                                                                                                                                                                                                                                                                                                                                                                                                                                                                                                                                                                                                                                     i used to see both building and cleaning actions in their own separate windows where i could wait for them to complete before continuing. several weeks ago i must have clicked run in background  because now the progress only appears in a small obscured progress view.  how do i set the progress of things like java build and clean to appear in a popup dialog again?    \n",
       "20728     our team develops distributed winform apps. we use clickonce for deployment and are very pleased with it. however we've found the pain point with clickonce is in creating the deployments. we have the standard dev/test/production environments and need to be able to create deployments for each of these that install and update separate from one another. also we want control over what assemblies get deployed. just because an assembly was compiled doesn't mean we want it deployed. the obvious first choice for creating deployments is visual studio. however vs really doesn't address the issues stated. the next in line is the sdk tool mage. mage works ok but creating deployments is rather tedious and we don't want every developer having our code signing certificate and password. what we ended up doing was rolling our own deployment app that uses the command line version of mage to create the clickonce manifest files. i'm satisfied with our current solution but is seems like there would be an industry-wide accepted approach to this problem. is there?   \n",
       "6531409                                                                                                                                                                                                                                                                                                                                                                                                                                                                                                                                                                                                                                                       in an ios app i need to provide image filters based on their size (width/height) think of something similar to large medium small in google images search. opening each image and reading its dimensions when creating the list would be very performance intensive. is there a way to get this info without opening the image itself? damien deville answered the question below based on his suggestion i am now using the following code:    \n",
       "593205                                                                                                                                                                                                                                                                                                                                                                                                                                                                                                                                                                                                                                                                                                                                                                                                  i see this line in many online examples of using the action delegate:  but when i try it in my own code i get this error  using the generic type 'system.action' requires '1' type arguments  the documentation certainly describes a form of action without any type parameter. what am i missing?   \n",
       "\n",
       "                                                                                                                                                                                                                                                                                                                                                                                                                                                                                                                                                                                                                                                                                                                                                                                                                                                                        Tokens  \n",
       "Id                                                                                                                                                                                                                                                                                                                                                                                                                                                                                                                                                                                                                                                                                                                                                                                                                                                                              \n",
       "525063                                                                                                                                                                                                                                                                                                                                                                                                                                                                                                                                                                                                                                                                                                   [want, intent, launched, user, goes, certain, url, example, android, market, http, market, .android, .com, urls, youtube, want, mine, .android, respond, url, intent]  \n",
       "14128723                                                                                                                                                                                                                                                                                                                                                                                                                                                                                                                                                     [used, see, building, cleaning, actions, separate, windows, could, wait, complete, continuing, several, weeks, ago, must, clicked, run, background, progress, appears, small, obscured, progress, view, set, progress, things, like, java, build, clean, appear, popup, dialog, eclipse, progress, windows, show]  \n",
       "20728     [team, develops, distributed, winform, apps, use, clickonce, deployment, pleased, however, found, pain, point, clickonce, creating, deployments, standard, dev, test, production, environments, need, able, create, deployments, install, update, separate, one, another, also, want, control, assemblies, get, deployed, assembly, compiled, mean, want, deployed, obvious, first, choice, creating, deployments, visual, studio, however, vs, really, address, issues, stated, next, line, sdk, tool, mage, mage, works, ok, creating, deployments, rather, tedious, want, every, developer, code, signing, certificate, password, ended, rolling, deployment, app, uses, command, line, version, mage, create, clickonce, manifest, files, satisfied, current, solution, seems, like, would, industry, wide, accepted, approach, problem, best, way, create, ...]  \n",
       "6531409                                                                                                                                                                                                                                                                                                                                                                                                                                                             [ios, app, need, provide, image, filters, based, size, width, height, think, something, similar, large, medium, small, google, images, search, opening, image, reading, dimensions, creating, list, would, performance, intensive, way, get, info, without, opening, image, damien, deville, answered, question, based, suggestion, using, following, code, ios, get, image, dimensions, without, opening]  \n",
       "593205                                                                                                                                                                                                                                                                                                                                                                                                                                                                                                                                                                                         [see, line, many, online, examples, using, action, delegate, try, code, get, error, using, generic, type, system, .action, requires, type, arguments, documentation, certainly, describes, form, action, without, type, parameter, missing, action, delegate, zero, parameters]  "
      ]
     },
     "execution_count": 48,
     "metadata": {},
     "output_type": "execute_result"
    }
   ],
   "source": [
    "display = None\n",
    "if config[\"processing\"]:\n",
    "    display = data[[\"Title\", \"Body\", \"Tokens\"]].head()\n",
    "display"
   ]
  },
  {
   "cell_type": "markdown",
   "metadata": {},
   "source": [
    "***\n",
    "## 3.4 POS - Part-Of-Speech"
   ]
  },
  {
   "cell_type": "code",
   "execution_count": 49,
   "metadata": {},
   "outputs": [],
   "source": [
    "if config[\"processing\"]:\n",
    "    data[\"POS\"] = data.apply(lambda row: tag_pos(row[\"Tokens\"]), axis=\"columns\")"
   ]
  },
  {
   "cell_type": "code",
   "execution_count": 50,
   "metadata": {},
   "outputs": [
    {
     "data": {
      "text/html": [
       "<div>\n",
       "<style scoped>\n",
       "    .dataframe tbody tr th:only-of-type {\n",
       "        vertical-align: middle;\n",
       "    }\n",
       "\n",
       "    .dataframe tbody tr th {\n",
       "        vertical-align: top;\n",
       "    }\n",
       "\n",
       "    .dataframe thead th {\n",
       "        text-align: right;\n",
       "    }\n",
       "</style>\n",
       "<table border=\"1\" class=\"dataframe\">\n",
       "  <thead>\n",
       "    <tr style=\"text-align: right;\">\n",
       "      <th></th>\n",
       "      <th>Tokens</th>\n",
       "      <th>POS</th>\n",
       "    </tr>\n",
       "    <tr>\n",
       "      <th>Id</th>\n",
       "      <th></th>\n",
       "      <th></th>\n",
       "    </tr>\n",
       "  </thead>\n",
       "  <tbody>\n",
       "    <tr>\n",
       "      <th>525063</th>\n",
       "      <td>[want, intent, launched, user, goes, certain, url, example, android, market, http, market, .android, .com, urls, youtube, want, mine, .android, respond, url, intent]</td>\n",
       "      <td>[(want, a), (intent, n), (launched, v), (user, n), (goes, v), (certain, a), (url, a), (example, n), (android, a), (market, n), (http, n), (market, n), (.android, n), (.com, n), (urls, a), (youtube, n), (want, v), (mine, n), (.android, a), (respond, n), (url, a), (intent, n)]</td>\n",
       "    </tr>\n",
       "    <tr>\n",
       "      <th>14128723</th>\n",
       "      <td>[used, see, building, cleaning, actions, separate, windows, could, wait, complete, continuing, several, weeks, ago, must, clicked, run, background, progress, appears, small, obscured, progress, view, set, progress, things, like, java, build, clean, appear, popup, dialog, eclipse, progress, windows, show]</td>\n",
       "      <td>[(used, v), (see, n), (building, v), (cleaning, v), (actions, n), (separate, a), (windows, n), (could, n), (wait, v), (complete, a), (continuing, v), (several, a), (weeks, n), (ago, r), (must, n), (clicked, v), (run, n), (background, n), (progress, n), (appears, v), (small, a), (obscured, a), (progress, n), (view, n), (set, v), (progress, a), (things, n), (like, n), (java, n), (build, v), (clean, a), (appear, v), (popup, a), (dialog, n), (eclipse, n), (progress, n), (windows, v), (show, n)]</td>\n",
       "    </tr>\n",
       "    <tr>\n",
       "      <th>20728</th>\n",
       "      <td>[team, develops, distributed, winform, apps, use, clickonce, deployment, pleased, however, found, pain, point, clickonce, creating, deployments, standard, dev, test, production, environments, need, able, create, deployments, install, update, separate, one, another, also, want, control, assemblies, get, deployed, assembly, compiled, mean, want, deployed, obvious, first, choice, creating, deployments, visual, studio, however, vs, really, address, issues, stated, next, line, sdk, tool, mage, mage, works, ok, creating, deployments, rather, tedious, want, every, developer, code, signing, certificate, password, ended, rolling, deployment, app, uses, command, line, version, mage, create, clickonce, manifest, files, satisfied, current, solution, seems, like, would, industry, wide, accepted, approach, problem, best, way, create, ...]</td>\n",
       "      <td>[(team, n), (develops, v), (distributed, v), (winform, n), (apps, n), (use, n), (clickonce, n), (deployment, n), (pleased, v), (however, r), (found, v), (pain, n), (point, n), (clickonce, n), (creating, v), (deployments, n), (standard, a), (dev, a), (test, n), (production, n), (environments, n), (need, v), (able, a), (create, n), (deployments, n), (install, a), (update, a), (separate, a), (one, n), (another, n), (also, r), (want, v), (control, n), (assemblies, n), (get, v), (deployed, v), (assembly, r), (compiled, v), (mean, n), (want, v), (deployed, v), (obvious, a), (first, a), (choice, n), (creating, v), (deployments, n), (visual, a), (studio, n), (however, r), (vs, r), (really, r), (address, a), (issues, n), (stated, v), (next, a), (line, n), (sdk, n), (tool, n), (mage, n), (mage, n), (works, v), (ok, r), (creating, v), (deployments, n), (rather, r), (tedious, a), (want, v), (every, n), (developer, n), (code, n), (signing, v), (certificate, n), (password, n), (ended, v), (rolling, v), (deployment, a), (app, a), (uses, n), (command, v), (line, n), (version, n), (mage, n), (create, n), (clickonce, n), (manifest, a), (files, n), (satisfied, v), (current, a), (solution, n), (seems, v), (like, n), (would, n), (industry, n), (wide, a), (accepted, v), (approach, n), (problem, n), (best, a), (way, n), (create, n), ...]</td>\n",
       "    </tr>\n",
       "    <tr>\n",
       "      <th>6531409</th>\n",
       "      <td>[ios, app, need, provide, image, filters, based, size, width, height, think, something, similar, large, medium, small, google, images, search, opening, image, reading, dimensions, creating, list, would, performance, intensive, way, get, info, without, opening, image, damien, deville, answered, question, based, suggestion, using, following, code, ios, get, image, dimensions, without, opening]</td>\n",
       "      <td>[(ios, n), (app, v), (need, n), (provide, v), (image, n), (filters, n), (based, v), (size, n), (width, a), (height, n), (think, v), (something, n), (similar, a), (large, a), (medium, n), (small, a), (google, n), (images, n), (search, v), (opening, v), (image, n), (reading, n), (dimensions, n), (creating, v), (list, n), (would, n), (performance, n), (intensive, a), (way, n), (get, v), (info, v), (without, n), (opening, v), (image, n), (damien, n), (deville, n), (answered, v), (question, n), (based, v), (suggestion, n), (using, v), (following, v), (code, n), (ios, n), (get, v), (image, n), (dimensions, n), (without, n), (opening, v)]</td>\n",
       "    </tr>\n",
       "    <tr>\n",
       "      <th>593205</th>\n",
       "      <td>[see, line, many, online, examples, using, action, delegate, try, code, get, error, using, generic, type, system, .action, requires, type, arguments, documentation, certainly, describes, form, action, without, type, parameter, missing, action, delegate, zero, parameters]</td>\n",
       "      <td>[(see, v), (line, n), (many, a), (online, n), (examples, n), (using, v), (action, n), (delegate, n), (try, n), (code, n), (get, v), (error, n), (using, v), (generic, a), (type, n), (system, n), (.action, n), (requires, v), (type, a), (arguments, n), (documentation, n), (certainly, r), (describes, v), (form, a), (action, n), (without, n), (type, n), (parameter, n), (missing, v), (action, n), (delegate, n), (zero, n), (parameters, n)]</td>\n",
       "    </tr>\n",
       "  </tbody>\n",
       "</table>\n",
       "</div>"
      ],
      "text/plain": [
       "                                                                                                                                                                                                                                                                                                                                                                                                                                                                                                                                                                                                                                                                                                                                                                                                                                                                        Tokens  \\\n",
       "Id                                                                                                                                                                                                                                                                                                                                                                                                                                                                                                                                                                                                                                                                                                                                                                                                                                                                               \n",
       "525063                                                                                                                                                                                                                                                                                                                                                                                                                                                                                                                                                                                                                                                                                                   [want, intent, launched, user, goes, certain, url, example, android, market, http, market, .android, .com, urls, youtube, want, mine, .android, respond, url, intent]   \n",
       "14128723                                                                                                                                                                                                                                                                                                                                                                                                                                                                                                                                                     [used, see, building, cleaning, actions, separate, windows, could, wait, complete, continuing, several, weeks, ago, must, clicked, run, background, progress, appears, small, obscured, progress, view, set, progress, things, like, java, build, clean, appear, popup, dialog, eclipse, progress, windows, show]   \n",
       "20728     [team, develops, distributed, winform, apps, use, clickonce, deployment, pleased, however, found, pain, point, clickonce, creating, deployments, standard, dev, test, production, environments, need, able, create, deployments, install, update, separate, one, another, also, want, control, assemblies, get, deployed, assembly, compiled, mean, want, deployed, obvious, first, choice, creating, deployments, visual, studio, however, vs, really, address, issues, stated, next, line, sdk, tool, mage, mage, works, ok, creating, deployments, rather, tedious, want, every, developer, code, signing, certificate, password, ended, rolling, deployment, app, uses, command, line, version, mage, create, clickonce, manifest, files, satisfied, current, solution, seems, like, would, industry, wide, accepted, approach, problem, best, way, create, ...]   \n",
       "6531409                                                                                                                                                                                                                                                                                                                                                                                                                                                             [ios, app, need, provide, image, filters, based, size, width, height, think, something, similar, large, medium, small, google, images, search, opening, image, reading, dimensions, creating, list, would, performance, intensive, way, get, info, without, opening, image, damien, deville, answered, question, based, suggestion, using, following, code, ios, get, image, dimensions, without, opening]   \n",
       "593205                                                                                                                                                                                                                                                                                                                                                                                                                                                                                                                                                                                         [see, line, many, online, examples, using, action, delegate, try, code, get, error, using, generic, type, system, .action, requires, type, arguments, documentation, certainly, describes, form, action, without, type, parameter, missing, action, delegate, zero, parameters]   \n",
       "\n",
       "                                                                                                                                                                                                                                                                                                                                                                                                                                                                                                                                                                                                                                                                                                                                                                                                                                                                                                                                                                                                                                                                                                                                                                                                                                                                                                                                                                                               POS  \n",
       "Id                                                                                                                                                                                                                                                                                                                                                                                                                                                                                                                                                                                                                                                                                                                                                                                                                                                                                                                                                                                                                                                                                                                                                                                                                                                                                                                                                                                                  \n",
       "525063                                                                                                                                                                                                                                                                                                                                                                                                                                                                                                                                                                                                                                                                                                                                                                                                                                                                                                                                                                                                                                                                                                         [(want, a), (intent, n), (launched, v), (user, n), (goes, v), (certain, a), (url, a), (example, n), (android, a), (market, n), (http, n), (market, n), (.android, n), (.com, n), (urls, a), (youtube, n), (want, v), (mine, n), (.android, a), (respond, n), (url, a), (intent, n)]  \n",
       "14128723                                                                                                                                                                                                                                                                                                                                                                                                                                                                                                                                                                                                                                                                                                                                                                                                                                                                           [(used, v), (see, n), (building, v), (cleaning, v), (actions, n), (separate, a), (windows, n), (could, n), (wait, v), (complete, a), (continuing, v), (several, a), (weeks, n), (ago, r), (must, n), (clicked, v), (run, n), (background, n), (progress, n), (appears, v), (small, a), (obscured, a), (progress, n), (view, n), (set, v), (progress, a), (things, n), (like, n), (java, n), (build, v), (clean, a), (appear, v), (popup, a), (dialog, n), (eclipse, n), (progress, n), (windows, v), (show, n)]  \n",
       "20728     [(team, n), (develops, v), (distributed, v), (winform, n), (apps, n), (use, n), (clickonce, n), (deployment, n), (pleased, v), (however, r), (found, v), (pain, n), (point, n), (clickonce, n), (creating, v), (deployments, n), (standard, a), (dev, a), (test, n), (production, n), (environments, n), (need, v), (able, a), (create, n), (deployments, n), (install, a), (update, a), (separate, a), (one, n), (another, n), (also, r), (want, v), (control, n), (assemblies, n), (get, v), (deployed, v), (assembly, r), (compiled, v), (mean, n), (want, v), (deployed, v), (obvious, a), (first, a), (choice, n), (creating, v), (deployments, n), (visual, a), (studio, n), (however, r), (vs, r), (really, r), (address, a), (issues, n), (stated, v), (next, a), (line, n), (sdk, n), (tool, n), (mage, n), (mage, n), (works, v), (ok, r), (creating, v), (deployments, n), (rather, r), (tedious, a), (want, v), (every, n), (developer, n), (code, n), (signing, v), (certificate, n), (password, n), (ended, v), (rolling, v), (deployment, a), (app, a), (uses, n), (command, v), (line, n), (version, n), (mage, n), (create, n), (clickonce, n), (manifest, a), (files, n), (satisfied, v), (current, a), (solution, n), (seems, v), (like, n), (would, n), (industry, n), (wide, a), (accepted, v), (approach, n), (problem, n), (best, a), (way, n), (create, n), ...]  \n",
       "6531409                                                                                                                                                                                                                                                                                                                                                                                                                                                                                                                                                                                                                                                                                                                            [(ios, n), (app, v), (need, n), (provide, v), (image, n), (filters, n), (based, v), (size, n), (width, a), (height, n), (think, v), (something, n), (similar, a), (large, a), (medium, n), (small, a), (google, n), (images, n), (search, v), (opening, v), (image, n), (reading, n), (dimensions, n), (creating, v), (list, n), (would, n), (performance, n), (intensive, a), (way, n), (get, v), (info, v), (without, n), (opening, v), (image, n), (damien, n), (deville, n), (answered, v), (question, n), (based, v), (suggestion, n), (using, v), (following, v), (code, n), (ios, n), (get, v), (image, n), (dimensions, n), (without, n), (opening, v)]  \n",
       "593205                                                                                                                                                                                                                                                                                                                                                                                                                                                                                                                                                                                                                                                                                                                                                                                                                                                                                                                                        [(see, v), (line, n), (many, a), (online, n), (examples, n), (using, v), (action, n), (delegate, n), (try, n), (code, n), (get, v), (error, n), (using, v), (generic, a), (type, n), (system, n), (.action, n), (requires, v), (type, a), (arguments, n), (documentation, n), (certainly, r), (describes, v), (form, a), (action, n), (without, n), (type, n), (parameter, n), (missing, v), (action, n), (delegate, n), (zero, n), (parameters, n)]  "
      ]
     },
     "execution_count": 50,
     "metadata": {},
     "output_type": "execute_result"
    }
   ],
   "source": [
    "display = None\n",
    "if config[\"processing\"]:\n",
    "    display = data[[\"Tokens\", \"POS\"]].head()\n",
    "display"
   ]
  },
  {
   "cell_type": "markdown",
   "metadata": {},
   "source": [
    "***\n",
    "## 3.5 Lemmatize"
   ]
  },
  {
   "cell_type": "code",
   "execution_count": 51,
   "metadata": {},
   "outputs": [],
   "source": [
    "if config[\"processing\"]:\n",
    "    data[\"Lemmatized\"] = data.apply(lambda row: lemmatize(row[\"POS\"], with_pos=True), axis=\"columns\")"
   ]
  },
  {
   "cell_type": "code",
   "execution_count": 52,
   "metadata": {},
   "outputs": [
    {
     "data": {
      "text/html": [
       "<div>\n",
       "<style scoped>\n",
       "    .dataframe tbody tr th:only-of-type {\n",
       "        vertical-align: middle;\n",
       "    }\n",
       "\n",
       "    .dataframe tbody tr th {\n",
       "        vertical-align: top;\n",
       "    }\n",
       "\n",
       "    .dataframe thead th {\n",
       "        text-align: right;\n",
       "    }\n",
       "</style>\n",
       "<table border=\"1\" class=\"dataframe\">\n",
       "  <thead>\n",
       "    <tr style=\"text-align: right;\">\n",
       "      <th></th>\n",
       "      <th>Tokens</th>\n",
       "      <th>Lemmatized</th>\n",
       "    </tr>\n",
       "    <tr>\n",
       "      <th>Id</th>\n",
       "      <th></th>\n",
       "      <th></th>\n",
       "    </tr>\n",
       "  </thead>\n",
       "  <tbody>\n",
       "    <tr>\n",
       "      <th>525063</th>\n",
       "      <td>[want, intent, launched, user, goes, certain, url, example, android, market, http, market, .android, .com, urls, youtube, want, mine, .android, respond, url, intent]</td>\n",
       "      <td>[want, intent, launch, user, go, certain, url, example, android, market, http, market, .android, .com, urls, youtube, want, mine, .android, respond, url, intent]</td>\n",
       "    </tr>\n",
       "    <tr>\n",
       "      <th>14128723</th>\n",
       "      <td>[used, see, building, cleaning, actions, separate, windows, could, wait, complete, continuing, several, weeks, ago, must, clicked, run, background, progress, appears, small, obscured, progress, view, set, progress, things, like, java, build, clean, appear, popup, dialog, eclipse, progress, windows, show]</td>\n",
       "      <td>[use, see, build, clean, action, separate, window, could, wait, complete, continue, several, week, ago, must, click, run, background, progress, appear, small, obscured, progress, view, set, progress, thing, like, java, build, clean, appear, popup, dialog, eclipse, progress, windows, show]</td>\n",
       "    </tr>\n",
       "    <tr>\n",
       "      <th>20728</th>\n",
       "      <td>[team, develops, distributed, winform, apps, use, clickonce, deployment, pleased, however, found, pain, point, clickonce, creating, deployments, standard, dev, test, production, environments, need, able, create, deployments, install, update, separate, one, another, also, want, control, assemblies, get, deployed, assembly, compiled, mean, want, deployed, obvious, first, choice, creating, deployments, visual, studio, however, vs, really, address, issues, stated, next, line, sdk, tool, mage, mage, works, ok, creating, deployments, rather, tedious, want, every, developer, code, signing, certificate, password, ended, rolling, deployment, app, uses, command, line, version, mage, create, clickonce, manifest, files, satisfied, current, solution, seems, like, would, industry, wide, accepted, approach, problem, best, way, create, ...]</td>\n",
       "      <td>[team, develop, distribute, winform, apps, use, clickonce, deployment, please, however, find, pain, point, clickonce, create, deployment, standard, dev, test, production, environment, need, able, create, deployment, install, update, separate, one, another, also, want, control, assembly, get, deploy, assembly, compile, mean, want, deploy, obvious, first, choice, create, deployment, visual, studio, however, vs, really, address, issue, state, next, line, sdk, tool, mage, mage, work, ok, create, deployment, rather, tedious, want, every, developer, code, sign, certificate, password, end, roll, deployment, app, us, command, line, version, mage, create, clickonce, manifest, file, satisfy, current, solution, seem, like, would, industry, wide, accept, approach, problem, best, way, create, ...]</td>\n",
       "    </tr>\n",
       "    <tr>\n",
       "      <th>6531409</th>\n",
       "      <td>[ios, app, need, provide, image, filters, based, size, width, height, think, something, similar, large, medium, small, google, images, search, opening, image, reading, dimensions, creating, list, would, performance, intensive, way, get, info, without, opening, image, damien, deville, answered, question, based, suggestion, using, following, code, ios, get, image, dimensions, without, opening]</td>\n",
       "      <td>[io, app, need, provide, image, filter, base, size, width, height, think, something, similar, large, medium, small, google, image, search, open, image, reading, dimension, create, list, would, performance, intensive, way, get, info, without, open, image, damien, deville, answer, question, base, suggestion, use, follow, code, io, get, image, dimension, without, open]</td>\n",
       "    </tr>\n",
       "    <tr>\n",
       "      <th>593205</th>\n",
       "      <td>[see, line, many, online, examples, using, action, delegate, try, code, get, error, using, generic, type, system, .action, requires, type, arguments, documentation, certainly, describes, form, action, without, type, parameter, missing, action, delegate, zero, parameters]</td>\n",
       "      <td>[see, line, many, online, example, use, action, delegate, try, code, get, error, use, generic, type, system, .action, require, type, argument, documentation, certainly, describe, form, action, without, type, parameter, miss, action, delegate, zero, parameter]</td>\n",
       "    </tr>\n",
       "  </tbody>\n",
       "</table>\n",
       "</div>"
      ],
      "text/plain": [
       "                                                                                                                                                                                                                                                                                                                                                                                                                                                                                                                                                                                                                                                                                                                                                                                                                                                                        Tokens  \\\n",
       "Id                                                                                                                                                                                                                                                                                                                                                                                                                                                                                                                                                                                                                                                                                                                                                                                                                                                                               \n",
       "525063                                                                                                                                                                                                                                                                                                                                                                                                                                                                                                                                                                                                                                                                                                   [want, intent, launched, user, goes, certain, url, example, android, market, http, market, .android, .com, urls, youtube, want, mine, .android, respond, url, intent]   \n",
       "14128723                                                                                                                                                                                                                                                                                                                                                                                                                                                                                                                                                     [used, see, building, cleaning, actions, separate, windows, could, wait, complete, continuing, several, weeks, ago, must, clicked, run, background, progress, appears, small, obscured, progress, view, set, progress, things, like, java, build, clean, appear, popup, dialog, eclipse, progress, windows, show]   \n",
       "20728     [team, develops, distributed, winform, apps, use, clickonce, deployment, pleased, however, found, pain, point, clickonce, creating, deployments, standard, dev, test, production, environments, need, able, create, deployments, install, update, separate, one, another, also, want, control, assemblies, get, deployed, assembly, compiled, mean, want, deployed, obvious, first, choice, creating, deployments, visual, studio, however, vs, really, address, issues, stated, next, line, sdk, tool, mage, mage, works, ok, creating, deployments, rather, tedious, want, every, developer, code, signing, certificate, password, ended, rolling, deployment, app, uses, command, line, version, mage, create, clickonce, manifest, files, satisfied, current, solution, seems, like, would, industry, wide, accepted, approach, problem, best, way, create, ...]   \n",
       "6531409                                                                                                                                                                                                                                                                                                                                                                                                                                                             [ios, app, need, provide, image, filters, based, size, width, height, think, something, similar, large, medium, small, google, images, search, opening, image, reading, dimensions, creating, list, would, performance, intensive, way, get, info, without, opening, image, damien, deville, answered, question, based, suggestion, using, following, code, ios, get, image, dimensions, without, opening]   \n",
       "593205                                                                                                                                                                                                                                                                                                                                                                                                                                                                                                                                                                                         [see, line, many, online, examples, using, action, delegate, try, code, get, error, using, generic, type, system, .action, requires, type, arguments, documentation, certainly, describes, form, action, without, type, parameter, missing, action, delegate, zero, parameters]   \n",
       "\n",
       "                                                                                                                                                                                                                                                                                                                                                                                                                                                                                                                                                                                                                                                                                                                                                                                                                           Lemmatized  \n",
       "Id                                                                                                                                                                                                                                                                                                                                                                                                                                                                                                                                                                                                                                                                                                                                                                                                                                     \n",
       "525063                                                                                                                                                                                                                                                                                                                                                                                                                                                                                                                                                                                                                                                              [want, intent, launch, user, go, certain, url, example, android, market, http, market, .android, .com, urls, youtube, want, mine, .android, respond, url, intent]  \n",
       "14128723                                                                                                                                                                                                                                                                                                                                                                                                                                                                                                                            [use, see, build, clean, action, separate, window, could, wait, complete, continue, several, week, ago, must, click, run, background, progress, appear, small, obscured, progress, view, set, progress, thing, like, java, build, clean, appear, popup, dialog, eclipse, progress, windows, show]  \n",
       "20728     [team, develop, distribute, winform, apps, use, clickonce, deployment, please, however, find, pain, point, clickonce, create, deployment, standard, dev, test, production, environment, need, able, create, deployment, install, update, separate, one, another, also, want, control, assembly, get, deploy, assembly, compile, mean, want, deploy, obvious, first, choice, create, deployment, visual, studio, however, vs, really, address, issue, state, next, line, sdk, tool, mage, mage, work, ok, create, deployment, rather, tedious, want, every, developer, code, sign, certificate, password, end, roll, deployment, app, us, command, line, version, mage, create, clickonce, manifest, file, satisfy, current, solution, seem, like, would, industry, wide, accept, approach, problem, best, way, create, ...]  \n",
       "6531409                                                                                                                                                                                                                                                                                                                                                                                                                                              [io, app, need, provide, image, filter, base, size, width, height, think, something, similar, large, medium, small, google, image, search, open, image, reading, dimension, create, list, would, performance, intensive, way, get, info, without, open, image, damien, deville, answer, question, base, suggestion, use, follow, code, io, get, image, dimension, without, open]  \n",
       "593205                                                                                                                                                                                                                                                                                                                                                                                                                                                                                                                                                            [see, line, many, online, example, use, action, delegate, try, code, get, error, use, generic, type, system, .action, require, type, argument, documentation, certainly, describe, form, action, without, type, parameter, miss, action, delegate, zero, parameter]  "
      ]
     },
     "execution_count": 52,
     "metadata": {},
     "output_type": "execute_result"
    }
   ],
   "source": [
    "display = None\n",
    "if config[\"processing\"]:\n",
    "    display = data[[\"Tokens\", \"Lemmatized\"]].head()\n",
    "display"
   ]
  },
  {
   "cell_type": "markdown",
   "metadata": {},
   "source": [
    "***\n",
    "## 3.6 Stemmize"
   ]
  },
  {
   "cell_type": "code",
   "execution_count": 53,
   "metadata": {},
   "outputs": [],
   "source": [
    "if config[\"processing\"]:\n",
    "    data[\"LemmaAndStem\"] = data.apply(lambda row: stemmize(row[\"Tokens\"]), axis=\"columns\")"
   ]
  },
  {
   "cell_type": "code",
   "execution_count": 54,
   "metadata": {},
   "outputs": [
    {
     "data": {
      "text/html": [
       "<div>\n",
       "<style scoped>\n",
       "    .dataframe tbody tr th:only-of-type {\n",
       "        vertical-align: middle;\n",
       "    }\n",
       "\n",
       "    .dataframe tbody tr th {\n",
       "        vertical-align: top;\n",
       "    }\n",
       "\n",
       "    .dataframe thead th {\n",
       "        text-align: right;\n",
       "    }\n",
       "</style>\n",
       "<table border=\"1\" class=\"dataframe\">\n",
       "  <thead>\n",
       "    <tr style=\"text-align: right;\">\n",
       "      <th></th>\n",
       "      <th>Tokens</th>\n",
       "      <th>LemmaAndStem</th>\n",
       "    </tr>\n",
       "    <tr>\n",
       "      <th>Id</th>\n",
       "      <th></th>\n",
       "      <th></th>\n",
       "    </tr>\n",
       "  </thead>\n",
       "  <tbody>\n",
       "    <tr>\n",
       "      <th>525063</th>\n",
       "      <td>[want, intent, launched, user, goes, certain, url, example, android, market, http, market, .android, .com, urls, youtube, want, mine, .android, respond, url, intent]</td>\n",
       "      <td>[want, intent, launch, user, goe, certain, url, exampl, android, market, http, market, .android, .com, url, youtub, want, mine, .android, respond, url, intent]</td>\n",
       "    </tr>\n",
       "    <tr>\n",
       "      <th>14128723</th>\n",
       "      <td>[used, see, building, cleaning, actions, separate, windows, could, wait, complete, continuing, several, weeks, ago, must, clicked, run, background, progress, appears, small, obscured, progress, view, set, progress, things, like, java, build, clean, appear, popup, dialog, eclipse, progress, windows, show]</td>\n",
       "      <td>[use, see, build, clean, action, separ, window, could, wait, complet, continu, sever, week, ago, must, click, run, background, progress, appear, small, obscur, progress, view, set, progress, thing, like, java, build, clean, appear, popup, dialog, eclips, progress, window, show]</td>\n",
       "    </tr>\n",
       "    <tr>\n",
       "      <th>20728</th>\n",
       "      <td>[team, develops, distributed, winform, apps, use, clickonce, deployment, pleased, however, found, pain, point, clickonce, creating, deployments, standard, dev, test, production, environments, need, able, create, deployments, install, update, separate, one, another, also, want, control, assemblies, get, deployed, assembly, compiled, mean, want, deployed, obvious, first, choice, creating, deployments, visual, studio, however, vs, really, address, issues, stated, next, line, sdk, tool, mage, mage, works, ok, creating, deployments, rather, tedious, want, every, developer, code, signing, certificate, password, ended, rolling, deployment, app, uses, command, line, version, mage, create, clickonce, manifest, files, satisfied, current, solution, seems, like, would, industry, wide, accepted, approach, problem, best, way, create, ...]</td>\n",
       "      <td>[team, develop, distribut, winform, app, use, clickonc, deploy, pleas, howev, found, pain, point, clickonc, creat, deploy, standard, dev, test, product, environ, need, abl, creat, deploy, instal, updat, separ, one, anoth, also, want, control, assembl, get, deploy, assembl, compil, mean, want, deploy, obvious, first, choic, creat, deploy, visual, studio, howev, vs, realli, address, issu, state, next, line, sdk, tool, mage, mage, work, ok, creat, deploy, rather, tedious, want, everi, develop, code, sign, certif, password, end, roll, deploy, app, use, command, line, version, mage, creat, clickonc, manifest, file, satisfi, current, solut, seem, like, would, industri, wide, accept, approach, problem, best, way, creat, ...]</td>\n",
       "    </tr>\n",
       "    <tr>\n",
       "      <th>6531409</th>\n",
       "      <td>[ios, app, need, provide, image, filters, based, size, width, height, think, something, similar, large, medium, small, google, images, search, opening, image, reading, dimensions, creating, list, would, performance, intensive, way, get, info, without, opening, image, damien, deville, answered, question, based, suggestion, using, following, code, ios, get, image, dimensions, without, opening]</td>\n",
       "      <td>[io, app, need, provid, imag, filter, base, size, width, height, think, someth, similar, larg, medium, small, googl, imag, search, open, imag, read, dimens, creat, list, would, perform, intens, way, get, info, without, open, imag, damien, devill, answer, question, base, suggest, use, follow, code, io, get, imag, dimens, without, open]</td>\n",
       "    </tr>\n",
       "    <tr>\n",
       "      <th>593205</th>\n",
       "      <td>[see, line, many, online, examples, using, action, delegate, try, code, get, error, using, generic, type, system, .action, requires, type, arguments, documentation, certainly, describes, form, action, without, type, parameter, missing, action, delegate, zero, parameters]</td>\n",
       "      <td>[see, line, mani, onlin, exampl, use, action, deleg, tri, code, get, error, use, generic, type, system, .action, requir, type, argument, document, certain, describ, form, action, without, type, paramet, miss, action, deleg, zero, paramet]</td>\n",
       "    </tr>\n",
       "  </tbody>\n",
       "</table>\n",
       "</div>"
      ],
      "text/plain": [
       "                                                                                                                                                                                                                                                                                                                                                                                                                                                                                                                                                                                                                                                                                                                                                                                                                                                                        Tokens  \\\n",
       "Id                                                                                                                                                                                                                                                                                                                                                                                                                                                                                                                                                                                                                                                                                                                                                                                                                                                                               \n",
       "525063                                                                                                                                                                                                                                                                                                                                                                                                                                                                                                                                                                                                                                                                                                   [want, intent, launched, user, goes, certain, url, example, android, market, http, market, .android, .com, urls, youtube, want, mine, .android, respond, url, intent]   \n",
       "14128723                                                                                                                                                                                                                                                                                                                                                                                                                                                                                                                                                     [used, see, building, cleaning, actions, separate, windows, could, wait, complete, continuing, several, weeks, ago, must, clicked, run, background, progress, appears, small, obscured, progress, view, set, progress, things, like, java, build, clean, appear, popup, dialog, eclipse, progress, windows, show]   \n",
       "20728     [team, develops, distributed, winform, apps, use, clickonce, deployment, pleased, however, found, pain, point, clickonce, creating, deployments, standard, dev, test, production, environments, need, able, create, deployments, install, update, separate, one, another, also, want, control, assemblies, get, deployed, assembly, compiled, mean, want, deployed, obvious, first, choice, creating, deployments, visual, studio, however, vs, really, address, issues, stated, next, line, sdk, tool, mage, mage, works, ok, creating, deployments, rather, tedious, want, every, developer, code, signing, certificate, password, ended, rolling, deployment, app, uses, command, line, version, mage, create, clickonce, manifest, files, satisfied, current, solution, seems, like, would, industry, wide, accepted, approach, problem, best, way, create, ...]   \n",
       "6531409                                                                                                                                                                                                                                                                                                                                                                                                                                                             [ios, app, need, provide, image, filters, based, size, width, height, think, something, similar, large, medium, small, google, images, search, opening, image, reading, dimensions, creating, list, would, performance, intensive, way, get, info, without, opening, image, damien, deville, answered, question, based, suggestion, using, following, code, ios, get, image, dimensions, without, opening]   \n",
       "593205                                                                                                                                                                                                                                                                                                                                                                                                                                                                                                                                                                                         [see, line, many, online, examples, using, action, delegate, try, code, get, error, using, generic, type, system, .action, requires, type, arguments, documentation, certainly, describes, form, action, without, type, parameter, missing, action, delegate, zero, parameters]   \n",
       "\n",
       "                                                                                                                                                                                                                                                                                                                                                                                                                                                                                                                                                                                                                                                                                                                                                     LemmaAndStem  \n",
       "Id                                                                                                                                                                                                                                                                                                                                                                                                                                                                                                                                                                                                                                                                                                                                                                 \n",
       "525063                                                                                                                                                                                                                                                                                                                                                                                                                                                                                                                                                                                            [want, intent, launch, user, goe, certain, url, exampl, android, market, http, market, .android, .com, url, youtub, want, mine, .android, respond, url, intent]  \n",
       "14128723                                                                                                                                                                                                                                                                                                                                                                                                                                                                   [use, see, build, clean, action, separ, window, could, wait, complet, continu, sever, week, ago, must, click, run, background, progress, appear, small, obscur, progress, view, set, progress, thing, like, java, build, clean, appear, popup, dialog, eclips, progress, window, show]  \n",
       "20728     [team, develop, distribut, winform, app, use, clickonc, deploy, pleas, howev, found, pain, point, clickonc, creat, deploy, standard, dev, test, product, environ, need, abl, creat, deploy, instal, updat, separ, one, anoth, also, want, control, assembl, get, deploy, assembl, compil, mean, want, deploy, obvious, first, choic, creat, deploy, visual, studio, howev, vs, realli, address, issu, state, next, line, sdk, tool, mage, mage, work, ok, creat, deploy, rather, tedious, want, everi, develop, code, sign, certif, password, end, roll, deploy, app, use, command, line, version, mage, creat, clickonc, manifest, file, satisfi, current, solut, seem, like, would, industri, wide, accept, approach, problem, best, way, creat, ...]  \n",
       "6531409                                                                                                                                                                                                                                                                                                                                                                                                          [io, app, need, provid, imag, filter, base, size, width, height, think, someth, similar, larg, medium, small, googl, imag, search, open, imag, read, dimens, creat, list, would, perform, intens, way, get, info, without, open, imag, damien, devill, answer, question, base, suggest, use, follow, code, io, get, imag, dimens, without, open]  \n",
       "593205                                                                                                                                                                                                                                                                                                                                                                                                                                                                                                             [see, line, mani, onlin, exampl, use, action, deleg, tri, code, get, error, use, generic, type, system, .action, requir, type, argument, document, certain, describ, form, action, without, type, paramet, miss, action, deleg, zero, paramet]  "
      ]
     },
     "execution_count": 54,
     "metadata": {},
     "output_type": "execute_result"
    }
   ],
   "source": [
    "display = None\n",
    "if config[\"processing\"]:\n",
    "    display = data[[\"Tokens\", \"LemmaAndStem\"]].head()\n",
    "display"
   ]
  },
  {
   "cell_type": "markdown",
   "metadata": {},
   "source": [
    "***\n",
    "## 3.7 Generating sentence"
   ]
  },
  {
   "cell_type": "code",
   "execution_count": 55,
   "metadata": {},
   "outputs": [],
   "source": [
    "if config[\"processing\"]:\n",
    "    data[\"Sentence\"] = data.apply(lambda row: \" \".join([str(item) for item in row[\"LemmaAndStem\"]]), axis=\"columns\")"
   ]
  },
  {
   "cell_type": "code",
   "execution_count": 56,
   "metadata": {},
   "outputs": [
    {
     "data": {
      "text/html": [
       "<div>\n",
       "<style scoped>\n",
       "    .dataframe tbody tr th:only-of-type {\n",
       "        vertical-align: middle;\n",
       "    }\n",
       "\n",
       "    .dataframe tbody tr th {\n",
       "        vertical-align: top;\n",
       "    }\n",
       "\n",
       "    .dataframe thead th {\n",
       "        text-align: right;\n",
       "    }\n",
       "</style>\n",
       "<table border=\"1\" class=\"dataframe\">\n",
       "  <thead>\n",
       "    <tr style=\"text-align: right;\">\n",
       "      <th></th>\n",
       "      <th>LemmaAndStem</th>\n",
       "      <th>Sentence</th>\n",
       "    </tr>\n",
       "    <tr>\n",
       "      <th>Id</th>\n",
       "      <th></th>\n",
       "      <th></th>\n",
       "    </tr>\n",
       "  </thead>\n",
       "  <tbody>\n",
       "    <tr>\n",
       "      <th>525063</th>\n",
       "      <td>[want, intent, launch, user, goe, certain, url, exampl, android, market, http, market, .android, .com, url, youtub, want, mine, .android, respond, url, intent]</td>\n",
       "      <td>want intent launch user goe certain url exampl android market http market .android .com url youtub want mine .android respond url intent</td>\n",
       "    </tr>\n",
       "    <tr>\n",
       "      <th>14128723</th>\n",
       "      <td>[use, see, build, clean, action, separ, window, could, wait, complet, continu, sever, week, ago, must, click, run, background, progress, appear, small, obscur, progress, view, set, progress, thing, like, java, build, clean, appear, popup, dialog, eclips, progress, window, show]</td>\n",
       "      <td>use see build clean action separ window could wait complet continu sever week ago must click run background progress appear small obscur progress view set progress thing like java build clean appear popup dialog eclips progress window show</td>\n",
       "    </tr>\n",
       "    <tr>\n",
       "      <th>20728</th>\n",
       "      <td>[team, develop, distribut, winform, app, use, clickonc, deploy, pleas, howev, found, pain, point, clickonc, creat, deploy, standard, dev, test, product, environ, need, abl, creat, deploy, instal, updat, separ, one, anoth, also, want, control, assembl, get, deploy, assembl, compil, mean, want, deploy, obvious, first, choic, creat, deploy, visual, studio, howev, vs, realli, address, issu, state, next, line, sdk, tool, mage, mage, work, ok, creat, deploy, rather, tedious, want, everi, develop, code, sign, certif, password, end, roll, deploy, app, use, command, line, version, mage, creat, clickonc, manifest, file, satisfi, current, solut, seem, like, would, industri, wide, accept, approach, problem, best, way, creat, ...]</td>\n",
       "      <td>team develop distribut winform app use clickonc deploy pleas howev found pain point clickonc creat deploy standard dev test product environ need abl creat deploy instal updat separ one anoth also want control assembl get deploy assembl compil mean want deploy obvious first choic creat deploy visual studio howev vs realli address issu state next line sdk tool mage mage work ok creat deploy rather tedious want everi develop code sign certif password end roll deploy app use command line version mage creat clickonc manifest file satisfi current solut seem like would industri wide accept approach problem best way creat clickonc deploy</td>\n",
       "    </tr>\n",
       "    <tr>\n",
       "      <th>6531409</th>\n",
       "      <td>[io, app, need, provid, imag, filter, base, size, width, height, think, someth, similar, larg, medium, small, googl, imag, search, open, imag, read, dimens, creat, list, would, perform, intens, way, get, info, without, open, imag, damien, devill, answer, question, base, suggest, use, follow, code, io, get, imag, dimens, without, open]</td>\n",
       "      <td>io app need provid imag filter base size width height think someth similar larg medium small googl imag search open imag read dimens creat list would perform intens way get info without open imag damien devill answer question base suggest use follow code io get imag dimens without open</td>\n",
       "    </tr>\n",
       "    <tr>\n",
       "      <th>593205</th>\n",
       "      <td>[see, line, mani, onlin, exampl, use, action, deleg, tri, code, get, error, use, generic, type, system, .action, requir, type, argument, document, certain, describ, form, action, without, type, paramet, miss, action, deleg, zero, paramet]</td>\n",
       "      <td>see line mani onlin exampl use action deleg tri code get error use generic type system .action requir type argument document certain describ form action without type paramet miss action deleg zero paramet</td>\n",
       "    </tr>\n",
       "  </tbody>\n",
       "</table>\n",
       "</div>"
      ],
      "text/plain": [
       "                                                                                                                                                                                                                                                                                                                                                                                                                                                                                                                                                                                                                                                                                                                                                     LemmaAndStem  \\\n",
       "Id                                                                                                                                                                                                                                                                                                                                                                                                                                                                                                                                                                                                                                                                                                                                                                  \n",
       "525063                                                                                                                                                                                                                                                                                                                                                                                                                                                                                                                                                                                            [want, intent, launch, user, goe, certain, url, exampl, android, market, http, market, .android, .com, url, youtub, want, mine, .android, respond, url, intent]   \n",
       "14128723                                                                                                                                                                                                                                                                                                                                                                                                                                                                   [use, see, build, clean, action, separ, window, could, wait, complet, continu, sever, week, ago, must, click, run, background, progress, appear, small, obscur, progress, view, set, progress, thing, like, java, build, clean, appear, popup, dialog, eclips, progress, window, show]   \n",
       "20728     [team, develop, distribut, winform, app, use, clickonc, deploy, pleas, howev, found, pain, point, clickonc, creat, deploy, standard, dev, test, product, environ, need, abl, creat, deploy, instal, updat, separ, one, anoth, also, want, control, assembl, get, deploy, assembl, compil, mean, want, deploy, obvious, first, choic, creat, deploy, visual, studio, howev, vs, realli, address, issu, state, next, line, sdk, tool, mage, mage, work, ok, creat, deploy, rather, tedious, want, everi, develop, code, sign, certif, password, end, roll, deploy, app, use, command, line, version, mage, creat, clickonc, manifest, file, satisfi, current, solut, seem, like, would, industri, wide, accept, approach, problem, best, way, creat, ...]   \n",
       "6531409                                                                                                                                                                                                                                                                                                                                                                                                          [io, app, need, provid, imag, filter, base, size, width, height, think, someth, similar, larg, medium, small, googl, imag, search, open, imag, read, dimens, creat, list, would, perform, intens, way, get, info, without, open, imag, damien, devill, answer, question, base, suggest, use, follow, code, io, get, imag, dimens, without, open]   \n",
       "593205                                                                                                                                                                                                                                                                                                                                                                                                                                                                                                             [see, line, mani, onlin, exampl, use, action, deleg, tri, code, get, error, use, generic, type, system, .action, requir, type, argument, document, certain, describ, form, action, without, type, paramet, miss, action, deleg, zero, paramet]   \n",
       "\n",
       "                                                                                                                                                                                                                                                                                                                                                                                                                                                                                                                                                                                                                                                               Sentence  \n",
       "Id                                                                                                                                                                                                                                                                                                                                                                                                                                                                                                                                                                                                                                                                       \n",
       "525063                                                                                                                                                                                                                                                                                                                                                                                                                                                                                                                         want intent launch user goe certain url exampl android market http market .android .com url youtub want mine .android respond url intent  \n",
       "14128723                                                                                                                                                                                                                                                                                                                                                                                                                use see build clean action separ window could wait complet continu sever week ago must click run background progress appear small obscur progress view set progress thing like java build clean appear popup dialog eclips progress window show  \n",
       "20728     team develop distribut winform app use clickonc deploy pleas howev found pain point clickonc creat deploy standard dev test product environ need abl creat deploy instal updat separ one anoth also want control assembl get deploy assembl compil mean want deploy obvious first choic creat deploy visual studio howev vs realli address issu state next line sdk tool mage mage work ok creat deploy rather tedious want everi develop code sign certif password end roll deploy app use command line version mage creat clickonc manifest file satisfi current solut seem like would industri wide accept approach problem best way creat clickonc deploy  \n",
       "6531409                                                                                                                                                                                                                                                                                                                                                                  io app need provid imag filter base size width height think someth similar larg medium small googl imag search open imag read dimens creat list would perform intens way get info without open imag damien devill answer question base suggest use follow code io get imag dimens without open  \n",
       "593205                                                                                                                                                                                                                                                                                                                                                                                                                                                     see line mani onlin exampl use action deleg tri code get error use generic type system .action requir type argument document certain describ form action without type paramet miss action deleg zero paramet  "
      ]
     },
     "execution_count": 56,
     "metadata": {},
     "output_type": "execute_result"
    }
   ],
   "source": [
    "display = None\n",
    "if config[\"processing\"]:\n",
    "    display = data[[\"LemmaAndStem\", \"Sentence\"]].head()\n",
    "display"
   ]
  },
  {
   "cell_type": "markdown",
   "metadata": {},
   "source": [
    "***\n",
    "## 3.8 Saving"
   ]
  },
  {
   "cell_type": "code",
   "execution_count": 57,
   "metadata": {},
   "outputs": [
    {
     "data": {
      "text/html": [
       "<div>\n",
       "<style scoped>\n",
       "    .dataframe tbody tr th:only-of-type {\n",
       "        vertical-align: middle;\n",
       "    }\n",
       "\n",
       "    .dataframe tbody tr th {\n",
       "        vertical-align: top;\n",
       "    }\n",
       "\n",
       "    .dataframe thead th {\n",
       "        text-align: right;\n",
       "    }\n",
       "</style>\n",
       "<table border=\"1\" class=\"dataframe\">\n",
       "  <thead>\n",
       "    <tr style=\"text-align: right;\">\n",
       "      <th></th>\n",
       "      <th>Title</th>\n",
       "      <th>Body</th>\n",
       "      <th>Tags</th>\n",
       "      <th>Tokens</th>\n",
       "      <th>POS</th>\n",
       "      <th>Lemmatized</th>\n",
       "      <th>LemmaAndStem</th>\n",
       "      <th>Sentence</th>\n",
       "    </tr>\n",
       "    <tr>\n",
       "      <th>Id</th>\n",
       "      <th></th>\n",
       "      <th></th>\n",
       "      <th></th>\n",
       "      <th></th>\n",
       "      <th></th>\n",
       "      <th></th>\n",
       "      <th></th>\n",
       "      <th></th>\n",
       "    </tr>\n",
       "  </thead>\n",
       "  <tbody>\n",
       "    <tr>\n",
       "      <th>525063</th>\n",
       "      <td>android respond to url in intent</td>\n",
       "      <td>i want my intent to be launched when the user goes to a certain url: for example the android market does this with http://market.android.com/ urls. so does youtube. i want mine to do that too.</td>\n",
       "      <td>['android', 'url', 'android-intent', 'intentfilter', 'launch']</td>\n",
       "      <td>[want, intent, launched, user, goes, certain, url, example, android, market, http, market, .android, .com, urls, youtube, want, mine, .android, respond, url, intent]</td>\n",
       "      <td>[(want, a), (intent, n), (launched, v), (user, n), (goes, v), (certain, a), (url, a), (example, n), (android, a), (market, n), (http, n), (market, n), (.android, n), (.com, n), (urls, a), (youtube, n), (want, v), (mine, n), (.android, a), (respond, n), (url, a), (intent, n)]</td>\n",
       "      <td>[want, intent, launch, user, go, certain, url, example, android, market, http, market, .android, .com, urls, youtube, want, mine, .android, respond, url, intent]</td>\n",
       "      <td>[want, intent, launch, user, goe, certain, url, exampl, android, market, http, market, .android, .com, url, youtub, want, mine, .android, respond, url, intent]</td>\n",
       "      <td>want intent launch user goe certain url exampl android market http market .android .com url youtub want mine .android respond url intent</td>\n",
       "    </tr>\n",
       "    <tr>\n",
       "      <th>14128723</th>\n",
       "      <td>eclipse -- progress windows don't show up any more</td>\n",
       "      <td>i used to see both building and cleaning actions in their own separate windows where i could wait for them to complete before continuing. several weeks ago i must have clicked run in background  because now the progress only appears in a small obscured progress view.  how do i set the progress of things like java build and clean to appear in a popup dialog again?</td>\n",
       "      <td>['java', 'eclipse']</td>\n",
       "      <td>[used, see, building, cleaning, actions, separate, windows, could, wait, complete, continuing, several, weeks, ago, must, clicked, run, background, progress, appears, small, obscured, progress, view, set, progress, things, like, java, build, clean, appear, popup, dialog, eclipse, progress, windows, show]</td>\n",
       "      <td>[(used, v), (see, n), (building, v), (cleaning, v), (actions, n), (separate, a), (windows, n), (could, n), (wait, v), (complete, a), (continuing, v), (several, a), (weeks, n), (ago, r), (must, n), (clicked, v), (run, n), (background, n), (progress, n), (appears, v), (small, a), (obscured, a), (progress, n), (view, n), (set, v), (progress, a), (things, n), (like, n), (java, n), (build, v), (clean, a), (appear, v), (popup, a), (dialog, n), (eclipse, n), (progress, n), (windows, v), (show, n)]</td>\n",
       "      <td>[use, see, build, clean, action, separate, window, could, wait, complete, continue, several, week, ago, must, click, run, background, progress, appear, small, obscured, progress, view, set, progress, thing, like, java, build, clean, appear, popup, dialog, eclipse, progress, windows, show]</td>\n",
       "      <td>[use, see, build, clean, action, separ, window, could, wait, complet, continu, sever, week, ago, must, click, run, background, progress, appear, small, obscur, progress, view, set, progress, thing, like, java, build, clean, appear, popup, dialog, eclips, progress, window, show]</td>\n",
       "      <td>use see build clean action separ window could wait complet continu sever week ago must click run background progress appear small obscur progress view set progress thing like java build clean appear popup dialog eclips progress window show</td>\n",
       "    </tr>\n",
       "    <tr>\n",
       "      <th>20728</th>\n",
       "      <td>what's the best way to create clickonce deployments</td>\n",
       "      <td>our team develops distributed winform apps. we use clickonce for deployment and are very pleased with it. however we've found the pain point with clickonce is in creating the deployments. we have the standard dev/test/production environments and need to be able to create deployments for each of these that install and update separate from one another. also we want control over what assemblies get deployed. just because an assembly was compiled doesn't mean we want it deployed. the obvious first choice for creating deployments is visual studio. however vs really doesn't address the issues stated. the next in line is the sdk tool mage. mage works ok but creating deployments is rather tedious and we don't want every developer having our code signing certificate and password. what we ended up doing was rolling our own deployment app that uses the command line version of mage to create the clickonce manifest files. i'm satisfied with our current solution but is seems like there would be an industry-wide accepted approach to this problem. is there?</td>\n",
       "      <td>['winforms', 'deployment', 'clickonce']</td>\n",
       "      <td>[team, develops, distributed, winform, apps, use, clickonce, deployment, pleased, however, found, pain, point, clickonce, creating, deployments, standard, dev, test, production, environments, need, able, create, deployments, install, update, separate, one, another, also, want, control, assemblies, get, deployed, assembly, compiled, mean, want, deployed, obvious, first, choice, creating, deployments, visual, studio, however, vs, really, address, issues, stated, next, line, sdk, tool, mage, mage, works, ok, creating, deployments, rather, tedious, want, every, developer, code, signing, certificate, password, ended, rolling, deployment, app, uses, command, line, version, mage, create, clickonce, manifest, files, satisfied, current, solution, seems, like, would, industry, wide, accepted, approach, problem, best, way, create, ...]</td>\n",
       "      <td>[(team, n), (develops, v), (distributed, v), (winform, n), (apps, n), (use, n), (clickonce, n), (deployment, n), (pleased, v), (however, r), (found, v), (pain, n), (point, n), (clickonce, n), (creating, v), (deployments, n), (standard, a), (dev, a), (test, n), (production, n), (environments, n), (need, v), (able, a), (create, n), (deployments, n), (install, a), (update, a), (separate, a), (one, n), (another, n), (also, r), (want, v), (control, n), (assemblies, n), (get, v), (deployed, v), (assembly, r), (compiled, v), (mean, n), (want, v), (deployed, v), (obvious, a), (first, a), (choice, n), (creating, v), (deployments, n), (visual, a), (studio, n), (however, r), (vs, r), (really, r), (address, a), (issues, n), (stated, v), (next, a), (line, n), (sdk, n), (tool, n), (mage, n), (mage, n), (works, v), (ok, r), (creating, v), (deployments, n), (rather, r), (tedious, a), (want, v), (every, n), (developer, n), (code, n), (signing, v), (certificate, n), (password, n), (ended, v), (rolling, v), (deployment, a), (app, a), (uses, n), (command, v), (line, n), (version, n), (mage, n), (create, n), (clickonce, n), (manifest, a), (files, n), (satisfied, v), (current, a), (solution, n), (seems, v), (like, n), (would, n), (industry, n), (wide, a), (accepted, v), (approach, n), (problem, n), (best, a), (way, n), (create, n), ...]</td>\n",
       "      <td>[team, develop, distribute, winform, apps, use, clickonce, deployment, please, however, find, pain, point, clickonce, create, deployment, standard, dev, test, production, environment, need, able, create, deployment, install, update, separate, one, another, also, want, control, assembly, get, deploy, assembly, compile, mean, want, deploy, obvious, first, choice, create, deployment, visual, studio, however, vs, really, address, issue, state, next, line, sdk, tool, mage, mage, work, ok, create, deployment, rather, tedious, want, every, developer, code, sign, certificate, password, end, roll, deployment, app, us, command, line, version, mage, create, clickonce, manifest, file, satisfy, current, solution, seem, like, would, industry, wide, accept, approach, problem, best, way, create, ...]</td>\n",
       "      <td>[team, develop, distribut, winform, app, use, clickonc, deploy, pleas, howev, found, pain, point, clickonc, creat, deploy, standard, dev, test, product, environ, need, abl, creat, deploy, instal, updat, separ, one, anoth, also, want, control, assembl, get, deploy, assembl, compil, mean, want, deploy, obvious, first, choic, creat, deploy, visual, studio, howev, vs, realli, address, issu, state, next, line, sdk, tool, mage, mage, work, ok, creat, deploy, rather, tedious, want, everi, develop, code, sign, certif, password, end, roll, deploy, app, use, command, line, version, mage, creat, clickonc, manifest, file, satisfi, current, solut, seem, like, would, industri, wide, accept, approach, problem, best, way, creat, ...]</td>\n",
       "      <td>team develop distribut winform app use clickonc deploy pleas howev found pain point clickonc creat deploy standard dev test product environ need abl creat deploy instal updat separ one anoth also want control assembl get deploy assembl compil mean want deploy obvious first choic creat deploy visual studio howev vs realli address issu state next line sdk tool mage mage work ok creat deploy rather tedious want everi develop code sign certif password end roll deploy app use command line version mage creat clickonc manifest file satisfi current solut seem like would industri wide accept approach problem best way creat clickonc deploy</td>\n",
       "    </tr>\n",
       "    <tr>\n",
       "      <th>6531409</th>\n",
       "      <td>ios: how to get image dimensions without opening it</td>\n",
       "      <td>in an ios app i need to provide image filters based on their size (width/height) think of something similar to large medium small in google images search. opening each image and reading its dimensions when creating the list would be very performance intensive. is there a way to get this info without opening the image itself? damien deville answered the question below based on his suggestion i am now using the following code:</td>\n",
       "      <td>['ios4', 'uikit']</td>\n",
       "      <td>[ios, app, need, provide, image, filters, based, size, width, height, think, something, similar, large, medium, small, google, images, search, opening, image, reading, dimensions, creating, list, would, performance, intensive, way, get, info, without, opening, image, damien, deville, answered, question, based, suggestion, using, following, code, ios, get, image, dimensions, without, opening]</td>\n",
       "      <td>[(ios, n), (app, v), (need, n), (provide, v), (image, n), (filters, n), (based, v), (size, n), (width, a), (height, n), (think, v), (something, n), (similar, a), (large, a), (medium, n), (small, a), (google, n), (images, n), (search, v), (opening, v), (image, n), (reading, n), (dimensions, n), (creating, v), (list, n), (would, n), (performance, n), (intensive, a), (way, n), (get, v), (info, v), (without, n), (opening, v), (image, n), (damien, n), (deville, n), (answered, v), (question, n), (based, v), (suggestion, n), (using, v), (following, v), (code, n), (ios, n), (get, v), (image, n), (dimensions, n), (without, n), (opening, v)]</td>\n",
       "      <td>[io, app, need, provide, image, filter, base, size, width, height, think, something, similar, large, medium, small, google, image, search, open, image, reading, dimension, create, list, would, performance, intensive, way, get, info, without, open, image, damien, deville, answer, question, base, suggestion, use, follow, code, io, get, image, dimension, without, open]</td>\n",
       "      <td>[io, app, need, provid, imag, filter, base, size, width, height, think, someth, similar, larg, medium, small, googl, imag, search, open, imag, read, dimens, creat, list, would, perform, intens, way, get, info, without, open, imag, damien, devill, answer, question, base, suggest, use, follow, code, io, get, imag, dimens, without, open]</td>\n",
       "      <td>io app need provid imag filter base size width height think someth similar larg medium small googl imag search open imag read dimens creat list would perform intens way get info without open imag damien devill answer question base suggest use follow code io get imag dimens without open</td>\n",
       "    </tr>\n",
       "    <tr>\n",
       "      <th>593205</th>\n",
       "      <td>action delegate with zero parameters</td>\n",
       "      <td>i see this line in many online examples of using the action delegate:  but when i try it in my own code i get this error  using the generic type 'system.action' requires '1' type arguments  the documentation certainly describes a form of action without any type parameter. what am i missing?</td>\n",
       "      <td>['c#', 'delegates', 'action']</td>\n",
       "      <td>[see, line, many, online, examples, using, action, delegate, try, code, get, error, using, generic, type, system, .action, requires, type, arguments, documentation, certainly, describes, form, action, without, type, parameter, missing, action, delegate, zero, parameters]</td>\n",
       "      <td>[(see, v), (line, n), (many, a), (online, n), (examples, n), (using, v), (action, n), (delegate, n), (try, n), (code, n), (get, v), (error, n), (using, v), (generic, a), (type, n), (system, n), (.action, n), (requires, v), (type, a), (arguments, n), (documentation, n), (certainly, r), (describes, v), (form, a), (action, n), (without, n), (type, n), (parameter, n), (missing, v), (action, n), (delegate, n), (zero, n), (parameters, n)]</td>\n",
       "      <td>[see, line, many, online, example, use, action, delegate, try, code, get, error, use, generic, type, system, .action, require, type, argument, documentation, certainly, describe, form, action, without, type, parameter, miss, action, delegate, zero, parameter]</td>\n",
       "      <td>[see, line, mani, onlin, exampl, use, action, deleg, tri, code, get, error, use, generic, type, system, .action, requir, type, argument, document, certain, describ, form, action, without, type, paramet, miss, action, deleg, zero, paramet]</td>\n",
       "      <td>see line mani onlin exampl use action deleg tri code get error use generic type system .action requir type argument document certain describ form action without type paramet miss action deleg zero paramet</td>\n",
       "    </tr>\n",
       "  </tbody>\n",
       "</table>\n",
       "</div>"
      ],
      "text/plain": [
       "                                                        Title  \\\n",
       "Id                                                              \n",
       "525063                       android respond to url in intent   \n",
       "14128723   eclipse -- progress windows don't show up any more   \n",
       "20728     what's the best way to create clickonce deployments   \n",
       "6531409   ios: how to get image dimensions without opening it   \n",
       "593205                   action delegate with zero parameters   \n",
       "\n",
       "                                                                                                                                                                                                                                                                                                                                                                                                                                                                                                                                                                                                                                                                                                                                                                                                                                                                                                                                                                                                                                                                                                       Body  \\\n",
       "Id                                                                                                                                                                                                                                                                                                                                                                                                                                                                                                                                                                                                                                                                                                                                                                                                                                                                                                                                                                                                                                                                                                            \n",
       "525063                                                                                                                                                                                                                                                                                                                                                                                                                                                                                                                                                                                                                                                                                                                                                                                                                                                                                                     i want my intent to be launched when the user goes to a certain url: for example the android market does this with http://market.android.com/ urls. so does youtube. i want mine to do that too.   \n",
       "14128723                                                                                                                                                                                                                                                                                                                                                                                                                                                                                                                                                                                                                                                                                                                     i used to see both building and cleaning actions in their own separate windows where i could wait for them to complete before continuing. several weeks ago i must have clicked run in background  because now the progress only appears in a small obscured progress view.  how do i set the progress of things like java build and clean to appear in a popup dialog again?    \n",
       "20728     our team develops distributed winform apps. we use clickonce for deployment and are very pleased with it. however we've found the pain point with clickonce is in creating the deployments. we have the standard dev/test/production environments and need to be able to create deployments for each of these that install and update separate from one another. also we want control over what assemblies get deployed. just because an assembly was compiled doesn't mean we want it deployed. the obvious first choice for creating deployments is visual studio. however vs really doesn't address the issues stated. the next in line is the sdk tool mage. mage works ok but creating deployments is rather tedious and we don't want every developer having our code signing certificate and password. what we ended up doing was rolling our own deployment app that uses the command line version of mage to create the clickonce manifest files. i'm satisfied with our current solution but is seems like there would be an industry-wide accepted approach to this problem. is there?   \n",
       "6531409                                                                                                                                                                                                                                                                                                                                                                                                                                                                                                                                                                                                                                                       in an ios app i need to provide image filters based on their size (width/height) think of something similar to large medium small in google images search. opening each image and reading its dimensions when creating the list would be very performance intensive. is there a way to get this info without opening the image itself? damien deville answered the question below based on his suggestion i am now using the following code:    \n",
       "593205                                                                                                                                                                                                                                                                                                                                                                                                                                                                                                                                                                                                                                                                                                                                                                                                  i see this line in many online examples of using the action delegate:  but when i try it in my own code i get this error  using the generic type 'system.action' requires '1' type arguments  the documentation certainly describes a form of action without any type parameter. what am i missing?   \n",
       "\n",
       "                                                                    Tags  \\\n",
       "Id                                                                         \n",
       "525063    ['android', 'url', 'android-intent', 'intentfilter', 'launch']   \n",
       "14128723                                             ['java', 'eclipse']   \n",
       "20728                            ['winforms', 'deployment', 'clickonce']   \n",
       "6531409                                                ['ios4', 'uikit']   \n",
       "593205                                     ['c#', 'delegates', 'action']   \n",
       "\n",
       "                                                                                                                                                                                                                                                                                                                                                                                                                                                                                                                                                                                                                                                                                                                                                                                                                                                                        Tokens  \\\n",
       "Id                                                                                                                                                                                                                                                                                                                                                                                                                                                                                                                                                                                                                                                                                                                                                                                                                                                                               \n",
       "525063                                                                                                                                                                                                                                                                                                                                                                                                                                                                                                                                                                                                                                                                                                   [want, intent, launched, user, goes, certain, url, example, android, market, http, market, .android, .com, urls, youtube, want, mine, .android, respond, url, intent]   \n",
       "14128723                                                                                                                                                                                                                                                                                                                                                                                                                                                                                                                                                     [used, see, building, cleaning, actions, separate, windows, could, wait, complete, continuing, several, weeks, ago, must, clicked, run, background, progress, appears, small, obscured, progress, view, set, progress, things, like, java, build, clean, appear, popup, dialog, eclipse, progress, windows, show]   \n",
       "20728     [team, develops, distributed, winform, apps, use, clickonce, deployment, pleased, however, found, pain, point, clickonce, creating, deployments, standard, dev, test, production, environments, need, able, create, deployments, install, update, separate, one, another, also, want, control, assemblies, get, deployed, assembly, compiled, mean, want, deployed, obvious, first, choice, creating, deployments, visual, studio, however, vs, really, address, issues, stated, next, line, sdk, tool, mage, mage, works, ok, creating, deployments, rather, tedious, want, every, developer, code, signing, certificate, password, ended, rolling, deployment, app, uses, command, line, version, mage, create, clickonce, manifest, files, satisfied, current, solution, seems, like, would, industry, wide, accepted, approach, problem, best, way, create, ...]   \n",
       "6531409                                                                                                                                                                                                                                                                                                                                                                                                                                                             [ios, app, need, provide, image, filters, based, size, width, height, think, something, similar, large, medium, small, google, images, search, opening, image, reading, dimensions, creating, list, would, performance, intensive, way, get, info, without, opening, image, damien, deville, answered, question, based, suggestion, using, following, code, ios, get, image, dimensions, without, opening]   \n",
       "593205                                                                                                                                                                                                                                                                                                                                                                                                                                                                                                                                                                                         [see, line, many, online, examples, using, action, delegate, try, code, get, error, using, generic, type, system, .action, requires, type, arguments, documentation, certainly, describes, form, action, without, type, parameter, missing, action, delegate, zero, parameters]   \n",
       "\n",
       "                                                                                                                                                                                                                                                                                                                                                                                                                                                                                                                                                                                                                                                                                                                                                                                                                                                                                                                                                                                                                                                                                                                                                                                                                                                                                                                                                                                               POS  \\\n",
       "Id                                                                                                                                                                                                                                                                                                                                                                                                                                                                                                                                                                                                                                                                                                                                                                                                                                                                                                                                                                                                                                                                                                                                                                                                                                                                                                                                                                                                   \n",
       "525063                                                                                                                                                                                                                                                                                                                                                                                                                                                                                                                                                                                                                                                                                                                                                                                                                                                                                                                                                                                                                                                                                                         [(want, a), (intent, n), (launched, v), (user, n), (goes, v), (certain, a), (url, a), (example, n), (android, a), (market, n), (http, n), (market, n), (.android, n), (.com, n), (urls, a), (youtube, n), (want, v), (mine, n), (.android, a), (respond, n), (url, a), (intent, n)]   \n",
       "14128723                                                                                                                                                                                                                                                                                                                                                                                                                                                                                                                                                                                                                                                                                                                                                                                                                                                                           [(used, v), (see, n), (building, v), (cleaning, v), (actions, n), (separate, a), (windows, n), (could, n), (wait, v), (complete, a), (continuing, v), (several, a), (weeks, n), (ago, r), (must, n), (clicked, v), (run, n), (background, n), (progress, n), (appears, v), (small, a), (obscured, a), (progress, n), (view, n), (set, v), (progress, a), (things, n), (like, n), (java, n), (build, v), (clean, a), (appear, v), (popup, a), (dialog, n), (eclipse, n), (progress, n), (windows, v), (show, n)]   \n",
       "20728     [(team, n), (develops, v), (distributed, v), (winform, n), (apps, n), (use, n), (clickonce, n), (deployment, n), (pleased, v), (however, r), (found, v), (pain, n), (point, n), (clickonce, n), (creating, v), (deployments, n), (standard, a), (dev, a), (test, n), (production, n), (environments, n), (need, v), (able, a), (create, n), (deployments, n), (install, a), (update, a), (separate, a), (one, n), (another, n), (also, r), (want, v), (control, n), (assemblies, n), (get, v), (deployed, v), (assembly, r), (compiled, v), (mean, n), (want, v), (deployed, v), (obvious, a), (first, a), (choice, n), (creating, v), (deployments, n), (visual, a), (studio, n), (however, r), (vs, r), (really, r), (address, a), (issues, n), (stated, v), (next, a), (line, n), (sdk, n), (tool, n), (mage, n), (mage, n), (works, v), (ok, r), (creating, v), (deployments, n), (rather, r), (tedious, a), (want, v), (every, n), (developer, n), (code, n), (signing, v), (certificate, n), (password, n), (ended, v), (rolling, v), (deployment, a), (app, a), (uses, n), (command, v), (line, n), (version, n), (mage, n), (create, n), (clickonce, n), (manifest, a), (files, n), (satisfied, v), (current, a), (solution, n), (seems, v), (like, n), (would, n), (industry, n), (wide, a), (accepted, v), (approach, n), (problem, n), (best, a), (way, n), (create, n), ...]   \n",
       "6531409                                                                                                                                                                                                                                                                                                                                                                                                                                                                                                                                                                                                                                                                                                                            [(ios, n), (app, v), (need, n), (provide, v), (image, n), (filters, n), (based, v), (size, n), (width, a), (height, n), (think, v), (something, n), (similar, a), (large, a), (medium, n), (small, a), (google, n), (images, n), (search, v), (opening, v), (image, n), (reading, n), (dimensions, n), (creating, v), (list, n), (would, n), (performance, n), (intensive, a), (way, n), (get, v), (info, v), (without, n), (opening, v), (image, n), (damien, n), (deville, n), (answered, v), (question, n), (based, v), (suggestion, n), (using, v), (following, v), (code, n), (ios, n), (get, v), (image, n), (dimensions, n), (without, n), (opening, v)]   \n",
       "593205                                                                                                                                                                                                                                                                                                                                                                                                                                                                                                                                                                                                                                                                                                                                                                                                                                                                                                                                        [(see, v), (line, n), (many, a), (online, n), (examples, n), (using, v), (action, n), (delegate, n), (try, n), (code, n), (get, v), (error, n), (using, v), (generic, a), (type, n), (system, n), (.action, n), (requires, v), (type, a), (arguments, n), (documentation, n), (certainly, r), (describes, v), (form, a), (action, n), (without, n), (type, n), (parameter, n), (missing, v), (action, n), (delegate, n), (zero, n), (parameters, n)]   \n",
       "\n",
       "                                                                                                                                                                                                                                                                                                                                                                                                                                                                                                                                                                                                                                                                                                                                                                                                                           Lemmatized  \\\n",
       "Id                                                                                                                                                                                                                                                                                                                                                                                                                                                                                                                                                                                                                                                                                                                                                                                                                                      \n",
       "525063                                                                                                                                                                                                                                                                                                                                                                                                                                                                                                                                                                                                                                                              [want, intent, launch, user, go, certain, url, example, android, market, http, market, .android, .com, urls, youtube, want, mine, .android, respond, url, intent]   \n",
       "14128723                                                                                                                                                                                                                                                                                                                                                                                                                                                                                                                            [use, see, build, clean, action, separate, window, could, wait, complete, continue, several, week, ago, must, click, run, background, progress, appear, small, obscured, progress, view, set, progress, thing, like, java, build, clean, appear, popup, dialog, eclipse, progress, windows, show]   \n",
       "20728     [team, develop, distribute, winform, apps, use, clickonce, deployment, please, however, find, pain, point, clickonce, create, deployment, standard, dev, test, production, environment, need, able, create, deployment, install, update, separate, one, another, also, want, control, assembly, get, deploy, assembly, compile, mean, want, deploy, obvious, first, choice, create, deployment, visual, studio, however, vs, really, address, issue, state, next, line, sdk, tool, mage, mage, work, ok, create, deployment, rather, tedious, want, every, developer, code, sign, certificate, password, end, roll, deployment, app, us, command, line, version, mage, create, clickonce, manifest, file, satisfy, current, solution, seem, like, would, industry, wide, accept, approach, problem, best, way, create, ...]   \n",
       "6531409                                                                                                                                                                                                                                                                                                                                                                                                                                              [io, app, need, provide, image, filter, base, size, width, height, think, something, similar, large, medium, small, google, image, search, open, image, reading, dimension, create, list, would, performance, intensive, way, get, info, without, open, image, damien, deville, answer, question, base, suggestion, use, follow, code, io, get, image, dimension, without, open]   \n",
       "593205                                                                                                                                                                                                                                                                                                                                                                                                                                                                                                                                                            [see, line, many, online, example, use, action, delegate, try, code, get, error, use, generic, type, system, .action, require, type, argument, documentation, certainly, describe, form, action, without, type, parameter, miss, action, delegate, zero, parameter]   \n",
       "\n",
       "                                                                                                                                                                                                                                                                                                                                                                                                                                                                                                                                                                                                                                                                                                                                                     LemmaAndStem  \\\n",
       "Id                                                                                                                                                                                                                                                                                                                                                                                                                                                                                                                                                                                                                                                                                                                                                                  \n",
       "525063                                                                                                                                                                                                                                                                                                                                                                                                                                                                                                                                                                                            [want, intent, launch, user, goe, certain, url, exampl, android, market, http, market, .android, .com, url, youtub, want, mine, .android, respond, url, intent]   \n",
       "14128723                                                                                                                                                                                                                                                                                                                                                                                                                                                                   [use, see, build, clean, action, separ, window, could, wait, complet, continu, sever, week, ago, must, click, run, background, progress, appear, small, obscur, progress, view, set, progress, thing, like, java, build, clean, appear, popup, dialog, eclips, progress, window, show]   \n",
       "20728     [team, develop, distribut, winform, app, use, clickonc, deploy, pleas, howev, found, pain, point, clickonc, creat, deploy, standard, dev, test, product, environ, need, abl, creat, deploy, instal, updat, separ, one, anoth, also, want, control, assembl, get, deploy, assembl, compil, mean, want, deploy, obvious, first, choic, creat, deploy, visual, studio, howev, vs, realli, address, issu, state, next, line, sdk, tool, mage, mage, work, ok, creat, deploy, rather, tedious, want, everi, develop, code, sign, certif, password, end, roll, deploy, app, use, command, line, version, mage, creat, clickonc, manifest, file, satisfi, current, solut, seem, like, would, industri, wide, accept, approach, problem, best, way, creat, ...]   \n",
       "6531409                                                                                                                                                                                                                                                                                                                                                                                                          [io, app, need, provid, imag, filter, base, size, width, height, think, someth, similar, larg, medium, small, googl, imag, search, open, imag, read, dimens, creat, list, would, perform, intens, way, get, info, without, open, imag, damien, devill, answer, question, base, suggest, use, follow, code, io, get, imag, dimens, without, open]   \n",
       "593205                                                                                                                                                                                                                                                                                                                                                                                                                                                                                                             [see, line, mani, onlin, exampl, use, action, deleg, tri, code, get, error, use, generic, type, system, .action, requir, type, argument, document, certain, describ, form, action, without, type, paramet, miss, action, deleg, zero, paramet]   \n",
       "\n",
       "                                                                                                                                                                                                                                                                                                                                                                                                                                                                                                                                                                                                                                                               Sentence  \n",
       "Id                                                                                                                                                                                                                                                                                                                                                                                                                                                                                                                                                                                                                                                                       \n",
       "525063                                                                                                                                                                                                                                                                                                                                                                                                                                                                                                                         want intent launch user goe certain url exampl android market http market .android .com url youtub want mine .android respond url intent  \n",
       "14128723                                                                                                                                                                                                                                                                                                                                                                                                                use see build clean action separ window could wait complet continu sever week ago must click run background progress appear small obscur progress view set progress thing like java build clean appear popup dialog eclips progress window show  \n",
       "20728     team develop distribut winform app use clickonc deploy pleas howev found pain point clickonc creat deploy standard dev test product environ need abl creat deploy instal updat separ one anoth also want control assembl get deploy assembl compil mean want deploy obvious first choic creat deploy visual studio howev vs realli address issu state next line sdk tool mage mage work ok creat deploy rather tedious want everi develop code sign certif password end roll deploy app use command line version mage creat clickonc manifest file satisfi current solut seem like would industri wide accept approach problem best way creat clickonc deploy  \n",
       "6531409                                                                                                                                                                                                                                                                                                                                                                  io app need provid imag filter base size width height think someth similar larg medium small googl imag search open imag read dimens creat list would perform intens way get info without open imag damien devill answer question base suggest use follow code io get imag dimens without open  \n",
       "593205                                                                                                                                                                                                                                                                                                                                                                                                                                                     see line mani onlin exampl use action deleg tri code get error use generic type system .action requir type argument document certain describ form action without type paramet miss action deleg zero paramet  "
      ]
     },
     "execution_count": 57,
     "metadata": {},
     "output_type": "execute_result"
    }
   ],
   "source": [
    "display = None\n",
    "if config[\"processing\"]:\n",
    "    display = data.head()\n",
    "display"
   ]
  },
  {
   "cell_type": "code",
   "execution_count": 58,
   "metadata": {},
   "outputs": [],
   "source": [
    "if config[\"processing\"]:\n",
    "    data.to_csv(\"data/data_cleaned.csv\", index_label=\"Id\")"
   ]
  }
 ],
 "metadata": {
  "interpreter": {
   "hash": "586ad1ed5c97141e2437e681efbf1ec0adcd17d830cf5af2ca3d2819e743e158"
  },
  "kernelspec": {
   "display_name": "Python 3.8.12 64-bit ('base': conda)",
   "language": "python",
   "name": "python3"
  },
  "language_info": {
   "codemirror_mode": {
    "name": "ipython",
    "version": 3
   },
   "file_extension": ".py",
   "mimetype": "text/x-python",
   "name": "python",
   "nbconvert_exporter": "python",
   "pygments_lexer": "ipython3",
   "version": "3.8.12"
  },
  "orig_nbformat": 4
 },
 "nbformat": 4,
 "nbformat_minor": 2
}
