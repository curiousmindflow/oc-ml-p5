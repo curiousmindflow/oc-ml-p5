{
 "cells": [
  {
   "cell_type": "markdown",
   "metadata": {},
   "source": [
    "# 0 Imports"
   ]
  },
  {
   "cell_type": "code",
   "execution_count": 1,
   "metadata": {},
   "outputs": [],
   "source": [
    "import numpy as np\n",
    "import matplotlib as pl\n",
    "import seaborn as sns\n",
    "import pandas as pd\n",
    "\n",
    "import re\n",
    "\n",
    "from bs4 import BeautifulSoup as bs\n",
    "import nltk\n",
    "from nltk import pos_tag\n",
    "from nltk.corpus import stopwords, wordnet\n",
    "from nltk.stem import SnowballStemmer, WordNetLemmatizer\n",
    "# nltk.download()\n",
    "\n",
    "pd.set_option(\"display.max_columns\", None)\n",
    "pd.set_option(\"display.max_rows\", None)\n",
    "pd.set_option(\"display.max_colwidth\", None)\n",
    "\n",
    "np.random.seed(0)\n"
   ]
  },
  {
   "cell_type": "markdown",
   "metadata": {},
   "source": [
    "***\n",
    "# 1 Config"
   ]
  },
  {
   "cell_type": "code",
   "execution_count": 2,
   "metadata": {},
   "outputs": [],
   "source": [
    "config = {\n",
    "    \"raw_preproc\": True,\n",
    "    \"processing\": True\n",
    "}"
   ]
  },
  {
   "cell_type": "markdown",
   "metadata": {},
   "source": [
    "***\n",
    "# 2 Raw data preprocessing"
   ]
  },
  {
   "cell_type": "markdown",
   "metadata": {},
   "source": [
    "## 2.1 Parse raw data body html"
   ]
  },
  {
   "cell_type": "code",
   "execution_count": 3,
   "metadata": {},
   "outputs": [],
   "source": [
    "if config[\"raw_preproc\"]:\n",
    "    raw_data_body = pd.read_csv(\"data/raw_data_body.csv\")\n",
    "    raw_data_body.shape"
   ]
  },
  {
   "cell_type": "code",
   "execution_count": 4,
   "metadata": {},
   "outputs": [],
   "source": [
    "if config[\"raw_preproc\"]:\n",
    "    def preproc_raw_data_body(cell):\n",
    "        soup = bs(cell, \"html.parser\")\n",
    "\n",
    "        script_tags = soup.find_all(\"script\")\n",
    "        for script_tag in script_tags:\n",
    "            script_tag.extract()\n",
    "\n",
    "        code_tags = soup.find_all(\"code\")\n",
    "        for code_tag in code_tags:\n",
    "            code_tag.extract()\n",
    "\n",
    "        preproc_cell = soup.get_text()\n",
    "        preproc_cell = preproc_cell.replace(',', ' ')\n",
    "\n",
    "        return preproc_cell"
   ]
  },
  {
   "cell_type": "code",
   "execution_count": 5,
   "metadata": {},
   "outputs": [],
   "source": [
    "if config[\"raw_preproc\"]:\n",
    "    raw_data_body[\"Body\"] = raw_data_body.apply(lambda row: preproc_raw_data_body(row.Body), axis=1)"
   ]
  },
  {
   "cell_type": "markdown",
   "metadata": {},
   "source": [
    "***\n",
    "## 2.2 Merge body raw data to the rest"
   ]
  },
  {
   "cell_type": "code",
   "execution_count": 6,
   "metadata": {},
   "outputs": [],
   "source": [
    "if config[\"raw_preproc\"]:\n",
    "    raw_data_rest = pd.read_csv(\"data/raw_data_id_title_tags.csv\")"
   ]
  },
  {
   "cell_type": "code",
   "execution_count": 7,
   "metadata": {},
   "outputs": [],
   "source": [
    "if config[\"raw_preproc\"]:\n",
    "    raw_data = raw_data_rest.join(raw_data_body)\n",
    "    raw_data = raw_data.set_index(\"Id\").reindex([\"Title\", \"Body\", \"Tags\"], axis=\"columns\")"
   ]
  },
  {
   "cell_type": "code",
   "execution_count": 8,
   "metadata": {},
   "outputs": [
    {
     "data": {
      "text/html": [
       "<div>\n",
       "<style scoped>\n",
       "    .dataframe tbody tr th:only-of-type {\n",
       "        vertical-align: middle;\n",
       "    }\n",
       "\n",
       "    .dataframe tbody tr th {\n",
       "        vertical-align: top;\n",
       "    }\n",
       "\n",
       "    .dataframe thead th {\n",
       "        text-align: right;\n",
       "    }\n",
       "</style>\n",
       "<table border=\"1\" class=\"dataframe\">\n",
       "  <thead>\n",
       "    <tr style=\"text-align: right;\">\n",
       "      <th></th>\n",
       "      <th>Title</th>\n",
       "      <th>Body</th>\n",
       "      <th>Tags</th>\n",
       "    </tr>\n",
       "    <tr>\n",
       "      <th>Id</th>\n",
       "      <th></th>\n",
       "      <th></th>\n",
       "      <th></th>\n",
       "    </tr>\n",
       "  </thead>\n",
       "  <tbody>\n",
       "    <tr>\n",
       "      <th>4</th>\n",
       "      <td>How to convert a Decimal to a Double in C#?</td>\n",
       "      <td>I want to use a  to change a 's opacity.\\nThis is my code:\\n\\nWhen I build the application  it gives the following error:\\n\\n\\n\\nI have tried using  and   but then the  doesn't work. This code worked fine in a past VB.NET project.\\n</td>\n",
       "      <td>&lt;c#&gt;&lt;floating-point&gt;&lt;type-conversion&gt;&lt;double&gt;&lt;decimal&gt;</td>\n",
       "    </tr>\n",
       "    <tr>\n",
       "      <th>6</th>\n",
       "      <td>Why did the width collapse in the percentage width child element in an absolutely positioned parent on Internet Explorer 7?</td>\n",
       "      <td>I have an absolutely positioned  containing several children  one of which is a relatively positioned . When I use a  on the child   it collapses to  on IE7  but not on Firefox or Safari.\\nIf I use   it works. If the parent is relatively positioned  the percentage width on the child works.\\n\\nIs there something I'm missing here?\\nIs there an easy fix for this besides the  on the child?\\nIs there an area of the CSS specification that covers this?\\n\\n</td>\n",
       "      <td>&lt;html&gt;&lt;css&gt;&lt;internet-explorer-7&gt;</td>\n",
       "    </tr>\n",
       "    <tr>\n",
       "      <th>9</th>\n",
       "      <td>How do I calculate someone's age based on a DateTime type birthday?</td>\n",
       "      <td>Given a  representing a person's birthday  how do I calculate their age in years?\\n</td>\n",
       "      <td>&lt;c#&gt;&lt;.net&gt;&lt;datetime&gt;</td>\n",
       "    </tr>\n",
       "    <tr>\n",
       "      <th>11</th>\n",
       "      <td>Calculate relative time in C#</td>\n",
       "      <td>Given a specific  value  how do I display relative time  like:\\n\\n2 hours ago\\n3 days ago\\na month ago\\n\\n</td>\n",
       "      <td>&lt;c#&gt;&lt;datetime&gt;&lt;time&gt;&lt;datediff&gt;&lt;relative-time-span&gt;</td>\n",
       "    </tr>\n",
       "    <tr>\n",
       "      <th>13</th>\n",
       "      <td>Determine a user's timezone</td>\n",
       "      <td>Is there a standard way for a web server to be able to determine a user's timezone within a web page? \\nPerhaps from an HTTP header or part of the  string?\\n</td>\n",
       "      <td>&lt;html&gt;&lt;browser&gt;&lt;timezone&gt;&lt;user-agent&gt;&lt;timezone-offset&gt;</td>\n",
       "    </tr>\n",
       "  </tbody>\n",
       "</table>\n",
       "</div>"
      ],
      "text/plain": [
       "                                                                                                                          Title  \\\n",
       "Id                                                                                                                                \n",
       "4                                                                                   How to convert a Decimal to a Double in C#?   \n",
       "6   Why did the width collapse in the percentage width child element in an absolutely positioned parent on Internet Explorer 7?   \n",
       "9                                                           How do I calculate someone's age based on a DateTime type birthday?   \n",
       "11                                                                                                Calculate relative time in C#   \n",
       "13                                                                                                  Determine a user's timezone   \n",
       "\n",
       "                                                                                                                                                                                                                                                                                                                                                                                                                                                                     Body  \\\n",
       "Id                                                                                                                                                                                                                                                                                                                                                                                                                                                                          \n",
       "4                                                                                                                                                                                                                                I want to use a  to change a 's opacity.\\nThis is my code:\\n\\nWhen I build the application  it gives the following error:\\n\\n\\n\\nI have tried using  and   but then the  doesn't work. This code worked fine in a past VB.NET project.\\n   \n",
       "6   I have an absolutely positioned  containing several children  one of which is a relatively positioned . When I use a  on the child   it collapses to  on IE7  but not on Firefox or Safari.\\nIf I use   it works. If the parent is relatively positioned  the percentage width on the child works.\\n\\nIs there something I'm missing here?\\nIs there an easy fix for this besides the  on the child?\\nIs there an area of the CSS specification that covers this?\\n\\n   \n",
       "9                                                                                                                                                                                                                                                                                                                                                                                     Given a  representing a person's birthday  how do I calculate their age in years?\\n   \n",
       "11                                                                                                                                                                                                                                                                                                                                                             Given a specific  value  how do I display relative time  like:\\n\\n2 hours ago\\n3 days ago\\na month ago\\n\\n   \n",
       "13                                                                                                                                                                                                                                                                                                          Is there a standard way for a web server to be able to determine a user's timezone within a web page? \\nPerhaps from an HTTP header or part of the  string?\\n   \n",
       "\n",
       "                                                      Tags  \n",
       "Id                                                          \n",
       "4   <c#><floating-point><type-conversion><double><decimal>  \n",
       "6                         <html><css><internet-explorer-7>  \n",
       "9                                     <c#><.net><datetime>  \n",
       "11      <c#><datetime><time><datediff><relative-time-span>  \n",
       "13  <html><browser><timezone><user-agent><timezone-offset>  "
      ]
     },
     "execution_count": 8,
     "metadata": {},
     "output_type": "execute_result"
    }
   ],
   "source": [
    "display = None\n",
    "if config[\"raw_preproc\"]:\n",
    "    display = raw_data.head()\n",
    "display"
   ]
  },
  {
   "cell_type": "markdown",
   "metadata": {},
   "source": [
    "***\n",
    "## 2.3 Tags to list"
   ]
  },
  {
   "cell_type": "code",
   "execution_count": 9,
   "metadata": {},
   "outputs": [],
   "source": [
    "if config[\"raw_preproc\"]:\n",
    "    def tags_to_list(cell):\n",
    "        return [tag for tag in re.split(r'[<>]', cell) if tag]"
   ]
  },
  {
   "cell_type": "code",
   "execution_count": 10,
   "metadata": {},
   "outputs": [],
   "source": [
    "if config[\"raw_preproc\"]:\n",
    "    raw_data[\"Tags\"] = raw_data.apply(lambda row: tags_to_list(row[\"Tags\"]), axis=\"columns\")"
   ]
  },
  {
   "cell_type": "code",
   "execution_count": 11,
   "metadata": {},
   "outputs": [
    {
     "data": {
      "text/plain": [
       "Id\n",
       "4     [c#, floating-point, type-conversion, double, decimal]\n",
       "6                           [html, css, internet-explorer-7]\n",
       "9                                       [c#, .net, datetime]\n",
       "11        [c#, datetime, time, datediff, relative-time-span]\n",
       "13    [html, browser, timezone, user-agent, timezone-offset]\n",
       "Name: Tags, dtype: object"
      ]
     },
     "execution_count": 11,
     "metadata": {},
     "output_type": "execute_result"
    }
   ],
   "source": [
    "display = None\n",
    "if config[\"raw_preproc\"]:\n",
    "    display = raw_data[\"Tags\"].head()\n",
    "display"
   ]
  },
  {
   "cell_type": "markdown",
   "metadata": {},
   "source": [
    "***\n",
    "## 2.4 Lowering"
   ]
  },
  {
   "cell_type": "code",
   "execution_count": 12,
   "metadata": {},
   "outputs": [],
   "source": [
    "if config[\"raw_preproc\"]:\n",
    "    def lower(cell):\n",
    "        return cell.lower()"
   ]
  },
  {
   "cell_type": "code",
   "execution_count": 13,
   "metadata": {},
   "outputs": [],
   "source": [
    "if config[\"raw_preproc\"]:\n",
    "    raw_data[\"Title\"] = raw_data.apply(lambda row: lower(row[\"Title\"]), axis=\"columns\")\n",
    "    raw_data[\"Body\"] = raw_data.apply(lambda row: lower(row[\"Body\"]), axis=\"columns\")"
   ]
  },
  {
   "cell_type": "code",
   "execution_count": 14,
   "metadata": {},
   "outputs": [
    {
     "data": {
      "text/html": [
       "<div>\n",
       "<style scoped>\n",
       "    .dataframe tbody tr th:only-of-type {\n",
       "        vertical-align: middle;\n",
       "    }\n",
       "\n",
       "    .dataframe tbody tr th {\n",
       "        vertical-align: top;\n",
       "    }\n",
       "\n",
       "    .dataframe thead th {\n",
       "        text-align: right;\n",
       "    }\n",
       "</style>\n",
       "<table border=\"1\" class=\"dataframe\">\n",
       "  <thead>\n",
       "    <tr style=\"text-align: right;\">\n",
       "      <th></th>\n",
       "      <th>Title</th>\n",
       "      <th>Body</th>\n",
       "    </tr>\n",
       "    <tr>\n",
       "      <th>Id</th>\n",
       "      <th></th>\n",
       "      <th></th>\n",
       "    </tr>\n",
       "  </thead>\n",
       "  <tbody>\n",
       "    <tr>\n",
       "      <th>4</th>\n",
       "      <td>how to convert a decimal to a double in c#?</td>\n",
       "      <td>i want to use a  to change a 's opacity.\\nthis is my code:\\n\\nwhen i build the application  it gives the following error:\\n\\n\\n\\ni have tried using  and   but then the  doesn't work. this code worked fine in a past vb.net project.\\n</td>\n",
       "    </tr>\n",
       "    <tr>\n",
       "      <th>6</th>\n",
       "      <td>why did the width collapse in the percentage width child element in an absolutely positioned parent on internet explorer 7?</td>\n",
       "      <td>i have an absolutely positioned  containing several children  one of which is a relatively positioned . when i use a  on the child   it collapses to  on ie7  but not on firefox or safari.\\nif i use   it works. if the parent is relatively positioned  the percentage width on the child works.\\n\\nis there something i'm missing here?\\nis there an easy fix for this besides the  on the child?\\nis there an area of the css specification that covers this?\\n\\n</td>\n",
       "    </tr>\n",
       "    <tr>\n",
       "      <th>9</th>\n",
       "      <td>how do i calculate someone's age based on a datetime type birthday?</td>\n",
       "      <td>given a  representing a person's birthday  how do i calculate their age in years?\\n</td>\n",
       "    </tr>\n",
       "    <tr>\n",
       "      <th>11</th>\n",
       "      <td>calculate relative time in c#</td>\n",
       "      <td>given a specific  value  how do i display relative time  like:\\n\\n2 hours ago\\n3 days ago\\na month ago\\n\\n</td>\n",
       "    </tr>\n",
       "    <tr>\n",
       "      <th>13</th>\n",
       "      <td>determine a user's timezone</td>\n",
       "      <td>is there a standard way for a web server to be able to determine a user's timezone within a web page? \\nperhaps from an http header or part of the  string?\\n</td>\n",
       "    </tr>\n",
       "  </tbody>\n",
       "</table>\n",
       "</div>"
      ],
      "text/plain": [
       "                                                                                                                          Title  \\\n",
       "Id                                                                                                                                \n",
       "4                                                                                   how to convert a decimal to a double in c#?   \n",
       "6   why did the width collapse in the percentage width child element in an absolutely positioned parent on internet explorer 7?   \n",
       "9                                                           how do i calculate someone's age based on a datetime type birthday?   \n",
       "11                                                                                                calculate relative time in c#   \n",
       "13                                                                                                  determine a user's timezone   \n",
       "\n",
       "                                                                                                                                                                                                                                                                                                                                                                                                                                                                     Body  \n",
       "Id                                                                                                                                                                                                                                                                                                                                                                                                                                                                         \n",
       "4                                                                                                                                                                                                                                i want to use a  to change a 's opacity.\\nthis is my code:\\n\\nwhen i build the application  it gives the following error:\\n\\n\\n\\ni have tried using  and   but then the  doesn't work. this code worked fine in a past vb.net project.\\n  \n",
       "6   i have an absolutely positioned  containing several children  one of which is a relatively positioned . when i use a  on the child   it collapses to  on ie7  but not on firefox or safari.\\nif i use   it works. if the parent is relatively positioned  the percentage width on the child works.\\n\\nis there something i'm missing here?\\nis there an easy fix for this besides the  on the child?\\nis there an area of the css specification that covers this?\\n\\n  \n",
       "9                                                                                                                                                                                                                                                                                                                                                                                     given a  representing a person's birthday  how do i calculate their age in years?\\n  \n",
       "11                                                                                                                                                                                                                                                                                                                                                             given a specific  value  how do i display relative time  like:\\n\\n2 hours ago\\n3 days ago\\na month ago\\n\\n  \n",
       "13                                                                                                                                                                                                                                                                                                          is there a standard way for a web server to be able to determine a user's timezone within a web page? \\nperhaps from an http header or part of the  string?\\n  "
      ]
     },
     "execution_count": 14,
     "metadata": {},
     "output_type": "execute_result"
    }
   ],
   "source": [
    "display = None\n",
    "if config[\"raw_preproc\"]:\n",
    "    display = raw_data[[\"Title\", \"Body\"]].head()\n",
    "display"
   ]
  },
  {
   "cell_type": "markdown",
   "metadata": {},
   "source": [
    "***\n",
    "## 2.5 Save raw_data"
   ]
  },
  {
   "cell_type": "code",
   "execution_count": 15,
   "metadata": {},
   "outputs": [
    {
     "data": {
      "text/html": [
       "<div>\n",
       "<style scoped>\n",
       "    .dataframe tbody tr th:only-of-type {\n",
       "        vertical-align: middle;\n",
       "    }\n",
       "\n",
       "    .dataframe tbody tr th {\n",
       "        vertical-align: top;\n",
       "    }\n",
       "\n",
       "    .dataframe thead th {\n",
       "        text-align: right;\n",
       "    }\n",
       "</style>\n",
       "<table border=\"1\" class=\"dataframe\">\n",
       "  <thead>\n",
       "    <tr style=\"text-align: right;\">\n",
       "      <th></th>\n",
       "      <th>Title</th>\n",
       "      <th>Body</th>\n",
       "      <th>Tags</th>\n",
       "    </tr>\n",
       "    <tr>\n",
       "      <th>Id</th>\n",
       "      <th></th>\n",
       "      <th></th>\n",
       "      <th></th>\n",
       "    </tr>\n",
       "  </thead>\n",
       "  <tbody>\n",
       "    <tr>\n",
       "      <th>4</th>\n",
       "      <td>how to convert a decimal to a double in c#?</td>\n",
       "      <td>i want to use a  to change a 's opacity.\\nthis is my code:\\n\\nwhen i build the application  it gives the following error:\\n\\n\\n\\ni have tried using  and   but then the  doesn't work. this code worked fine in a past vb.net project.\\n</td>\n",
       "      <td>[c#, floating-point, type-conversion, double, decimal]</td>\n",
       "    </tr>\n",
       "    <tr>\n",
       "      <th>6</th>\n",
       "      <td>why did the width collapse in the percentage width child element in an absolutely positioned parent on internet explorer 7?</td>\n",
       "      <td>i have an absolutely positioned  containing several children  one of which is a relatively positioned . when i use a  on the child   it collapses to  on ie7  but not on firefox or safari.\\nif i use   it works. if the parent is relatively positioned  the percentage width on the child works.\\n\\nis there something i'm missing here?\\nis there an easy fix for this besides the  on the child?\\nis there an area of the css specification that covers this?\\n\\n</td>\n",
       "      <td>[html, css, internet-explorer-7]</td>\n",
       "    </tr>\n",
       "    <tr>\n",
       "      <th>9</th>\n",
       "      <td>how do i calculate someone's age based on a datetime type birthday?</td>\n",
       "      <td>given a  representing a person's birthday  how do i calculate their age in years?\\n</td>\n",
       "      <td>[c#, .net, datetime]</td>\n",
       "    </tr>\n",
       "    <tr>\n",
       "      <th>11</th>\n",
       "      <td>calculate relative time in c#</td>\n",
       "      <td>given a specific  value  how do i display relative time  like:\\n\\n2 hours ago\\n3 days ago\\na month ago\\n\\n</td>\n",
       "      <td>[c#, datetime, time, datediff, relative-time-span]</td>\n",
       "    </tr>\n",
       "    <tr>\n",
       "      <th>13</th>\n",
       "      <td>determine a user's timezone</td>\n",
       "      <td>is there a standard way for a web server to be able to determine a user's timezone within a web page? \\nperhaps from an http header or part of the  string?\\n</td>\n",
       "      <td>[html, browser, timezone, user-agent, timezone-offset]</td>\n",
       "    </tr>\n",
       "  </tbody>\n",
       "</table>\n",
       "</div>"
      ],
      "text/plain": [
       "                                                                                                                          Title  \\\n",
       "Id                                                                                                                                \n",
       "4                                                                                   how to convert a decimal to a double in c#?   \n",
       "6   why did the width collapse in the percentage width child element in an absolutely positioned parent on internet explorer 7?   \n",
       "9                                                           how do i calculate someone's age based on a datetime type birthday?   \n",
       "11                                                                                                calculate relative time in c#   \n",
       "13                                                                                                  determine a user's timezone   \n",
       "\n",
       "                                                                                                                                                                                                                                                                                                                                                                                                                                                                     Body  \\\n",
       "Id                                                                                                                                                                                                                                                                                                                                                                                                                                                                          \n",
       "4                                                                                                                                                                                                                                i want to use a  to change a 's opacity.\\nthis is my code:\\n\\nwhen i build the application  it gives the following error:\\n\\n\\n\\ni have tried using  and   but then the  doesn't work. this code worked fine in a past vb.net project.\\n   \n",
       "6   i have an absolutely positioned  containing several children  one of which is a relatively positioned . when i use a  on the child   it collapses to  on ie7  but not on firefox or safari.\\nif i use   it works. if the parent is relatively positioned  the percentage width on the child works.\\n\\nis there something i'm missing here?\\nis there an easy fix for this besides the  on the child?\\nis there an area of the css specification that covers this?\\n\\n   \n",
       "9                                                                                                                                                                                                                                                                                                                                                                                     given a  representing a person's birthday  how do i calculate their age in years?\\n   \n",
       "11                                                                                                                                                                                                                                                                                                                                                             given a specific  value  how do i display relative time  like:\\n\\n2 hours ago\\n3 days ago\\na month ago\\n\\n   \n",
       "13                                                                                                                                                                                                                                                                                                          is there a standard way for a web server to be able to determine a user's timezone within a web page? \\nperhaps from an http header or part of the  string?\\n   \n",
       "\n",
       "                                                      Tags  \n",
       "Id                                                          \n",
       "4   [c#, floating-point, type-conversion, double, decimal]  \n",
       "6                         [html, css, internet-explorer-7]  \n",
       "9                                     [c#, .net, datetime]  \n",
       "11      [c#, datetime, time, datediff, relative-time-span]  \n",
       "13  [html, browser, timezone, user-agent, timezone-offset]  "
      ]
     },
     "execution_count": 15,
     "metadata": {},
     "output_type": "execute_result"
    }
   ],
   "source": [
    "display = None\n",
    "if config[\"raw_preproc\"]:\n",
    "    display = raw_data.head()\n",
    "display"
   ]
  },
  {
   "cell_type": "code",
   "execution_count": 16,
   "metadata": {},
   "outputs": [],
   "source": [
    "if config[\"raw_preproc\"]:\n",
    "    raw_data.to_csv(\"data/raw_data.csv\")"
   ]
  },
  {
   "cell_type": "markdown",
   "metadata": {},
   "source": [
    "***\n",
    "# 3 Data preprocessing"
   ]
  },
  {
   "cell_type": "markdown",
   "metadata": {},
   "source": [
    "## 3.0 Utils"
   ]
  },
  {
   "cell_type": "code",
   "execution_count": 17,
   "metadata": {},
   "outputs": [],
   "source": [
    "if config[\"processing\"]:\n",
    "    def tokenize(text):\n",
    "        tokenizer = nltk.RegexpTokenizer(r'\\w+')\n",
    "        tokens = tokenizer.tokenize(text)\n",
    "        return tokens"
   ]
  },
  {
   "cell_type": "code",
   "execution_count": 18,
   "metadata": {},
   "outputs": [],
   "source": [
    "if config[\"processing\"]:\n",
    "    def remove_stop_words(cell):\n",
    "        return [word for word in cell if word not in stop_words]"
   ]
  },
  {
   "cell_type": "code",
   "execution_count": 19,
   "metadata": {},
   "outputs": [],
   "source": [
    "if config[\"processing\"]:\n",
    "    def stemmize(cell):\n",
    "        stemmer = SnowballStemmer(\"english\")\n",
    "        stemmed_tokens = [stemmer.stem(token) for token in cell]\n",
    "        return stemmed_tokens"
   ]
  },
  {
   "cell_type": "code",
   "execution_count": 20,
   "metadata": {},
   "outputs": [],
   "source": [
    "if config[\"processing\"]:\n",
    "    def get_wordnet_pos(treebank_tag):\n",
    "        if treebank_tag.startswith('J'):\n",
    "            return wordnet.ADJ\n",
    "        elif treebank_tag.startswith('V'):\n",
    "            return wordnet.VERB\n",
    "        elif treebank_tag.startswith('N'):\n",
    "            return wordnet.NOUN\n",
    "        elif treebank_tag.startswith('R'):\n",
    "            return wordnet.ADV\n",
    "        else:\n",
    "            return 'n'"
   ]
  },
  {
   "cell_type": "code",
   "execution_count": 21,
   "metadata": {},
   "outputs": [],
   "source": [
    "if config[\"processing\"]:\n",
    "    def tag_pos(cell):\n",
    "        treebank_tags = pos_tag(cell)\n",
    "        pos = [(tag[0], get_wordnet_pos(tag[1])) for tag in treebank_tags]\n",
    "        return pos"
   ]
  },
  {
   "cell_type": "code",
   "execution_count": 22,
   "metadata": {},
   "outputs": [],
   "source": [
    "if config[\"processing\"]:\n",
    "    def lemmatize(cell, with_pos=False):\n",
    "        lemmatizer = WordNetLemmatizer()\n",
    "        if not with_pos:\n",
    "            lemmatized_tokens = [lemmatizer.lemmatize(token) for token in cell]\n",
    "        else:\n",
    "            lemmatized_tokens = [lemmatizer.lemmatize(pair[0], pos=pair[1]) for pair in cell]\n",
    "        return lemmatized_tokens"
   ]
  },
  {
   "cell_type": "markdown",
   "metadata": {},
   "source": [
    "***\n",
    "## 3.1 Loading data"
   ]
  },
  {
   "cell_type": "code",
   "execution_count": 23,
   "metadata": {},
   "outputs": [],
   "source": [
    "if config[\"processing\"]:\n",
    "    data = pd.read_csv(\"data/raw_data.csv\", index_col=\"Id\")"
   ]
  },
  {
   "cell_type": "code",
   "execution_count": 24,
   "metadata": {},
   "outputs": [
    {
     "data": {
      "text/html": [
       "<div>\n",
       "<style scoped>\n",
       "    .dataframe tbody tr th:only-of-type {\n",
       "        vertical-align: middle;\n",
       "    }\n",
       "\n",
       "    .dataframe tbody tr th {\n",
       "        vertical-align: top;\n",
       "    }\n",
       "\n",
       "    .dataframe thead th {\n",
       "        text-align: right;\n",
       "    }\n",
       "</style>\n",
       "<table border=\"1\" class=\"dataframe\">\n",
       "  <thead>\n",
       "    <tr style=\"text-align: right;\">\n",
       "      <th></th>\n",
       "      <th>Title</th>\n",
       "      <th>Body</th>\n",
       "      <th>Tags</th>\n",
       "    </tr>\n",
       "    <tr>\n",
       "      <th>Id</th>\n",
       "      <th></th>\n",
       "      <th></th>\n",
       "      <th></th>\n",
       "    </tr>\n",
       "  </thead>\n",
       "  <tbody>\n",
       "    <tr>\n",
       "      <th>4</th>\n",
       "      <td>how to convert a decimal to a double in c#?</td>\n",
       "      <td>i want to use a  to change a 's opacity.\\nthis is my code:\\n\\nwhen i build the application  it gives the following error:\\n\\n\\n\\ni have tried using  and   but then the  doesn't work. this code worked fine in a past vb.net project.\\n</td>\n",
       "      <td>['c#', 'floating-point', 'type-conversion', 'double', 'decimal']</td>\n",
       "    </tr>\n",
       "    <tr>\n",
       "      <th>6</th>\n",
       "      <td>why did the width collapse in the percentage width child element in an absolutely positioned parent on internet explorer 7?</td>\n",
       "      <td>i have an absolutely positioned  containing several children  one of which is a relatively positioned . when i use a  on the child   it collapses to  on ie7  but not on firefox or safari.\\nif i use   it works. if the parent is relatively positioned  the percentage width on the child works.\\n\\nis there something i'm missing here?\\nis there an easy fix for this besides the  on the child?\\nis there an area of the css specification that covers this?\\n\\n</td>\n",
       "      <td>['html', 'css', 'internet-explorer-7']</td>\n",
       "    </tr>\n",
       "    <tr>\n",
       "      <th>9</th>\n",
       "      <td>how do i calculate someone's age based on a datetime type birthday?</td>\n",
       "      <td>given a  representing a person's birthday  how do i calculate their age in years?\\n</td>\n",
       "      <td>['c#', '.net', 'datetime']</td>\n",
       "    </tr>\n",
       "    <tr>\n",
       "      <th>11</th>\n",
       "      <td>calculate relative time in c#</td>\n",
       "      <td>given a specific  value  how do i display relative time  like:\\n\\n2 hours ago\\n3 days ago\\na month ago\\n\\n</td>\n",
       "      <td>['c#', 'datetime', 'time', 'datediff', 'relative-time-span']</td>\n",
       "    </tr>\n",
       "    <tr>\n",
       "      <th>13</th>\n",
       "      <td>determine a user's timezone</td>\n",
       "      <td>is there a standard way for a web server to be able to determine a user's timezone within a web page? \\nperhaps from an http header or part of the  string?\\n</td>\n",
       "      <td>['html', 'browser', 'timezone', 'user-agent', 'timezone-offset']</td>\n",
       "    </tr>\n",
       "  </tbody>\n",
       "</table>\n",
       "</div>"
      ],
      "text/plain": [
       "                                                                                                                          Title  \\\n",
       "Id                                                                                                                                \n",
       "4                                                                                   how to convert a decimal to a double in c#?   \n",
       "6   why did the width collapse in the percentage width child element in an absolutely positioned parent on internet explorer 7?   \n",
       "9                                                           how do i calculate someone's age based on a datetime type birthday?   \n",
       "11                                                                                                calculate relative time in c#   \n",
       "13                                                                                                  determine a user's timezone   \n",
       "\n",
       "                                                                                                                                                                                                                                                                                                                                                                                                                                                                     Body  \\\n",
       "Id                                                                                                                                                                                                                                                                                                                                                                                                                                                                          \n",
       "4                                                                                                                                                                                                                                i want to use a  to change a 's opacity.\\nthis is my code:\\n\\nwhen i build the application  it gives the following error:\\n\\n\\n\\ni have tried using  and   but then the  doesn't work. this code worked fine in a past vb.net project.\\n   \n",
       "6   i have an absolutely positioned  containing several children  one of which is a relatively positioned . when i use a  on the child   it collapses to  on ie7  but not on firefox or safari.\\nif i use   it works. if the parent is relatively positioned  the percentage width on the child works.\\n\\nis there something i'm missing here?\\nis there an easy fix for this besides the  on the child?\\nis there an area of the css specification that covers this?\\n\\n   \n",
       "9                                                                                                                                                                                                                                                                                                                                                                                     given a  representing a person's birthday  how do i calculate their age in years?\\n   \n",
       "11                                                                                                                                                                                                                                                                                                                                                             given a specific  value  how do i display relative time  like:\\n\\n2 hours ago\\n3 days ago\\na month ago\\n\\n   \n",
       "13                                                                                                                                                                                                                                                                                                          is there a standard way for a web server to be able to determine a user's timezone within a web page? \\nperhaps from an http header or part of the  string?\\n   \n",
       "\n",
       "                                                                Tags  \n",
       "Id                                                                    \n",
       "4   ['c#', 'floating-point', 'type-conversion', 'double', 'decimal']  \n",
       "6                             ['html', 'css', 'internet-explorer-7']  \n",
       "9                                         ['c#', '.net', 'datetime']  \n",
       "11      ['c#', 'datetime', 'time', 'datediff', 'relative-time-span']  \n",
       "13  ['html', 'browser', 'timezone', 'user-agent', 'timezone-offset']  "
      ]
     },
     "execution_count": 24,
     "metadata": {},
     "output_type": "execute_result"
    }
   ],
   "source": [
    "display = None\n",
    "if config[\"processing\"]:\n",
    "    display = data.head()\n",
    "display"
   ]
  },
  {
   "cell_type": "markdown",
   "metadata": {},
   "source": [
    "***\n",
    "## 3.2 Creating unique corpus"
   ]
  },
  {
   "cell_type": "code",
   "execution_count": 25,
   "metadata": {},
   "outputs": [],
   "source": [
    "if config[\"processing\"]:\n",
    "    unique_corpus = \" \".join([str(item) for item in data[\"Body\"].values])\n",
    "    unique_corpus = tokenize(unique_corpus)"
   ]
  },
  {
   "cell_type": "code",
   "execution_count": 26,
   "metadata": {},
   "outputs": [
    {
     "data": {
      "text/plain": [
       "['i', 'want', 'to', 'use', 'a', 'to', 'change', 'a', 's', 'opacity']"
      ]
     },
     "execution_count": 26,
     "metadata": {},
     "output_type": "execute_result"
    }
   ],
   "source": [
    "display = None\n",
    "if config[\"processing\"]:\n",
    "    display = unique_corpus[:10]\n",
    "display"
   ]
  },
  {
   "cell_type": "markdown",
   "metadata": {},
   "source": [
    "***\n",
    "## 3.2 Tokenize"
   ]
  },
  {
   "cell_type": "code",
   "execution_count": 27,
   "metadata": {},
   "outputs": [],
   "source": [
    "if config[\"processing\"]:\n",
    "    data[\"Body_Tokens\"] = data.apply(lambda row: tokenize(row[\"Body\"]), axis=\"columns\")"
   ]
  },
  {
   "cell_type": "code",
   "execution_count": 28,
   "metadata": {},
   "outputs": [
    {
     "data": {
      "text/html": [
       "<div>\n",
       "<style scoped>\n",
       "    .dataframe tbody tr th:only-of-type {\n",
       "        vertical-align: middle;\n",
       "    }\n",
       "\n",
       "    .dataframe tbody tr th {\n",
       "        vertical-align: top;\n",
       "    }\n",
       "\n",
       "    .dataframe thead th {\n",
       "        text-align: right;\n",
       "    }\n",
       "</style>\n",
       "<table border=\"1\" class=\"dataframe\">\n",
       "  <thead>\n",
       "    <tr style=\"text-align: right;\">\n",
       "      <th></th>\n",
       "      <th>Body</th>\n",
       "      <th>Body_Tokens</th>\n",
       "    </tr>\n",
       "    <tr>\n",
       "      <th>Id</th>\n",
       "      <th></th>\n",
       "      <th></th>\n",
       "    </tr>\n",
       "  </thead>\n",
       "  <tbody>\n",
       "    <tr>\n",
       "      <th>4</th>\n",
       "      <td>i want to use a  to change a 's opacity.\\nthis is my code:\\n\\nwhen i build the application  it gives the following error:\\n\\n\\n\\ni have tried using  and   but then the  doesn't work. this code worked fine in a past vb.net project.\\n</td>\n",
       "      <td>[i, want, to, use, a, to, change, a, s, opacity, this, is, my, code, when, i, build, the, application, it, gives, the, following, error, i, have, tried, using, and, but, then, the, doesn, t, work, this, code, worked, fine, in, a, past, vb, net, project]</td>\n",
       "    </tr>\n",
       "    <tr>\n",
       "      <th>6</th>\n",
       "      <td>i have an absolutely positioned  containing several children  one of which is a relatively positioned . when i use a  on the child   it collapses to  on ie7  but not on firefox or safari.\\nif i use   it works. if the parent is relatively positioned  the percentage width on the child works.\\n\\nis there something i'm missing here?\\nis there an easy fix for this besides the  on the child?\\nis there an area of the css specification that covers this?\\n\\n</td>\n",
       "      <td>[i, have, an, absolutely, positioned, containing, several, children, one, of, which, is, a, relatively, positioned, when, i, use, a, on, the, child, it, collapses, to, on, ie7, but, not, on, firefox, or, safari, if, i, use, it, works, if, the, parent, is, relatively, positioned, the, percentage, width, on, the, child, works, is, there, something, i, m, missing, here, is, there, an, easy, fix, for, this, besides, the, on, the, child, is, there, an, area, of, the, css, specification, that, covers, this]</td>\n",
       "    </tr>\n",
       "    <tr>\n",
       "      <th>9</th>\n",
       "      <td>given a  representing a person's birthday  how do i calculate their age in years?\\n</td>\n",
       "      <td>[given, a, representing, a, person, s, birthday, how, do, i, calculate, their, age, in, years]</td>\n",
       "    </tr>\n",
       "    <tr>\n",
       "      <th>11</th>\n",
       "      <td>given a specific  value  how do i display relative time  like:\\n\\n2 hours ago\\n3 days ago\\na month ago\\n\\n</td>\n",
       "      <td>[given, a, specific, value, how, do, i, display, relative, time, like, 2, hours, ago, 3, days, ago, a, month, ago]</td>\n",
       "    </tr>\n",
       "    <tr>\n",
       "      <th>13</th>\n",
       "      <td>is there a standard way for a web server to be able to determine a user's timezone within a web page? \\nperhaps from an http header or part of the  string?\\n</td>\n",
       "      <td>[is, there, a, standard, way, for, a, web, server, to, be, able, to, determine, a, user, s, timezone, within, a, web, page, perhaps, from, an, http, header, or, part, of, the, string]</td>\n",
       "    </tr>\n",
       "  </tbody>\n",
       "</table>\n",
       "</div>"
      ],
      "text/plain": [
       "                                                                                                                                                                                                                                                                                                                                                                                                                                                                     Body  \\\n",
       "Id                                                                                                                                                                                                                                                                                                                                                                                                                                                                          \n",
       "4                                                                                                                                                                                                                                i want to use a  to change a 's opacity.\\nthis is my code:\\n\\nwhen i build the application  it gives the following error:\\n\\n\\n\\ni have tried using  and   but then the  doesn't work. this code worked fine in a past vb.net project.\\n   \n",
       "6   i have an absolutely positioned  containing several children  one of which is a relatively positioned . when i use a  on the child   it collapses to  on ie7  but not on firefox or safari.\\nif i use   it works. if the parent is relatively positioned  the percentage width on the child works.\\n\\nis there something i'm missing here?\\nis there an easy fix for this besides the  on the child?\\nis there an area of the css specification that covers this?\\n\\n   \n",
       "9                                                                                                                                                                                                                                                                                                                                                                                     given a  representing a person's birthday  how do i calculate their age in years?\\n   \n",
       "11                                                                                                                                                                                                                                                                                                                                                             given a specific  value  how do i display relative time  like:\\n\\n2 hours ago\\n3 days ago\\na month ago\\n\\n   \n",
       "13                                                                                                                                                                                                                                                                                                          is there a standard way for a web server to be able to determine a user's timezone within a web page? \\nperhaps from an http header or part of the  string?\\n   \n",
       "\n",
       "                                                                                                                                                                                                                                                                                                                                                                                                                                                                                                                   Body_Tokens  \n",
       "Id                                                                                                                                                                                                                                                                                                                                                                                                                                                                                                                              \n",
       "4                                                                                                                                                                                                                                                                [i, want, to, use, a, to, change, a, s, opacity, this, is, my, code, when, i, build, the, application, it, gives, the, following, error, i, have, tried, using, and, but, then, the, doesn, t, work, this, code, worked, fine, in, a, past, vb, net, project]  \n",
       "6   [i, have, an, absolutely, positioned, containing, several, children, one, of, which, is, a, relatively, positioned, when, i, use, a, on, the, child, it, collapses, to, on, ie7, but, not, on, firefox, or, safari, if, i, use, it, works, if, the, parent, is, relatively, positioned, the, percentage, width, on, the, child, works, is, there, something, i, m, missing, here, is, there, an, easy, fix, for, this, besides, the, on, the, child, is, there, an, area, of, the, css, specification, that, covers, this]  \n",
       "9                                                                                                                                                                                                                                                                                                                                                                                                                               [given, a, representing, a, person, s, birthday, how, do, i, calculate, their, age, in, years]  \n",
       "11                                                                                                                                                                                                                                                                                                                                                                                                          [given, a, specific, value, how, do, i, display, relative, time, like, 2, hours, ago, 3, days, ago, a, month, ago]  \n",
       "13                                                                                                                                                                                                                                                                                                                                     [is, there, a, standard, way, for, a, web, server, to, be, able, to, determine, a, user, s, timezone, within, a, web, page, perhaps, from, an, http, header, or, part, of, the, string]  "
      ]
     },
     "execution_count": 28,
     "metadata": {},
     "output_type": "execute_result"
    }
   ],
   "source": [
    "display = None\n",
    "if config[\"processing\"]:\n",
    "    display = data[[\"Body\", \"Body_Tokens\"]].head()\n",
    "display"
   ]
  },
  {
   "cell_type": "markdown",
   "metadata": {},
   "source": [
    "***\n",
    "## 3.3 StopWords deletion"
   ]
  },
  {
   "cell_type": "code",
   "execution_count": 29,
   "metadata": {},
   "outputs": [
    {
     "name": "stdout",
     "output_type": "stream",
     "text": [
      "stopwords: ['i', 'me', 'my', 'myself', 'we', 'our', 'ours', 'ourselves', 'you', \"you're\", \"you've\", \"you'll\", \"you'd\", 'your', 'yours', 'yourself', 'yourselves', 'he', 'him', 'his', 'himself', 'she', \"she's\", 'her', 'hers', 'herself', 'it', \"it's\", 'its', 'itself', 'they', 'them', 'their', 'theirs', 'themselves', 'what', 'which', 'who', 'whom', 'this', 'that', \"that'll\", 'these', 'those', 'am', 'is', 'are', 'was', 'were', 'be', 'been', 'being', 'have', 'has', 'had', 'having', 'do', 'does', 'did', 'doing', 'a', 'an', 'the', 'and', 'but', 'if', 'or', 'because', 'as', 'until', 'while', 'of', 'at', 'by', 'for', 'with', 'about', 'against', 'between', 'into', 'through', 'during', 'before', 'after', 'above', 'below', 'to', 'from', 'up', 'down', 'in', 'out', 'on', 'off', 'over', 'under', 'again', 'further', 'then', 'once', 'here', 'there', 'when', 'where', 'why', 'how', 'all', 'any', 'both', 'each', 'few', 'more', 'most', 'other', 'some', 'such', 'no', 'nor', 'not', 'only', 'own', 'same', 'so', 'than', 'too', 'very', 's', 't', 'can', 'will', 'just', 'don', \"don't\", 'should', \"should've\", 'now', 'd', 'll', 'm', 'o', 're', 've', 'y', 'ain', 'aren', \"aren't\", 'couldn', \"couldn't\", 'didn', \"didn't\", 'doesn', \"doesn't\", 'hadn', \"hadn't\", 'hasn', \"hasn't\", 'haven', \"haven't\", 'isn', \"isn't\", 'ma', 'mightn', \"mightn't\", 'mustn', \"mustn't\", 'needn', \"needn't\", 'shan', \"shan't\", 'shouldn', \"shouldn't\", 'wasn', \"wasn't\", 'weren', \"weren't\", 'won', \"won't\", 'wouldn', \"wouldn't\"]\n"
     ]
    }
   ],
   "source": [
    "if config[\"processing\"]:\n",
    "    stop_words = stopwords.words(\"english\")\n",
    "    print(f\"stopwords: {stop_words}\")"
   ]
  },
  {
   "cell_type": "code",
   "execution_count": 30,
   "metadata": {},
   "outputs": [],
   "source": [
    "if config[\"processing\"]:\n",
    "    data[\"Body_Tokens\"] = data.apply(lambda row: remove_stop_words(row[\"Body_Tokens\"]), axis=\"columns\")"
   ]
  },
  {
   "cell_type": "code",
   "execution_count": 31,
   "metadata": {},
   "outputs": [
    {
     "data": {
      "text/html": [
       "<div>\n",
       "<style scoped>\n",
       "    .dataframe tbody tr th:only-of-type {\n",
       "        vertical-align: middle;\n",
       "    }\n",
       "\n",
       "    .dataframe tbody tr th {\n",
       "        vertical-align: top;\n",
       "    }\n",
       "\n",
       "    .dataframe thead th {\n",
       "        text-align: right;\n",
       "    }\n",
       "</style>\n",
       "<table border=\"1\" class=\"dataframe\">\n",
       "  <thead>\n",
       "    <tr style=\"text-align: right;\">\n",
       "      <th></th>\n",
       "      <th>Body</th>\n",
       "      <th>Body_Tokens</th>\n",
       "    </tr>\n",
       "    <tr>\n",
       "      <th>Id</th>\n",
       "      <th></th>\n",
       "      <th></th>\n",
       "    </tr>\n",
       "  </thead>\n",
       "  <tbody>\n",
       "    <tr>\n",
       "      <th>4</th>\n",
       "      <td>i want to use a  to change a 's opacity.\\nthis is my code:\\n\\nwhen i build the application  it gives the following error:\\n\\n\\n\\ni have tried using  and   but then the  doesn't work. this code worked fine in a past vb.net project.\\n</td>\n",
       "      <td>[want, use, change, opacity, code, build, application, gives, following, error, tried, using, work, code, worked, fine, past, vb, net, project]</td>\n",
       "    </tr>\n",
       "    <tr>\n",
       "      <th>6</th>\n",
       "      <td>i have an absolutely positioned  containing several children  one of which is a relatively positioned . when i use a  on the child   it collapses to  on ie7  but not on firefox or safari.\\nif i use   it works. if the parent is relatively positioned  the percentage width on the child works.\\n\\nis there something i'm missing here?\\nis there an easy fix for this besides the  on the child?\\nis there an area of the css specification that covers this?\\n\\n</td>\n",
       "      <td>[absolutely, positioned, containing, several, children, one, relatively, positioned, use, child, collapses, ie7, firefox, safari, use, works, parent, relatively, positioned, percentage, width, child, works, something, missing, easy, fix, besides, child, area, css, specification, covers]</td>\n",
       "    </tr>\n",
       "    <tr>\n",
       "      <th>9</th>\n",
       "      <td>given a  representing a person's birthday  how do i calculate their age in years?\\n</td>\n",
       "      <td>[given, representing, person, birthday, calculate, age, years]</td>\n",
       "    </tr>\n",
       "    <tr>\n",
       "      <th>11</th>\n",
       "      <td>given a specific  value  how do i display relative time  like:\\n\\n2 hours ago\\n3 days ago\\na month ago\\n\\n</td>\n",
       "      <td>[given, specific, value, display, relative, time, like, 2, hours, ago, 3, days, ago, month, ago]</td>\n",
       "    </tr>\n",
       "    <tr>\n",
       "      <th>13</th>\n",
       "      <td>is there a standard way for a web server to be able to determine a user's timezone within a web page? \\nperhaps from an http header or part of the  string?\\n</td>\n",
       "      <td>[standard, way, web, server, able, determine, user, timezone, within, web, page, perhaps, http, header, part, string]</td>\n",
       "    </tr>\n",
       "  </tbody>\n",
       "</table>\n",
       "</div>"
      ],
      "text/plain": [
       "                                                                                                                                                                                                                                                                                                                                                                                                                                                                     Body  \\\n",
       "Id                                                                                                                                                                                                                                                                                                                                                                                                                                                                          \n",
       "4                                                                                                                                                                                                                                i want to use a  to change a 's opacity.\\nthis is my code:\\n\\nwhen i build the application  it gives the following error:\\n\\n\\n\\ni have tried using  and   but then the  doesn't work. this code worked fine in a past vb.net project.\\n   \n",
       "6   i have an absolutely positioned  containing several children  one of which is a relatively positioned . when i use a  on the child   it collapses to  on ie7  but not on firefox or safari.\\nif i use   it works. if the parent is relatively positioned  the percentage width on the child works.\\n\\nis there something i'm missing here?\\nis there an easy fix for this besides the  on the child?\\nis there an area of the css specification that covers this?\\n\\n   \n",
       "9                                                                                                                                                                                                                                                                                                                                                                                     given a  representing a person's birthday  how do i calculate their age in years?\\n   \n",
       "11                                                                                                                                                                                                                                                                                                                                                             given a specific  value  how do i display relative time  like:\\n\\n2 hours ago\\n3 days ago\\na month ago\\n\\n   \n",
       "13                                                                                                                                                                                                                                                                                                          is there a standard way for a web server to be able to determine a user's timezone within a web page? \\nperhaps from an http header or part of the  string?\\n   \n",
       "\n",
       "                                                                                                                                                                                                                                                                                        Body_Tokens  \n",
       "Id                                                                                                                                                                                                                                                                                                   \n",
       "4                                                                                                                                                   [want, use, change, opacity, code, build, application, gives, following, error, tried, using, work, code, worked, fine, past, vb, net, project]  \n",
       "6   [absolutely, positioned, containing, several, children, one, relatively, positioned, use, child, collapses, ie7, firefox, safari, use, works, parent, relatively, positioned, percentage, width, child, works, something, missing, easy, fix, besides, child, area, css, specification, covers]  \n",
       "9                                                                                                                                                                                                                                    [given, representing, person, birthday, calculate, age, years]  \n",
       "11                                                                                                                                                                                                 [given, specific, value, display, relative, time, like, 2, hours, ago, 3, days, ago, month, ago]  \n",
       "13                                                                                                                                                                            [standard, way, web, server, able, determine, user, timezone, within, web, page, perhaps, http, header, part, string]  "
      ]
     },
     "execution_count": 31,
     "metadata": {},
     "output_type": "execute_result"
    }
   ],
   "source": [
    "display = None\n",
    "if config[\"processing\"]:\n",
    "    display = data[[\"Body\", \"Body_Tokens\"]].head()\n",
    "display"
   ]
  },
  {
   "cell_type": "markdown",
   "metadata": {},
   "source": [
    "***\n",
    "## 3.4 Stemmize"
   ]
  },
  {
   "cell_type": "code",
   "execution_count": 32,
   "metadata": {},
   "outputs": [],
   "source": [
    "if config[\"processing\"]:\n",
    "    data[\"Body_Stemmed\"] = data.apply(lambda row: stemmize(row[\"Body_Tokens\"]), axis=\"columns\")"
   ]
  },
  {
   "cell_type": "code",
   "execution_count": 33,
   "metadata": {},
   "outputs": [
    {
     "data": {
      "text/html": [
       "<div>\n",
       "<style scoped>\n",
       "    .dataframe tbody tr th:only-of-type {\n",
       "        vertical-align: middle;\n",
       "    }\n",
       "\n",
       "    .dataframe tbody tr th {\n",
       "        vertical-align: top;\n",
       "    }\n",
       "\n",
       "    .dataframe thead th {\n",
       "        text-align: right;\n",
       "    }\n",
       "</style>\n",
       "<table border=\"1\" class=\"dataframe\">\n",
       "  <thead>\n",
       "    <tr style=\"text-align: right;\">\n",
       "      <th></th>\n",
       "      <th>Body_Tokens</th>\n",
       "      <th>Body_Stemmed</th>\n",
       "    </tr>\n",
       "    <tr>\n",
       "      <th>Id</th>\n",
       "      <th></th>\n",
       "      <th></th>\n",
       "    </tr>\n",
       "  </thead>\n",
       "  <tbody>\n",
       "    <tr>\n",
       "      <th>4</th>\n",
       "      <td>[want, use, change, opacity, code, build, application, gives, following, error, tried, using, work, code, worked, fine, past, vb, net, project]</td>\n",
       "      <td>[want, use, chang, opac, code, build, applic, give, follow, error, tri, use, work, code, work, fine, past, vb, net, project]</td>\n",
       "    </tr>\n",
       "    <tr>\n",
       "      <th>6</th>\n",
       "      <td>[absolutely, positioned, containing, several, children, one, relatively, positioned, use, child, collapses, ie7, firefox, safari, use, works, parent, relatively, positioned, percentage, width, child, works, something, missing, easy, fix, besides, child, area, css, specification, covers]</td>\n",
       "      <td>[absolut, posit, contain, sever, children, one, relat, posit, use, child, collaps, ie7, firefox, safari, use, work, parent, relat, posit, percentag, width, child, work, someth, miss, easi, fix, besid, child, area, css, specif, cover]</td>\n",
       "    </tr>\n",
       "    <tr>\n",
       "      <th>9</th>\n",
       "      <td>[given, representing, person, birthday, calculate, age, years]</td>\n",
       "      <td>[given, repres, person, birthday, calcul, age, year]</td>\n",
       "    </tr>\n",
       "    <tr>\n",
       "      <th>11</th>\n",
       "      <td>[given, specific, value, display, relative, time, like, 2, hours, ago, 3, days, ago, month, ago]</td>\n",
       "      <td>[given, specif, valu, display, relat, time, like, 2, hour, ago, 3, day, ago, month, ago]</td>\n",
       "    </tr>\n",
       "    <tr>\n",
       "      <th>13</th>\n",
       "      <td>[standard, way, web, server, able, determine, user, timezone, within, web, page, perhaps, http, header, part, string]</td>\n",
       "      <td>[standard, way, web, server, abl, determin, user, timezon, within, web, page, perhap, http, header, part, string]</td>\n",
       "    </tr>\n",
       "  </tbody>\n",
       "</table>\n",
       "</div>"
      ],
      "text/plain": [
       "                                                                                                                                                                                                                                                                                        Body_Tokens  \\\n",
       "Id                                                                                                                                                                                                                                                                                                    \n",
       "4                                                                                                                                                   [want, use, change, opacity, code, build, application, gives, following, error, tried, using, work, code, worked, fine, past, vb, net, project]   \n",
       "6   [absolutely, positioned, containing, several, children, one, relatively, positioned, use, child, collapses, ie7, firefox, safari, use, works, parent, relatively, positioned, percentage, width, child, works, something, missing, easy, fix, besides, child, area, css, specification, covers]   \n",
       "9                                                                                                                                                                                                                                    [given, representing, person, birthday, calculate, age, years]   \n",
       "11                                                                                                                                                                                                 [given, specific, value, display, relative, time, like, 2, hours, ago, 3, days, ago, month, ago]   \n",
       "13                                                                                                                                                                            [standard, way, web, server, able, determine, user, timezone, within, web, page, perhaps, http, header, part, string]   \n",
       "\n",
       "                                                                                                                                                                                                                                 Body_Stemmed  \n",
       "Id                                                                                                                                                                                                                                             \n",
       "4                                                                                                                [want, use, chang, opac, code, build, applic, give, follow, error, tri, use, work, code, work, fine, past, vb, net, project]  \n",
       "6   [absolut, posit, contain, sever, children, one, relat, posit, use, child, collaps, ie7, firefox, safari, use, work, parent, relat, posit, percentag, width, child, work, someth, miss, easi, fix, besid, child, area, css, specif, cover]  \n",
       "9                                                                                                                                                                                        [given, repres, person, birthday, calcul, age, year]  \n",
       "11                                                                                                                                                   [given, specif, valu, display, relat, time, like, 2, hour, ago, 3, day, ago, month, ago]  \n",
       "13                                                                                                                          [standard, way, web, server, abl, determin, user, timezon, within, web, page, perhap, http, header, part, string]  "
      ]
     },
     "execution_count": 33,
     "metadata": {},
     "output_type": "execute_result"
    }
   ],
   "source": [
    "display = None\n",
    "if config[\"processing\"]:\n",
    "    display = data[[\"Body_Tokens\", \"Body_Stemmed\"]].head()\n",
    "display"
   ]
  },
  {
   "cell_type": "markdown",
   "metadata": {},
   "source": [
    "***\n",
    "## 3.5 POS - Part-Of-Speech"
   ]
  },
  {
   "cell_type": "code",
   "execution_count": 34,
   "metadata": {},
   "outputs": [],
   "source": [
    "if config[\"processing\"]:\n",
    "    data[\"Body_POS\"] = data.apply(lambda row: tag_pos(row[\"Body_Tokens\"]), axis=\"columns\")"
   ]
  },
  {
   "cell_type": "code",
   "execution_count": 35,
   "metadata": {},
   "outputs": [
    {
     "data": {
      "text/html": [
       "<div>\n",
       "<style scoped>\n",
       "    .dataframe tbody tr th:only-of-type {\n",
       "        vertical-align: middle;\n",
       "    }\n",
       "\n",
       "    .dataframe tbody tr th {\n",
       "        vertical-align: top;\n",
       "    }\n",
       "\n",
       "    .dataframe thead th {\n",
       "        text-align: right;\n",
       "    }\n",
       "</style>\n",
       "<table border=\"1\" class=\"dataframe\">\n",
       "  <thead>\n",
       "    <tr style=\"text-align: right;\">\n",
       "      <th></th>\n",
       "      <th>Body_Tokens</th>\n",
       "      <th>Body_POS</th>\n",
       "    </tr>\n",
       "    <tr>\n",
       "      <th>Id</th>\n",
       "      <th></th>\n",
       "      <th></th>\n",
       "    </tr>\n",
       "  </thead>\n",
       "  <tbody>\n",
       "    <tr>\n",
       "      <th>4</th>\n",
       "      <td>[want, use, change, opacity, code, build, application, gives, following, error, tried, using, work, code, worked, fine, past, vb, net, project]</td>\n",
       "      <td>[(want, n), (use, n), (change, n), (opacity, n), (code, n), (build, a), (application, n), (gives, v), (following, v), (error, n), (tried, v), (using, v), (work, n), (code, n), (worked, v), (fine, a), (past, n), (vb, a), (net, n), (project, n)]</td>\n",
       "    </tr>\n",
       "    <tr>\n",
       "      <th>6</th>\n",
       "      <td>[absolutely, positioned, containing, several, children, one, relatively, positioned, use, child, collapses, ie7, firefox, safari, use, works, parent, relatively, positioned, percentage, width, child, works, something, missing, easy, fix, besides, child, area, css, specification, covers]</td>\n",
       "      <td>[(absolutely, r), (positioned, v), (containing, v), (several, a), (children, n), (one, n), (relatively, r), (positioned, v), (use, n), (child, n), (collapses, n), (ie7, v), (firefox, n), (safari, n), (use, n), (works, v), (parent, n), (relatively, r), (positioned, v), (percentage, n), (width, n), (child, n), (works, v), (something, n), (missing, v), (easy, a), (fix, a), (besides, n), (child, a), (area, n), (css, n), (specification, n), (covers, n)]</td>\n",
       "    </tr>\n",
       "    <tr>\n",
       "      <th>9</th>\n",
       "      <td>[given, representing, person, birthday, calculate, age, years]</td>\n",
       "      <td>[(given, v), (representing, v), (person, n), (birthday, a), (calculate, a), (age, n), (years, n)]</td>\n",
       "    </tr>\n",
       "    <tr>\n",
       "      <th>11</th>\n",
       "      <td>[given, specific, value, display, relative, time, like, 2, hours, ago, 3, days, ago, month, ago]</td>\n",
       "      <td>[(given, v), (specific, a), (value, n), (display, n), (relative, a), (time, n), (like, n), (2, n), (hours, n), (ago, r), (3, n), (days, n), (ago, r), (month, n), (ago, n)]</td>\n",
       "    </tr>\n",
       "    <tr>\n",
       "      <th>13</th>\n",
       "      <td>[standard, way, web, server, able, determine, user, timezone, within, web, page, perhaps, http, header, part, string]</td>\n",
       "      <td>[(standard, a), (way, n), (web, n), (server, n), (able, a), (determine, n), (user, n), (timezone, n), (within, n), (web, a), (page, n), (perhaps, r), (http, a), (header, a), (part, n), (string, n)]</td>\n",
       "    </tr>\n",
       "  </tbody>\n",
       "</table>\n",
       "</div>"
      ],
      "text/plain": [
       "                                                                                                                                                                                                                                                                                        Body_Tokens  \\\n",
       "Id                                                                                                                                                                                                                                                                                                    \n",
       "4                                                                                                                                                   [want, use, change, opacity, code, build, application, gives, following, error, tried, using, work, code, worked, fine, past, vb, net, project]   \n",
       "6   [absolutely, positioned, containing, several, children, one, relatively, positioned, use, child, collapses, ie7, firefox, safari, use, works, parent, relatively, positioned, percentage, width, child, works, something, missing, easy, fix, besides, child, area, css, specification, covers]   \n",
       "9                                                                                                                                                                                                                                    [given, representing, person, birthday, calculate, age, years]   \n",
       "11                                                                                                                                                                                                 [given, specific, value, display, relative, time, like, 2, hours, ago, 3, days, ago, month, ago]   \n",
       "13                                                                                                                                                                            [standard, way, web, server, able, determine, user, timezone, within, web, page, perhaps, http, header, part, string]   \n",
       "\n",
       "                                                                                                                                                                                                                                                                                                                                                                                                                                                                Body_POS  \n",
       "Id                                                                                                                                                                                                                                                                                                                                                                                                                                                                        \n",
       "4                                                                                                                                                                                                                    [(want, n), (use, n), (change, n), (opacity, n), (code, n), (build, a), (application, n), (gives, v), (following, v), (error, n), (tried, v), (using, v), (work, n), (code, n), (worked, v), (fine, a), (past, n), (vb, a), (net, n), (project, n)]  \n",
       "6   [(absolutely, r), (positioned, v), (containing, v), (several, a), (children, n), (one, n), (relatively, r), (positioned, v), (use, n), (child, n), (collapses, n), (ie7, v), (firefox, n), (safari, n), (use, n), (works, v), (parent, n), (relatively, r), (positioned, v), (percentage, n), (width, n), (child, n), (works, v), (something, n), (missing, v), (easy, a), (fix, a), (besides, n), (child, a), (area, n), (css, n), (specification, n), (covers, n)]  \n",
       "9                                                                                                                                                                                                                                                                                                                                                                      [(given, v), (representing, v), (person, n), (birthday, a), (calculate, a), (age, n), (years, n)]  \n",
       "11                                                                                                                                                                                                                                                                                           [(given, v), (specific, a), (value, n), (display, n), (relative, a), (time, n), (like, n), (2, n), (hours, n), (ago, r), (3, n), (days, n), (ago, r), (month, n), (ago, n)]  \n",
       "13                                                                                                                                                                                                                                                                 [(standard, a), (way, n), (web, n), (server, n), (able, a), (determine, n), (user, n), (timezone, n), (within, n), (web, a), (page, n), (perhaps, r), (http, a), (header, a), (part, n), (string, n)]  "
      ]
     },
     "execution_count": 35,
     "metadata": {},
     "output_type": "execute_result"
    }
   ],
   "source": [
    "display = None\n",
    "if config[\"processing\"]:\n",
    "    display = data[[\"Body_Tokens\", \"Body_POS\"]].head()\n",
    "display"
   ]
  },
  {
   "cell_type": "markdown",
   "metadata": {},
   "source": [
    "***\n",
    "## 3.6 Lemmatize"
   ]
  },
  {
   "cell_type": "code",
   "execution_count": 36,
   "metadata": {},
   "outputs": [],
   "source": [
    "if config[\"processing\"]:\n",
    "    data[\"Body_Lemmatized\"] = data.apply(lambda row: lemmatize(row[\"Body_POS\"], with_pos=True), axis=\"columns\")"
   ]
  },
  {
   "cell_type": "code",
   "execution_count": 37,
   "metadata": {},
   "outputs": [
    {
     "data": {
      "text/html": [
       "<div>\n",
       "<style scoped>\n",
       "    .dataframe tbody tr th:only-of-type {\n",
       "        vertical-align: middle;\n",
       "    }\n",
       "\n",
       "    .dataframe tbody tr th {\n",
       "        vertical-align: top;\n",
       "    }\n",
       "\n",
       "    .dataframe thead th {\n",
       "        text-align: right;\n",
       "    }\n",
       "</style>\n",
       "<table border=\"1\" class=\"dataframe\">\n",
       "  <thead>\n",
       "    <tr style=\"text-align: right;\">\n",
       "      <th></th>\n",
       "      <th>Body_Tokens</th>\n",
       "      <th>Body_Lemmatized</th>\n",
       "    </tr>\n",
       "    <tr>\n",
       "      <th>Id</th>\n",
       "      <th></th>\n",
       "      <th></th>\n",
       "    </tr>\n",
       "  </thead>\n",
       "  <tbody>\n",
       "    <tr>\n",
       "      <th>4</th>\n",
       "      <td>[want, use, change, opacity, code, build, application, gives, following, error, tried, using, work, code, worked, fine, past, vb, net, project]</td>\n",
       "      <td>[want, use, change, opacity, code, build, application, give, follow, error, try, use, work, code, work, fine, past, vb, net, project]</td>\n",
       "    </tr>\n",
       "    <tr>\n",
       "      <th>6</th>\n",
       "      <td>[absolutely, positioned, containing, several, children, one, relatively, positioned, use, child, collapses, ie7, firefox, safari, use, works, parent, relatively, positioned, percentage, width, child, works, something, missing, easy, fix, besides, child, area, css, specification, covers]</td>\n",
       "      <td>[absolutely, position, contain, several, child, one, relatively, position, use, child, collapse, ie7, firefox, safari, use, work, parent, relatively, position, percentage, width, child, work, something, miss, easy, fix, besides, child, area, cs, specification, cover]</td>\n",
       "    </tr>\n",
       "    <tr>\n",
       "      <th>9</th>\n",
       "      <td>[given, representing, person, birthday, calculate, age, years]</td>\n",
       "      <td>[give, represent, person, birthday, calculate, age, year]</td>\n",
       "    </tr>\n",
       "    <tr>\n",
       "      <th>11</th>\n",
       "      <td>[given, specific, value, display, relative, time, like, 2, hours, ago, 3, days, ago, month, ago]</td>\n",
       "      <td>[give, specific, value, display, relative, time, like, 2, hour, ago, 3, day, ago, month, ago]</td>\n",
       "    </tr>\n",
       "    <tr>\n",
       "      <th>13</th>\n",
       "      <td>[standard, way, web, server, able, determine, user, timezone, within, web, page, perhaps, http, header, part, string]</td>\n",
       "      <td>[standard, way, web, server, able, determine, user, timezone, within, web, page, perhaps, http, header, part, string]</td>\n",
       "    </tr>\n",
       "  </tbody>\n",
       "</table>\n",
       "</div>"
      ],
      "text/plain": [
       "                                                                                                                                                                                                                                                                                        Body_Tokens  \\\n",
       "Id                                                                                                                                                                                                                                                                                                    \n",
       "4                                                                                                                                                   [want, use, change, opacity, code, build, application, gives, following, error, tried, using, work, code, worked, fine, past, vb, net, project]   \n",
       "6   [absolutely, positioned, containing, several, children, one, relatively, positioned, use, child, collapses, ie7, firefox, safari, use, works, parent, relatively, positioned, percentage, width, child, works, something, missing, easy, fix, besides, child, area, css, specification, covers]   \n",
       "9                                                                                                                                                                                                                                    [given, representing, person, birthday, calculate, age, years]   \n",
       "11                                                                                                                                                                                                 [given, specific, value, display, relative, time, like, 2, hours, ago, 3, days, ago, month, ago]   \n",
       "13                                                                                                                                                                            [standard, way, web, server, able, determine, user, timezone, within, web, page, perhaps, http, header, part, string]   \n",
       "\n",
       "                                                                                                                                                                                                                                                                Body_Lemmatized  \n",
       "Id                                                                                                                                                                                                                                                                               \n",
       "4                                                                                                                                         [want, use, change, opacity, code, build, application, give, follow, error, try, use, work, code, work, fine, past, vb, net, project]  \n",
       "6   [absolutely, position, contain, several, child, one, relatively, position, use, child, collapse, ie7, firefox, safari, use, work, parent, relatively, position, percentage, width, child, work, something, miss, easy, fix, besides, child, area, cs, specification, cover]  \n",
       "9                                                                                                                                                                                                                     [give, represent, person, birthday, calculate, age, year]  \n",
       "11                                                                                                                                                                                [give, specific, value, display, relative, time, like, 2, hour, ago, 3, day, ago, month, ago]  \n",
       "13                                                                                                                                                        [standard, way, web, server, able, determine, user, timezone, within, web, page, perhaps, http, header, part, string]  "
      ]
     },
     "execution_count": 37,
     "metadata": {},
     "output_type": "execute_result"
    }
   ],
   "source": [
    "display = None\n",
    "if config[\"processing\"]:\n",
    "    display = data[[\"Body_Tokens\", \"Body_Lemmatized\"]].head()\n",
    "display"
   ]
  },
  {
   "cell_type": "markdown",
   "metadata": {},
   "source": [
    "***\n",
    "## 3.7 Saving"
   ]
  },
  {
   "cell_type": "code",
   "execution_count": 38,
   "metadata": {},
   "outputs": [
    {
     "data": {
      "text/html": [
       "<div>\n",
       "<style scoped>\n",
       "    .dataframe tbody tr th:only-of-type {\n",
       "        vertical-align: middle;\n",
       "    }\n",
       "\n",
       "    .dataframe tbody tr th {\n",
       "        vertical-align: top;\n",
       "    }\n",
       "\n",
       "    .dataframe thead th {\n",
       "        text-align: right;\n",
       "    }\n",
       "</style>\n",
       "<table border=\"1\" class=\"dataframe\">\n",
       "  <thead>\n",
       "    <tr style=\"text-align: right;\">\n",
       "      <th></th>\n",
       "      <th>Title</th>\n",
       "      <th>Body</th>\n",
       "      <th>Tags</th>\n",
       "      <th>Body_Tokens</th>\n",
       "      <th>Body_Stemmed</th>\n",
       "      <th>Body_POS</th>\n",
       "      <th>Body_Lemmatized</th>\n",
       "    </tr>\n",
       "    <tr>\n",
       "      <th>Id</th>\n",
       "      <th></th>\n",
       "      <th></th>\n",
       "      <th></th>\n",
       "      <th></th>\n",
       "      <th></th>\n",
       "      <th></th>\n",
       "      <th></th>\n",
       "    </tr>\n",
       "  </thead>\n",
       "  <tbody>\n",
       "    <tr>\n",
       "      <th>4</th>\n",
       "      <td>how to convert a decimal to a double in c#?</td>\n",
       "      <td>i want to use a  to change a 's opacity.\\nthis is my code:\\n\\nwhen i build the application  it gives the following error:\\n\\n\\n\\ni have tried using  and   but then the  doesn't work. this code worked fine in a past vb.net project.\\n</td>\n",
       "      <td>['c#', 'floating-point', 'type-conversion', 'double', 'decimal']</td>\n",
       "      <td>[want, use, change, opacity, code, build, application, gives, following, error, tried, using, work, code, worked, fine, past, vb, net, project]</td>\n",
       "      <td>[want, use, chang, opac, code, build, applic, give, follow, error, tri, use, work, code, work, fine, past, vb, net, project]</td>\n",
       "      <td>[(want, n), (use, n), (change, n), (opacity, n), (code, n), (build, a), (application, n), (gives, v), (following, v), (error, n), (tried, v), (using, v), (work, n), (code, n), (worked, v), (fine, a), (past, n), (vb, a), (net, n), (project, n)]</td>\n",
       "      <td>[want, use, change, opacity, code, build, application, give, follow, error, try, use, work, code, work, fine, past, vb, net, project]</td>\n",
       "    </tr>\n",
       "    <tr>\n",
       "      <th>6</th>\n",
       "      <td>why did the width collapse in the percentage width child element in an absolutely positioned parent on internet explorer 7?</td>\n",
       "      <td>i have an absolutely positioned  containing several children  one of which is a relatively positioned . when i use a  on the child   it collapses to  on ie7  but not on firefox or safari.\\nif i use   it works. if the parent is relatively positioned  the percentage width on the child works.\\n\\nis there something i'm missing here?\\nis there an easy fix for this besides the  on the child?\\nis there an area of the css specification that covers this?\\n\\n</td>\n",
       "      <td>['html', 'css', 'internet-explorer-7']</td>\n",
       "      <td>[absolutely, positioned, containing, several, children, one, relatively, positioned, use, child, collapses, ie7, firefox, safari, use, works, parent, relatively, positioned, percentage, width, child, works, something, missing, easy, fix, besides, child, area, css, specification, covers]</td>\n",
       "      <td>[absolut, posit, contain, sever, children, one, relat, posit, use, child, collaps, ie7, firefox, safari, use, work, parent, relat, posit, percentag, width, child, work, someth, miss, easi, fix, besid, child, area, css, specif, cover]</td>\n",
       "      <td>[(absolutely, r), (positioned, v), (containing, v), (several, a), (children, n), (one, n), (relatively, r), (positioned, v), (use, n), (child, n), (collapses, n), (ie7, v), (firefox, n), (safari, n), (use, n), (works, v), (parent, n), (relatively, r), (positioned, v), (percentage, n), (width, n), (child, n), (works, v), (something, n), (missing, v), (easy, a), (fix, a), (besides, n), (child, a), (area, n), (css, n), (specification, n), (covers, n)]</td>\n",
       "      <td>[absolutely, position, contain, several, child, one, relatively, position, use, child, collapse, ie7, firefox, safari, use, work, parent, relatively, position, percentage, width, child, work, something, miss, easy, fix, besides, child, area, cs, specification, cover]</td>\n",
       "    </tr>\n",
       "    <tr>\n",
       "      <th>9</th>\n",
       "      <td>how do i calculate someone's age based on a datetime type birthday?</td>\n",
       "      <td>given a  representing a person's birthday  how do i calculate their age in years?\\n</td>\n",
       "      <td>['c#', '.net', 'datetime']</td>\n",
       "      <td>[given, representing, person, birthday, calculate, age, years]</td>\n",
       "      <td>[given, repres, person, birthday, calcul, age, year]</td>\n",
       "      <td>[(given, v), (representing, v), (person, n), (birthday, a), (calculate, a), (age, n), (years, n)]</td>\n",
       "      <td>[give, represent, person, birthday, calculate, age, year]</td>\n",
       "    </tr>\n",
       "    <tr>\n",
       "      <th>11</th>\n",
       "      <td>calculate relative time in c#</td>\n",
       "      <td>given a specific  value  how do i display relative time  like:\\n\\n2 hours ago\\n3 days ago\\na month ago\\n\\n</td>\n",
       "      <td>['c#', 'datetime', 'time', 'datediff', 'relative-time-span']</td>\n",
       "      <td>[given, specific, value, display, relative, time, like, 2, hours, ago, 3, days, ago, month, ago]</td>\n",
       "      <td>[given, specif, valu, display, relat, time, like, 2, hour, ago, 3, day, ago, month, ago]</td>\n",
       "      <td>[(given, v), (specific, a), (value, n), (display, n), (relative, a), (time, n), (like, n), (2, n), (hours, n), (ago, r), (3, n), (days, n), (ago, r), (month, n), (ago, n)]</td>\n",
       "      <td>[give, specific, value, display, relative, time, like, 2, hour, ago, 3, day, ago, month, ago]</td>\n",
       "    </tr>\n",
       "    <tr>\n",
       "      <th>13</th>\n",
       "      <td>determine a user's timezone</td>\n",
       "      <td>is there a standard way for a web server to be able to determine a user's timezone within a web page? \\nperhaps from an http header or part of the  string?\\n</td>\n",
       "      <td>['html', 'browser', 'timezone', 'user-agent', 'timezone-offset']</td>\n",
       "      <td>[standard, way, web, server, able, determine, user, timezone, within, web, page, perhaps, http, header, part, string]</td>\n",
       "      <td>[standard, way, web, server, abl, determin, user, timezon, within, web, page, perhap, http, header, part, string]</td>\n",
       "      <td>[(standard, a), (way, n), (web, n), (server, n), (able, a), (determine, n), (user, n), (timezone, n), (within, n), (web, a), (page, n), (perhaps, r), (http, a), (header, a), (part, n), (string, n)]</td>\n",
       "      <td>[standard, way, web, server, able, determine, user, timezone, within, web, page, perhaps, http, header, part, string]</td>\n",
       "    </tr>\n",
       "  </tbody>\n",
       "</table>\n",
       "</div>"
      ],
      "text/plain": [
       "                                                                                                                          Title  \\\n",
       "Id                                                                                                                                \n",
       "4                                                                                   how to convert a decimal to a double in c#?   \n",
       "6   why did the width collapse in the percentage width child element in an absolutely positioned parent on internet explorer 7?   \n",
       "9                                                           how do i calculate someone's age based on a datetime type birthday?   \n",
       "11                                                                                                calculate relative time in c#   \n",
       "13                                                                                                  determine a user's timezone   \n",
       "\n",
       "                                                                                                                                                                                                                                                                                                                                                                                                                                                                     Body  \\\n",
       "Id                                                                                                                                                                                                                                                                                                                                                                                                                                                                          \n",
       "4                                                                                                                                                                                                                                i want to use a  to change a 's opacity.\\nthis is my code:\\n\\nwhen i build the application  it gives the following error:\\n\\n\\n\\ni have tried using  and   but then the  doesn't work. this code worked fine in a past vb.net project.\\n   \n",
       "6   i have an absolutely positioned  containing several children  one of which is a relatively positioned . when i use a  on the child   it collapses to  on ie7  but not on firefox or safari.\\nif i use   it works. if the parent is relatively positioned  the percentage width on the child works.\\n\\nis there something i'm missing here?\\nis there an easy fix for this besides the  on the child?\\nis there an area of the css specification that covers this?\\n\\n   \n",
       "9                                                                                                                                                                                                                                                                                                                                                                                     given a  representing a person's birthday  how do i calculate their age in years?\\n   \n",
       "11                                                                                                                                                                                                                                                                                                                                                             given a specific  value  how do i display relative time  like:\\n\\n2 hours ago\\n3 days ago\\na month ago\\n\\n   \n",
       "13                                                                                                                                                                                                                                                                                                          is there a standard way for a web server to be able to determine a user's timezone within a web page? \\nperhaps from an http header or part of the  string?\\n   \n",
       "\n",
       "                                                                Tags  \\\n",
       "Id                                                                     \n",
       "4   ['c#', 'floating-point', 'type-conversion', 'double', 'decimal']   \n",
       "6                             ['html', 'css', 'internet-explorer-7']   \n",
       "9                                         ['c#', '.net', 'datetime']   \n",
       "11      ['c#', 'datetime', 'time', 'datediff', 'relative-time-span']   \n",
       "13  ['html', 'browser', 'timezone', 'user-agent', 'timezone-offset']   \n",
       "\n",
       "                                                                                                                                                                                                                                                                                        Body_Tokens  \\\n",
       "Id                                                                                                                                                                                                                                                                                                    \n",
       "4                                                                                                                                                   [want, use, change, opacity, code, build, application, gives, following, error, tried, using, work, code, worked, fine, past, vb, net, project]   \n",
       "6   [absolutely, positioned, containing, several, children, one, relatively, positioned, use, child, collapses, ie7, firefox, safari, use, works, parent, relatively, positioned, percentage, width, child, works, something, missing, easy, fix, besides, child, area, css, specification, covers]   \n",
       "9                                                                                                                                                                                                                                    [given, representing, person, birthday, calculate, age, years]   \n",
       "11                                                                                                                                                                                                 [given, specific, value, display, relative, time, like, 2, hours, ago, 3, days, ago, month, ago]   \n",
       "13                                                                                                                                                                            [standard, way, web, server, able, determine, user, timezone, within, web, page, perhaps, http, header, part, string]   \n",
       "\n",
       "                                                                                                                                                                                                                                 Body_Stemmed  \\\n",
       "Id                                                                                                                                                                                                                                              \n",
       "4                                                                                                                [want, use, chang, opac, code, build, applic, give, follow, error, tri, use, work, code, work, fine, past, vb, net, project]   \n",
       "6   [absolut, posit, contain, sever, children, one, relat, posit, use, child, collaps, ie7, firefox, safari, use, work, parent, relat, posit, percentag, width, child, work, someth, miss, easi, fix, besid, child, area, css, specif, cover]   \n",
       "9                                                                                                                                                                                        [given, repres, person, birthday, calcul, age, year]   \n",
       "11                                                                                                                                                   [given, specif, valu, display, relat, time, like, 2, hour, ago, 3, day, ago, month, ago]   \n",
       "13                                                                                                                          [standard, way, web, server, abl, determin, user, timezon, within, web, page, perhap, http, header, part, string]   \n",
       "\n",
       "                                                                                                                                                                                                                                                                                                                                                                                                                                                                Body_POS  \\\n",
       "Id                                                                                                                                                                                                                                                                                                                                                                                                                                                                         \n",
       "4                                                                                                                                                                                                                    [(want, n), (use, n), (change, n), (opacity, n), (code, n), (build, a), (application, n), (gives, v), (following, v), (error, n), (tried, v), (using, v), (work, n), (code, n), (worked, v), (fine, a), (past, n), (vb, a), (net, n), (project, n)]   \n",
       "6   [(absolutely, r), (positioned, v), (containing, v), (several, a), (children, n), (one, n), (relatively, r), (positioned, v), (use, n), (child, n), (collapses, n), (ie7, v), (firefox, n), (safari, n), (use, n), (works, v), (parent, n), (relatively, r), (positioned, v), (percentage, n), (width, n), (child, n), (works, v), (something, n), (missing, v), (easy, a), (fix, a), (besides, n), (child, a), (area, n), (css, n), (specification, n), (covers, n)]   \n",
       "9                                                                                                                                                                                                                                                                                                                                                                      [(given, v), (representing, v), (person, n), (birthday, a), (calculate, a), (age, n), (years, n)]   \n",
       "11                                                                                                                                                                                                                                                                                           [(given, v), (specific, a), (value, n), (display, n), (relative, a), (time, n), (like, n), (2, n), (hours, n), (ago, r), (3, n), (days, n), (ago, r), (month, n), (ago, n)]   \n",
       "13                                                                                                                                                                                                                                                                 [(standard, a), (way, n), (web, n), (server, n), (able, a), (determine, n), (user, n), (timezone, n), (within, n), (web, a), (page, n), (perhaps, r), (http, a), (header, a), (part, n), (string, n)]   \n",
       "\n",
       "                                                                                                                                                                                                                                                                Body_Lemmatized  \n",
       "Id                                                                                                                                                                                                                                                                               \n",
       "4                                                                                                                                         [want, use, change, opacity, code, build, application, give, follow, error, try, use, work, code, work, fine, past, vb, net, project]  \n",
       "6   [absolutely, position, contain, several, child, one, relatively, position, use, child, collapse, ie7, firefox, safari, use, work, parent, relatively, position, percentage, width, child, work, something, miss, easy, fix, besides, child, area, cs, specification, cover]  \n",
       "9                                                                                                                                                                                                                     [give, represent, person, birthday, calculate, age, year]  \n",
       "11                                                                                                                                                                                [give, specific, value, display, relative, time, like, 2, hour, ago, 3, day, ago, month, ago]  \n",
       "13                                                                                                                                                        [standard, way, web, server, able, determine, user, timezone, within, web, page, perhaps, http, header, part, string]  "
      ]
     },
     "execution_count": 38,
     "metadata": {},
     "output_type": "execute_result"
    }
   ],
   "source": [
    "display = None\n",
    "if config[\"processing\"]:\n",
    "    display = data.head()\n",
    "display"
   ]
  },
  {
   "cell_type": "code",
   "execution_count": 39,
   "metadata": {},
   "outputs": [],
   "source": [
    "if config[\"processing\"]:\n",
    "    data.to_csv(\"data/data_cleaned.csv\", index_label=\"Id\")"
   ]
  }
 ],
 "metadata": {
  "interpreter": {
   "hash": "586ad1ed5c97141e2437e681efbf1ec0adcd17d830cf5af2ca3d2819e743e158"
  },
  "kernelspec": {
   "display_name": "Python 3.8.12 64-bit ('base': conda)",
   "language": "python",
   "name": "python3"
  },
  "language_info": {
   "codemirror_mode": {
    "name": "ipython",
    "version": 3
   },
   "file_extension": ".py",
   "mimetype": "text/x-python",
   "name": "python",
   "nbconvert_exporter": "python",
   "pygments_lexer": "ipython3",
   "version": "3.8.12"
  },
  "orig_nbformat": 4
 },
 "nbformat": 4,
 "nbformat_minor": 2
}
