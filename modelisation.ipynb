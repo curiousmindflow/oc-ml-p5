{
 "cells": [
  {
   "cell_type": "markdown",
   "metadata": {},
   "source": [
    "# 0 Imports"
   ]
  },
  {
   "cell_type": "code",
   "execution_count": 1,
   "metadata": {},
   "outputs": [],
   "source": [
    "from enum import Enum\n",
    "\n",
    "import numpy as np\n",
    "import matplotlib.pyplot as plt\n",
    "import seaborn as sns\n",
    "import pandas as pd\n",
    "\n",
    "from sklearn.model_selection import GridSearchCV, train_test_split\n",
    "from sklearn.feature_extraction.text import CountVectorizer, TfidfVectorizer\n",
    "from sklearn.decomposition import LatentDirichletAllocation, PCA\n",
    "from sklearn.ensemble import RandomForestClassifier\n",
    "from sklearn.metrics import multilabel_confusion_matrix, classification_report, ConfusionMatrixDisplay\n",
    "from sklearn.multioutput import MultiOutputClassifier\n",
    "from sklearn.pipeline import Pipeline\n",
    "from sklearn.preprocessing import MultiLabelBinarizer\n",
    "from sklearn.neighbors import KNeighborsClassifier\n",
    "from sklearn.tree import DecisionTreeClassifier\n",
    "\n",
    "import nltk\n",
    "\n",
    "pd.set_option(\"display.max_columns\", None)\n",
    "pd.set_option(\"display.max_rows\", None)\n",
    "pd.set_option(\"display.max_colwidth\", None)\n",
    "\n",
    "np.random.seed(0)\n"
   ]
  },
  {
   "cell_type": "markdown",
   "metadata": {},
   "source": [
    "***\n",
    "# 1 Config"
   ]
  },
  {
   "cell_type": "code",
   "execution_count": 2,
   "metadata": {},
   "outputs": [],
   "source": [
    "config = {\n",
    "    \"bag\": False,\n",
    "    \"tfidf\": False,\n",
    "    \"unsupervised\": False,\n",
    "    \"supervised\": True\n",
    "}"
   ]
  },
  {
   "cell_type": "markdown",
   "metadata": {},
   "source": [
    "***\n",
    "# 2 Data Loading"
   ]
  },
  {
   "cell_type": "code",
   "execution_count": 3,
   "metadata": {},
   "outputs": [],
   "source": [
    "data = pd.read_csv(\"data/data_cleaned.csv\", index_col=\"Id\")\n",
    "\n",
    "data[\"Tags\"] = data[\"Tags\"].apply(eval)\n",
    "# data[\"Tokens\"] = data[\"Tokens\"].apply(eval)\n",
    "# data[\"POS\"] = data[\"POS\"].apply(eval)\n",
    "# data[\"Lemmatized\"] = data[\"Lemmatized\"].apply(eval)\n",
    "# data[\"LemmaAndStem\"] = data[\"LemmaAndStem\"].apply(eval)"
   ]
  },
  {
   "cell_type": "code",
   "execution_count": 4,
   "metadata": {},
   "outputs": [
    {
     "data": {
      "text/html": [
       "<div>\n",
       "<style scoped>\n",
       "    .dataframe tbody tr th:only-of-type {\n",
       "        vertical-align: middle;\n",
       "    }\n",
       "\n",
       "    .dataframe tbody tr th {\n",
       "        vertical-align: top;\n",
       "    }\n",
       "\n",
       "    .dataframe thead th {\n",
       "        text-align: right;\n",
       "    }\n",
       "</style>\n",
       "<table border=\"1\" class=\"dataframe\">\n",
       "  <thead>\n",
       "    <tr style=\"text-align: right;\">\n",
       "      <th></th>\n",
       "      <th>Title</th>\n",
       "      <th>Body</th>\n",
       "      <th>Tags</th>\n",
       "      <th>Tokens</th>\n",
       "      <th>POS</th>\n",
       "      <th>Lemmatized</th>\n",
       "      <th>LemmaAndStem</th>\n",
       "      <th>Sentence</th>\n",
       "    </tr>\n",
       "    <tr>\n",
       "      <th>Id</th>\n",
       "      <th></th>\n",
       "      <th></th>\n",
       "      <th></th>\n",
       "      <th></th>\n",
       "      <th></th>\n",
       "      <th></th>\n",
       "      <th></th>\n",
       "      <th></th>\n",
       "    </tr>\n",
       "  </thead>\n",
       "  <tbody>\n",
       "    <tr>\n",
       "      <th>4</th>\n",
       "      <td>how to convert a decimal to a double in c#?</td>\n",
       "      <td>i want to use a  to change a 's opacity.\\nthis is my code:\\n\\nwhen i build the application  it gives the following error:\\n\\n\\n\\ni have tried using  and   but then the  doesn't work. this code worked fine in a past vb.net project.\\n</td>\n",
       "      <td>[c#, floating-point, type-conversion, double, decimal]</td>\n",
       "      <td>['want', 'use', 'change', 'opacity', 'code', 'build', 'application', 'gives', 'following', 'error', 'tried', 'using', 'work', 'code', 'worked', 'fine', 'past', 'vb', '.net', 'project', 'convert', 'decimal', 'double', 'c#']</td>\n",
       "      <td>[('want', 'n'), ('use', 'n'), ('change', 'n'), ('opacity', 'n'), ('code', 'n'), ('build', 'a'), ('application', 'n'), ('gives', 'v'), ('following', 'v'), ('error', 'n'), ('tried', 'v'), ('using', 'v'), ('work', 'n'), ('code', 'n'), ('worked', 'v'), ('fine', 'a'), ('past', 'n'), ('vb', 'a'), ('.net', 'n'), ('project', 'n'), ('convert', 'v'), ('decimal', 'a'), ('double', 'a'), ('c#', 'n')]</td>\n",
       "      <td>['want', 'use', 'change', 'opacity', 'code', 'build', 'application', 'give', 'follow', 'error', 'try', 'use', 'work', 'code', 'work', 'fine', 'past', 'vb', '.net', 'project', 'convert', 'decimal', 'double', 'c#']</td>\n",
       "      <td>['want', 'use', 'chang', 'opac', 'code', 'build', 'applic', 'give', 'follow', 'error', 'tri', 'use', 'work', 'code', 'work', 'fine', 'past', 'vb', '.net', 'project', 'convert', 'decim', 'doubl', 'c#']</td>\n",
       "      <td>want use chang opac code build applic give follow error tri use work code work fine past vb .net project convert decim doubl c#</td>\n",
       "    </tr>\n",
       "    <tr>\n",
       "      <th>6</th>\n",
       "      <td>why did the width collapse in the percentage width child element in an absolutely positioned parent on internet explorer 7?</td>\n",
       "      <td>i have an absolutely positioned  containing several children  one of which is a relatively positioned . when i use a  on the child   it collapses to  on ie7  but not on firefox or safari.\\nif i use   it works. if the parent is relatively positioned  the percentage width on the child works.\\n\\nis there something i'm missing here?\\nis there an easy fix for this besides the  on the child?\\nis there an area of the css specification that covers this?\\n\\n</td>\n",
       "      <td>[html, css, internet-explorer-7]</td>\n",
       "      <td>['absolutely', 'positioned', 'containing', 'several', 'children', 'one', 'relatively', 'positioned', 'use', 'child', 'collapses', 'ie', 'firefox', 'safari', 'use', 'works', 'parent', 'relatively', 'positioned', 'percentage', 'width', 'child', 'works', 'something', 'missing', 'easy', 'fix', 'besides', 'child', 'area', 'css', 'specification', 'covers', 'width', 'collapse', 'percentage', 'width', 'child', 'element', 'absolutely', 'positioned', 'parent', 'internet', 'explorer']</td>\n",
       "      <td>[('absolutely', 'r'), ('positioned', 'v'), ('containing', 'v'), ('several', 'a'), ('children', 'n'), ('one', 'n'), ('relatively', 'r'), ('positioned', 'v'), ('use', 'n'), ('child', 'n'), ('collapses', 'n'), ('ie', 'v'), ('firefox', 'n'), ('safari', 'n'), ('use', 'n'), ('works', 'v'), ('parent', 'n'), ('relatively', 'r'), ('positioned', 'v'), ('percentage', 'n'), ('width', 'n'), ('child', 'n'), ('works', 'v'), ('something', 'n'), ('missing', 'v'), ('easy', 'a'), ('fix', 'a'), ('besides', 'n'), ('child', 'a'), ('area', 'n'), ('css', 'n'), ('specification', 'n'), ('covers', 'v'), ('width', 'a'), ('collapse', 'n'), ('percentage', 'n'), ('width', 'n'), ('child', 'n'), ('element', 'n'), ('absolutely', 'r'), ('positioned', 'v'), ('parent', 'a'), ('internet', 'n'), ('explorer', 'n')]</td>\n",
       "      <td>['absolutely', 'position', 'contain', 'several', 'child', 'one', 'relatively', 'position', 'use', 'child', 'collapse', 'ie', 'firefox', 'safari', 'use', 'work', 'parent', 'relatively', 'position', 'percentage', 'width', 'child', 'work', 'something', 'miss', 'easy', 'fix', 'besides', 'child', 'area', 'cs', 'specification', 'cover', 'width', 'collapse', 'percentage', 'width', 'child', 'element', 'absolutely', 'position', 'parent', 'internet', 'explorer']</td>\n",
       "      <td>['absolut', 'posit', 'contain', 'sever', 'children', 'one', 'relat', 'posit', 'use', 'child', 'collaps', 'ie', 'firefox', 'safari', 'use', 'work', 'parent', 'relat', 'posit', 'percentag', 'width', 'child', 'work', 'someth', 'miss', 'easi', 'fix', 'besid', 'child', 'area', 'css', 'specif', 'cover', 'width', 'collaps', 'percentag', 'width', 'child', 'element', 'absolut', 'posit', 'parent', 'internet', 'explor']</td>\n",
       "      <td>absolut posit contain sever children one relat posit use child collaps ie firefox safari use work parent relat posit percentag width child work someth miss easi fix besid child area css specif cover width collaps percentag width child element absolut posit parent internet explor</td>\n",
       "    </tr>\n",
       "    <tr>\n",
       "      <th>9</th>\n",
       "      <td>how do i calculate someone's age based on a datetime type birthday?</td>\n",
       "      <td>given a  representing a person's birthday  how do i calculate their age in years?\\n</td>\n",
       "      <td>[c#, .net, datetime]</td>\n",
       "      <td>['given', 'representing', 'person', 'birthday', 'calculate', 'age', 'years', 'calculate', 'someone', 'age', 'based', 'datetime', 'type', 'birthday']</td>\n",
       "      <td>[('given', 'v'), ('representing', 'v'), ('person', 'n'), ('birthday', 'a'), ('calculate', 'a'), ('age', 'n'), ('years', 'n'), ('calculate', 'v'), ('someone', 'n'), ('age', 'n'), ('based', 'v'), ('datetime', 'a'), ('type', 'n'), ('birthday', 'n')]</td>\n",
       "      <td>['give', 'represent', 'person', 'birthday', 'calculate', 'age', 'year', 'calculate', 'someone', 'age', 'base', 'datetime', 'type', 'birthday']</td>\n",
       "      <td>['given', 'repres', 'person', 'birthday', 'calcul', 'age', 'year', 'calcul', 'someon', 'age', 'base', 'datetim', 'type', 'birthday']</td>\n",
       "      <td>given repres person birthday calcul age year calcul someon age base datetim type birthday</td>\n",
       "    </tr>\n",
       "    <tr>\n",
       "      <th>11</th>\n",
       "      <td>calculate relative time in c#</td>\n",
       "      <td>given a specific  value  how do i display relative time  like:\\n\\n2 hours ago\\n3 days ago\\na month ago\\n\\n</td>\n",
       "      <td>[c#, datetime, time, datediff, relative-time-span]</td>\n",
       "      <td>['given', 'specific', 'value', 'display', 'relative', 'time', 'like', 'hours', 'ago', 'days', 'ago', 'month', 'ago', 'calculate', 'relative', 'time', 'c#']</td>\n",
       "      <td>[('given', 'v'), ('specific', 'a'), ('value', 'n'), ('display', 'n'), ('relative', 'a'), ('time', 'n'), ('like', 'n'), ('hours', 'n'), ('ago', 'r'), ('days', 'n'), ('ago', 'r'), ('month', 'n'), ('ago', 'r'), ('calculate', 'v'), ('relative', 'a'), ('time', 'n'), ('c#', 'n')]</td>\n",
       "      <td>['give', 'specific', 'value', 'display', 'relative', 'time', 'like', 'hour', 'ago', 'day', 'ago', 'month', 'ago', 'calculate', 'relative', 'time', 'c#']</td>\n",
       "      <td>['given', 'specif', 'valu', 'display', 'relat', 'time', 'like', 'hour', 'ago', 'day', 'ago', 'month', 'ago', 'calcul', 'relat', 'time', 'c#']</td>\n",
       "      <td>given specif valu display relat time like hour ago day ago month ago calcul relat time c#</td>\n",
       "    </tr>\n",
       "    <tr>\n",
       "      <th>13</th>\n",
       "      <td>determine a user's timezone</td>\n",
       "      <td>is there a standard way for a web server to be able to determine a user's timezone within a web page? \\nperhaps from an http header or part of the  string?\\n</td>\n",
       "      <td>[html, browser, timezone, user-agent, timezone-offset]</td>\n",
       "      <td>['standard', 'way', 'web', 'server', 'able', 'determine', 'user', 'timezone', 'within', 'web', 'page', 'perhaps', 'http', 'header', 'part', 'string', 'determine', 'user', 'timezone']</td>\n",
       "      <td>[('standard', 'a'), ('way', 'n'), ('web', 'n'), ('server', 'n'), ('able', 'a'), ('determine', 'n'), ('user', 'n'), ('timezone', 'n'), ('within', 'n'), ('web', 'a'), ('page', 'n'), ('perhaps', 'r'), ('http', 'a'), ('header', 'a'), ('part', 'n'), ('string', 'v'), ('determine', 'a'), ('user', 'n'), ('timezone', 'n')]</td>\n",
       "      <td>['standard', 'way', 'web', 'server', 'able', 'determine', 'user', 'timezone', 'within', 'web', 'page', 'perhaps', 'http', 'header', 'part', 'string', 'determine', 'user', 'timezone']</td>\n",
       "      <td>['standard', 'way', 'web', 'server', 'abl', 'determin', 'user', 'timezon', 'within', 'web', 'page', 'perhap', 'http', 'header', 'part', 'string', 'determin', 'user', 'timezon']</td>\n",
       "      <td>standard way web server abl determin user timezon within web page perhap http header part string determin user timezon</td>\n",
       "    </tr>\n",
       "  </tbody>\n",
       "</table>\n",
       "</div>"
      ],
      "text/plain": [
       "                                                                                                                          Title  \\\n",
       "Id                                                                                                                                \n",
       "4                                                                                   how to convert a decimal to a double in c#?   \n",
       "6   why did the width collapse in the percentage width child element in an absolutely positioned parent on internet explorer 7?   \n",
       "9                                                           how do i calculate someone's age based on a datetime type birthday?   \n",
       "11                                                                                                calculate relative time in c#   \n",
       "13                                                                                                  determine a user's timezone   \n",
       "\n",
       "                                                                                                                                                                                                                                                                                                                                                                                                                                                                     Body  \\\n",
       "Id                                                                                                                                                                                                                                                                                                                                                                                                                                                                          \n",
       "4                                                                                                                                                                                                                                i want to use a  to change a 's opacity.\\nthis is my code:\\n\\nwhen i build the application  it gives the following error:\\n\\n\\n\\ni have tried using  and   but then the  doesn't work. this code worked fine in a past vb.net project.\\n   \n",
       "6   i have an absolutely positioned  containing several children  one of which is a relatively positioned . when i use a  on the child   it collapses to  on ie7  but not on firefox or safari.\\nif i use   it works. if the parent is relatively positioned  the percentage width on the child works.\\n\\nis there something i'm missing here?\\nis there an easy fix for this besides the  on the child?\\nis there an area of the css specification that covers this?\\n\\n   \n",
       "9                                                                                                                                                                                                                                                                                                                                                                                     given a  representing a person's birthday  how do i calculate their age in years?\\n   \n",
       "11                                                                                                                                                                                                                                                                                                                                                             given a specific  value  how do i display relative time  like:\\n\\n2 hours ago\\n3 days ago\\na month ago\\n\\n   \n",
       "13                                                                                                                                                                                                                                                                                                          is there a standard way for a web server to be able to determine a user's timezone within a web page? \\nperhaps from an http header or part of the  string?\\n   \n",
       "\n",
       "                                                      Tags  \\\n",
       "Id                                                           \n",
       "4   [c#, floating-point, type-conversion, double, decimal]   \n",
       "6                         [html, css, internet-explorer-7]   \n",
       "9                                     [c#, .net, datetime]   \n",
       "11      [c#, datetime, time, datediff, relative-time-span]   \n",
       "13  [html, browser, timezone, user-agent, timezone-offset]   \n",
       "\n",
       "                                                                                                                                                                                                                                                                                                                                                                                                                                                                                            Tokens  \\\n",
       "Id                                                                                                                                                                                                                                                                                                                                                                                                                                                                                                   \n",
       "4                                                                                                                                                                                                                                                                   ['want', 'use', 'change', 'opacity', 'code', 'build', 'application', 'gives', 'following', 'error', 'tried', 'using', 'work', 'code', 'worked', 'fine', 'past', 'vb', '.net', 'project', 'convert', 'decimal', 'double', 'c#']   \n",
       "6   ['absolutely', 'positioned', 'containing', 'several', 'children', 'one', 'relatively', 'positioned', 'use', 'child', 'collapses', 'ie', 'firefox', 'safari', 'use', 'works', 'parent', 'relatively', 'positioned', 'percentage', 'width', 'child', 'works', 'something', 'missing', 'easy', 'fix', 'besides', 'child', 'area', 'css', 'specification', 'covers', 'width', 'collapse', 'percentage', 'width', 'child', 'element', 'absolutely', 'positioned', 'parent', 'internet', 'explorer']   \n",
       "9                                                                                                                                                                                                                                                                                                                                             ['given', 'representing', 'person', 'birthday', 'calculate', 'age', 'years', 'calculate', 'someone', 'age', 'based', 'datetime', 'type', 'birthday']   \n",
       "11                                                                                                                                                                                                                                                                                                                                     ['given', 'specific', 'value', 'display', 'relative', 'time', 'like', 'hours', 'ago', 'days', 'ago', 'month', 'ago', 'calculate', 'relative', 'time', 'c#']   \n",
       "13                                                                                                                                                                                                                                                                                                          ['standard', 'way', 'web', 'server', 'able', 'determine', 'user', 'timezone', 'within', 'web', 'page', 'perhaps', 'http', 'header', 'part', 'string', 'determine', 'user', 'timezone']   \n",
       "\n",
       "                                                                                                                                                                                                                                                                                                                                                                                                                                                                                                                                                                                                                                                                                                                                                                                                                   POS  \\\n",
       "Id                                                                                                                                                                                                                                                                                                                                                                                                                                                                                                                                                                                                                                                                                                                                                                                                                       \n",
       "4                                                                                                                                                                                                                                                                                                                                                                                                               [('want', 'n'), ('use', 'n'), ('change', 'n'), ('opacity', 'n'), ('code', 'n'), ('build', 'a'), ('application', 'n'), ('gives', 'v'), ('following', 'v'), ('error', 'n'), ('tried', 'v'), ('using', 'v'), ('work', 'n'), ('code', 'n'), ('worked', 'v'), ('fine', 'a'), ('past', 'n'), ('vb', 'a'), ('.net', 'n'), ('project', 'n'), ('convert', 'v'), ('decimal', 'a'), ('double', 'a'), ('c#', 'n')]   \n",
       "6   [('absolutely', 'r'), ('positioned', 'v'), ('containing', 'v'), ('several', 'a'), ('children', 'n'), ('one', 'n'), ('relatively', 'r'), ('positioned', 'v'), ('use', 'n'), ('child', 'n'), ('collapses', 'n'), ('ie', 'v'), ('firefox', 'n'), ('safari', 'n'), ('use', 'n'), ('works', 'v'), ('parent', 'n'), ('relatively', 'r'), ('positioned', 'v'), ('percentage', 'n'), ('width', 'n'), ('child', 'n'), ('works', 'v'), ('something', 'n'), ('missing', 'v'), ('easy', 'a'), ('fix', 'a'), ('besides', 'n'), ('child', 'a'), ('area', 'n'), ('css', 'n'), ('specification', 'n'), ('covers', 'v'), ('width', 'a'), ('collapse', 'n'), ('percentage', 'n'), ('width', 'n'), ('child', 'n'), ('element', 'n'), ('absolutely', 'r'), ('positioned', 'v'), ('parent', 'a'), ('internet', 'n'), ('explorer', 'n')]   \n",
       "9                                                                                                                                                                                                                                                                                                                                                                                                                                                                                                                                                               [('given', 'v'), ('representing', 'v'), ('person', 'n'), ('birthday', 'a'), ('calculate', 'a'), ('age', 'n'), ('years', 'n'), ('calculate', 'v'), ('someone', 'n'), ('age', 'n'), ('based', 'v'), ('datetime', 'a'), ('type', 'n'), ('birthday', 'n')]   \n",
       "11                                                                                                                                                                                                                                                                                                                                                                                                                                                                                                                                  [('given', 'v'), ('specific', 'a'), ('value', 'n'), ('display', 'n'), ('relative', 'a'), ('time', 'n'), ('like', 'n'), ('hours', 'n'), ('ago', 'r'), ('days', 'n'), ('ago', 'r'), ('month', 'n'), ('ago', 'r'), ('calculate', 'v'), ('relative', 'a'), ('time', 'n'), ('c#', 'n')]   \n",
       "13                                                                                                                                                                                                                                                                                                                                                                                                                                                                                         [('standard', 'a'), ('way', 'n'), ('web', 'n'), ('server', 'n'), ('able', 'a'), ('determine', 'n'), ('user', 'n'), ('timezone', 'n'), ('within', 'n'), ('web', 'a'), ('page', 'n'), ('perhaps', 'r'), ('http', 'a'), ('header', 'a'), ('part', 'n'), ('string', 'v'), ('determine', 'a'), ('user', 'n'), ('timezone', 'n')]   \n",
       "\n",
       "                                                                                                                                                                                                                                                                                                                                                                                                                                                                  Lemmatized  \\\n",
       "Id                                                                                                                                                                                                                                                                                                                                                                                                                                                                             \n",
       "4                                                                                                                                                                                                                                                       ['want', 'use', 'change', 'opacity', 'code', 'build', 'application', 'give', 'follow', 'error', 'try', 'use', 'work', 'code', 'work', 'fine', 'past', 'vb', '.net', 'project', 'convert', 'decimal', 'double', 'c#']   \n",
       "6   ['absolutely', 'position', 'contain', 'several', 'child', 'one', 'relatively', 'position', 'use', 'child', 'collapse', 'ie', 'firefox', 'safari', 'use', 'work', 'parent', 'relatively', 'position', 'percentage', 'width', 'child', 'work', 'something', 'miss', 'easy', 'fix', 'besides', 'child', 'area', 'cs', 'specification', 'cover', 'width', 'collapse', 'percentage', 'width', 'child', 'element', 'absolutely', 'position', 'parent', 'internet', 'explorer']   \n",
       "9                                                                                                                                                                                                                                                                                                                             ['give', 'represent', 'person', 'birthday', 'calculate', 'age', 'year', 'calculate', 'someone', 'age', 'base', 'datetime', 'type', 'birthday']   \n",
       "11                                                                                                                                                                                                                                                                                                                  ['give', 'specific', 'value', 'display', 'relative', 'time', 'like', 'hour', 'ago', 'day', 'ago', 'month', 'ago', 'calculate', 'relative', 'time', 'c#']   \n",
       "13                                                                                                                                                                                                                                                                                    ['standard', 'way', 'web', 'server', 'able', 'determine', 'user', 'timezone', 'within', 'web', 'page', 'perhaps', 'http', 'header', 'part', 'string', 'determine', 'user', 'timezone']   \n",
       "\n",
       "                                                                                                                                                                                                                                                                                                                                                                                                                    LemmaAndStem  \\\n",
       "Id                                                                                                                                                                                                                                                                                                                                                                                                                                 \n",
       "4                                                                                                                                                                                                                       ['want', 'use', 'chang', 'opac', 'code', 'build', 'applic', 'give', 'follow', 'error', 'tri', 'use', 'work', 'code', 'work', 'fine', 'past', 'vb', '.net', 'project', 'convert', 'decim', 'doubl', 'c#']   \n",
       "6   ['absolut', 'posit', 'contain', 'sever', 'children', 'one', 'relat', 'posit', 'use', 'child', 'collaps', 'ie', 'firefox', 'safari', 'use', 'work', 'parent', 'relat', 'posit', 'percentag', 'width', 'child', 'work', 'someth', 'miss', 'easi', 'fix', 'besid', 'child', 'area', 'css', 'specif', 'cover', 'width', 'collaps', 'percentag', 'width', 'child', 'element', 'absolut', 'posit', 'parent', 'internet', 'explor']   \n",
       "9                                                                                                                                                                                                                                                                                           ['given', 'repres', 'person', 'birthday', 'calcul', 'age', 'year', 'calcul', 'someon', 'age', 'base', 'datetim', 'type', 'birthday']   \n",
       "11                                                                                                                                                                                                                                                                                 ['given', 'specif', 'valu', 'display', 'relat', 'time', 'like', 'hour', 'ago', 'day', 'ago', 'month', 'ago', 'calcul', 'relat', 'time', 'c#']   \n",
       "13                                                                                                                                                                                                                                              ['standard', 'way', 'web', 'server', 'abl', 'determin', 'user', 'timezon', 'within', 'web', 'page', 'perhap', 'http', 'header', 'part', 'string', 'determin', 'user', 'timezon']   \n",
       "\n",
       "                                                                                                                                                                                                                                                                                   Sentence  \n",
       "Id                                                                                                                                                                                                                                                                                           \n",
       "4                                                                                                                                                           want use chang opac code build applic give follow error tri use work code work fine past vb .net project convert decim doubl c#  \n",
       "6   absolut posit contain sever children one relat posit use child collaps ie firefox safari use work parent relat posit percentag width child work someth miss easi fix besid child area css specif cover width collaps percentag width child element absolut posit parent internet explor  \n",
       "9                                                                                                                                                                                                 given repres person birthday calcul age year calcul someon age base datetim type birthday  \n",
       "11                                                                                                                                                                                                given specif valu display relat time like hour ago day ago month ago calcul relat time c#  \n",
       "13                                                                                                                                                                   standard way web server abl determin user timezon within web page perhap http header part string determin user timezon  "
      ]
     },
     "execution_count": 4,
     "metadata": {},
     "output_type": "execute_result"
    }
   ],
   "source": [
    "data.head()"
   ]
  },
  {
   "cell_type": "markdown",
   "metadata": {},
   "source": [
    "***\n",
    "# 3 Tags"
   ]
  },
  {
   "cell_type": "code",
   "execution_count": 5,
   "metadata": {},
   "outputs": [
    {
     "data": {
      "text/html": [
       "<div>\n",
       "<style scoped>\n",
       "    .dataframe tbody tr th:only-of-type {\n",
       "        vertical-align: middle;\n",
       "    }\n",
       "\n",
       "    .dataframe tbody tr th {\n",
       "        vertical-align: top;\n",
       "    }\n",
       "\n",
       "    .dataframe thead th {\n",
       "        text-align: right;\n",
       "    }\n",
       "</style>\n",
       "<table border=\"1\" class=\"dataframe\">\n",
       "  <thead>\n",
       "    <tr style=\"text-align: right;\">\n",
       "      <th></th>\n",
       "      <th>Tags</th>\n",
       "    </tr>\n",
       "    <tr>\n",
       "      <th>Id</th>\n",
       "      <th></th>\n",
       "    </tr>\n",
       "  </thead>\n",
       "  <tbody>\n",
       "    <tr>\n",
       "      <th>4</th>\n",
       "      <td>[c#, floating-point, type-conversion, double, decimal]</td>\n",
       "    </tr>\n",
       "    <tr>\n",
       "      <th>6</th>\n",
       "      <td>[html, css, internet-explorer-7]</td>\n",
       "    </tr>\n",
       "    <tr>\n",
       "      <th>9</th>\n",
       "      <td>[c#, .net, datetime]</td>\n",
       "    </tr>\n",
       "    <tr>\n",
       "      <th>11</th>\n",
       "      <td>[c#, datetime, time, datediff, relative-time-span]</td>\n",
       "    </tr>\n",
       "    <tr>\n",
       "      <th>13</th>\n",
       "      <td>[html, browser, timezone, user-agent, timezone-offset]</td>\n",
       "    </tr>\n",
       "  </tbody>\n",
       "</table>\n",
       "</div>"
      ],
      "text/plain": [
       "                                                      Tags\n",
       "Id                                                        \n",
       "4   [c#, floating-point, type-conversion, double, decimal]\n",
       "6                         [html, css, internet-explorer-7]\n",
       "9                                     [c#, .net, datetime]\n",
       "11      [c#, datetime, time, datediff, relative-time-span]\n",
       "13  [html, browser, timezone, user-agent, timezone-offset]"
      ]
     },
     "execution_count": 5,
     "metadata": {},
     "output_type": "execute_result"
    }
   ],
   "source": [
    "data[[\"Tags\"]].head()"
   ]
  },
  {
   "cell_type": "code",
   "execution_count": 6,
   "metadata": {},
   "outputs": [
    {
     "data": {
      "text/plain": [
       "array([list(['c#', 'floating-point', 'type-conversion', 'double', 'decimal']),\n",
       "       list(['html', 'css', 'internet-explorer-7']),\n",
       "       list(['c#', '.net', 'datetime']), ...,\n",
       "       list(['css', 'xhtml', 'refactoring']),\n",
       "       list(['python', 'class', 'anonymous-class']),\n",
       "       list(['c', 'linux', 'file', 'io', 'std'])], dtype=object)"
      ]
     },
     "execution_count": 6,
     "metadata": {},
     "output_type": "execute_result"
    }
   ],
   "source": [
    "data.Tags.values"
   ]
  },
  {
   "cell_type": "code",
   "execution_count": 7,
   "metadata": {},
   "outputs": [],
   "source": [
    "tags = []\n",
    "for row in data.Tags.values:\n",
    "    tags += row\n",
    "tags_df = pd.DataFrame(data=tags, columns=[\"Tag\"]).value_counts().reset_index()\n",
    "tags_df.columns = [\"Tag\", \"Count\"]"
   ]
  },
  {
   "cell_type": "code",
   "execution_count": 8,
   "metadata": {},
   "outputs": [
    {
     "name": "stdout",
     "output_type": "stream",
     "text": [
      "<class 'pandas.core.frame.DataFrame'>\n",
      "RangeIndex: 9252 entries, 0 to 9251\n",
      "Data columns (total 2 columns):\n",
      " #   Column  Non-Null Count  Dtype \n",
      "---  ------  --------------  ----- \n",
      " 0   Tag     9252 non-null   object\n",
      " 1   Count   9252 non-null   int64 \n",
      "dtypes: int64(1), object(1)\n",
      "memory usage: 144.7+ KB\n"
     ]
    }
   ],
   "source": [
    "tags_df.info()"
   ]
  },
  {
   "cell_type": "code",
   "execution_count": 9,
   "metadata": {},
   "outputs": [
    {
     "data": {
      "text/html": [
       "<div>\n",
       "<style scoped>\n",
       "    .dataframe tbody tr th:only-of-type {\n",
       "        vertical-align: middle;\n",
       "    }\n",
       "\n",
       "    .dataframe tbody tr th {\n",
       "        vertical-align: top;\n",
       "    }\n",
       "\n",
       "    .dataframe thead th {\n",
       "        text-align: right;\n",
       "    }\n",
       "</style>\n",
       "<table border=\"1\" class=\"dataframe\">\n",
       "  <thead>\n",
       "    <tr style=\"text-align: right;\">\n",
       "      <th></th>\n",
       "      <th>Tag</th>\n",
       "      <th>Count</th>\n",
       "    </tr>\n",
       "  </thead>\n",
       "  <tbody>\n",
       "    <tr>\n",
       "      <th>0</th>\n",
       "      <td>c#</td>\n",
       "      <td>6448</td>\n",
       "    </tr>\n",
       "    <tr>\n",
       "      <th>1</th>\n",
       "      <td>.net</td>\n",
       "      <td>5174</td>\n",
       "    </tr>\n",
       "    <tr>\n",
       "      <th>2</th>\n",
       "      <td>java</td>\n",
       "      <td>3758</td>\n",
       "    </tr>\n",
       "    <tr>\n",
       "      <th>3</th>\n",
       "      <td>asp.net</td>\n",
       "      <td>3261</td>\n",
       "    </tr>\n",
       "    <tr>\n",
       "      <th>4</th>\n",
       "      <td>c++</td>\n",
       "      <td>2691</td>\n",
       "    </tr>\n",
       "  </tbody>\n",
       "</table>\n",
       "</div>"
      ],
      "text/plain": [
       "       Tag  Count\n",
       "0       c#   6448\n",
       "1     .net   5174\n",
       "2     java   3758\n",
       "3  asp.net   3261\n",
       "4      c++   2691"
      ]
     },
     "execution_count": 9,
     "metadata": {},
     "output_type": "execute_result"
    }
   ],
   "source": [
    "tags_df.head()"
   ]
  },
  {
   "cell_type": "code",
   "execution_count": 10,
   "metadata": {},
   "outputs": [
    {
     "data": {
      "image/png": "[encoded data removed]",
      "text/plain": [
       "<Figure size 1080x288 with 1 Axes>"
      ]
     },
     "metadata": {
      "needs_background": "light"
     },
     "output_type": "display_data"
    }
   ],
   "source": [
    "plt.figure(figsize=(15, 4))\n",
    "\n",
    "sns.barplot(data=tags_df.iloc[:20], x=\"Tag\", y=\"Count\")\n",
    "\n",
    "plt.title(\"Tag count\", size=20)\n",
    "plt.xlabel(\"Tag\", size=16)\n",
    "plt.ylabel(\"Count\", size=16)\n",
    "plt.xticks(rotation=45, size=16, ha=\"right\")\n",
    "plt.yticks(size=16)\n",
    "plt.show()"
   ]
  },
  {
   "cell_type": "code",
   "execution_count": 11,
   "metadata": {},
   "outputs": [
    {
     "data": {
      "image/png": "[encoded data removed]",
      "text/plain": [
       "<Figure size 1080x216 with 1 Axes>"
      ]
     },
     "metadata": {
      "needs_background": "light"
     },
     "output_type": "display_data"
    }
   ],
   "source": [
    "plt.figure(figsize=(15, 3))\n",
    "\n",
    "ax = sns.ecdfplot(data=tags_df, x=\"Count\", log_scale=True)\n",
    "\n",
    "plt.axhline(0.98, linestyle=\"--\", linewidth=1, color=\"r\")\n",
    "plt.axvline(100, linestyle=\"--\", linewidth=1, color=\"r\")\n",
    "\n",
    "plt.title(\"Cummulative coverage percentage\", size=20)\n",
    "plt.xlabel(\"Number of post\", size=16)\n",
    "plt.ylabel(\"Proportion\", size=16)\n",
    "plt.xticks(rotation=45, size=16, ha=\"right\")\n",
    "plt.yticks(size=16)\n",
    "plt.show()"
   ]
  },
  {
   "cell_type": "code",
   "execution_count": 12,
   "metadata": {},
   "outputs": [
    {
     "name": "stdout",
     "output_type": "stream",
     "text": [
      "<class 'pandas.core.frame.DataFrame'>\n",
      "RangeIndex: 100 entries, 0 to 99\n",
      "Data columns (total 2 columns):\n",
      " #   Column  Non-Null Count  Dtype \n",
      "---  ------  --------------  ----- \n",
      " 0   Tag     100 non-null    object\n",
      " 1   Count   100 non-null    int64 \n",
      "dtypes: int64(1), object(1)\n",
      "memory usage: 1.7+ KB\n"
     ]
    }
   ],
   "source": [
    "tags_df = tags_df[:100]\n",
    "tags_df.info()"
   ]
  },
  {
   "cell_type": "code",
   "execution_count": 13,
   "metadata": {},
   "outputs": [],
   "source": [
    "tags = tags_df.Tag"
   ]
  },
  {
   "cell_type": "markdown",
   "metadata": {},
   "source": [
    "***\n",
    "# 4 Bag-Of-Words"
   ]
  },
  {
   "cell_type": "code",
   "execution_count": null,
   "metadata": {},
   "outputs": [],
   "source": [
    "def bow(dataset, max_features=None, min_df=0.0, max_df=1.0):\n",
    "    vectorizer = CountVectorizer(analyzer=\"word\", tokenizer=None, preprocessor=None, stop_words=None, max_features=max_features, max_df=max_df, min_df=min_df)\n",
    "    matrix = vectorizer.fit_transform(dataset).toarray()\n",
    "    vocab = vectorizer.get_feature_names_out()\n",
    "    bag = pd.DataFrame(data=matrix, columns=vocab)\n",
    "    return bag"
   ]
  },
  {
   "cell_type": "code",
   "execution_count": null,
   "metadata": {},
   "outputs": [],
   "source": [
    "display = None\n",
    "if config[\"bag\"]:\n",
    "    bag = bow(data, \"Sentence\")\n",
    "    display = bag.iloc[:5, :20]\n",
    "display"
   ]
  },
  {
   "cell_type": "markdown",
   "metadata": {},
   "source": [
    "***\n",
    "# 5 TF-IDF"
   ]
  },
  {
   "cell_type": "code",
   "execution_count": null,
   "metadata": {},
   "outputs": [],
   "source": [
    "def tfidf(dataset, max_features=None, min_df=0.0, max_df=1.0):\n",
    "    vectorizer = TfidfVectorizer(tokenizer=None, stop_words=None, max_features=max_features, min_df=min_df, max_df=max_df)\n",
    "    matrix = vectorizer.fit_transform(dataset).toarray()\n",
    "    vocab = vectorizer.get_feature_names_out()\n",
    "    tfidf = pd.DataFrame(data=matrix, columns=vocab)\n",
    "    return tfidf"
   ]
  },
  {
   "cell_type": "code",
   "execution_count": null,
   "metadata": {},
   "outputs": [],
   "source": [
    "display = None\n",
    "if config[\"tfidf\"]:\n",
    "    tfidf = tfidf(data, \"Sentence\")\n",
    "    display = tfidf.iloc[:5, :20]\n",
    "display"
   ]
  },
  {
   "cell_type": "markdown",
   "metadata": {},
   "source": [
    "***\n",
    "# 6 Unsupervised"
   ]
  },
  {
   "cell_type": "markdown",
   "metadata": {},
   "source": [
    "## 6.0 Utils"
   ]
  },
  {
   "cell_type": "code",
   "execution_count": null,
   "metadata": {},
   "outputs": [],
   "source": [
    "def latent_dirichlet_allocation(dataset: pd.DataFrame, n_topics: int, max_iter=5, learning_offset=50, max_features=None):\n",
    "    feature_names = dataset.columns\n",
    "\n",
    "    lda = LatentDirichletAllocation(n_components=n_topics, max_iter=max_iter, learning_method=\"online\", learning_offset=learning_offset, random_state=0)\n",
    "    lda.fit(data)\n",
    "    return lda, feature_names"
   ]
  },
  {
   "cell_type": "code",
   "execution_count": null,
   "metadata": {},
   "outputs": [],
   "source": [
    "# https://blog.mlreview.com/topic-modeling-with-scikit-learn-e80d33668730\n",
    "#\n",
    "def display_topics(model, feature_names, no_top_words=10):\n",
    "    for topic_idx, topic in enumerate(model.components_):\n",
    "        print(f\"Topic {topic_idx}\")\n",
    "        print(\" \".join([feature_names[i]\n",
    "                        for i in topic.argsort()[:-no_top_words - 1:-1]]))"
   ]
  },
  {
   "cell_type": "code",
   "execution_count": null,
   "metadata": {},
   "outputs": [],
   "source": [
    "# https://www.machinelearningplus.com/nlp/topic-modeling-python-sklearn-examples/#9buildldamodelwithsklearn\n",
    "#\n",
    "def latent_dirichlet_allocation_tuning(dataset: pd.DataFrame, param_grid: dict):\n",
    "    data_bow = bow(dataset, min_df=.005)\n",
    "    feature_names = data_bow.columns\n",
    "\n",
    "    lda = LatentDirichletAllocation()\n",
    "    gs = GridSearchCV(lda, param_grid)\n",
    "    gs.fit(data_bow)\n",
    "\n",
    "    return gs, feature_names"
   ]
  },
  {
   "cell_type": "markdown",
   "metadata": {},
   "source": [
    "***\n",
    "## 6.1 Linear Discriminant Analysis"
   ]
  },
  {
   "cell_type": "markdown",
   "metadata": {},
   "source": [
    "***\n",
    "## 6.2 Latent Dirichlet Allocation"
   ]
  },
  {
   "cell_type": "code",
   "execution_count": null,
   "metadata": {},
   "outputs": [],
   "source": [
    "if config[\"unsupervised\"]:\n",
    "    data_bow = bow(data[\"Sentence\"], min_df=.005, max_df=1.0)"
   ]
  },
  {
   "cell_type": "code",
   "execution_count": null,
   "metadata": {},
   "outputs": [],
   "source": [
    "if config[\"unsupervised\"]:\n",
    "    data_bow.info()"
   ]
  },
  {
   "cell_type": "code",
   "execution_count": null,
   "metadata": {},
   "outputs": [],
   "source": [
    "if config[\"unsupervised\"]:\n",
    "    param_grid = {\n",
    "        \"n_components\": [10],\n",
    "        \"learning_decay\": [.7],\n",
    "        \"random_state\": [0],\n",
    "        \"n_jobs\": [10]\n",
    "    }\n",
    "\n",
    "    gs, feature_names = latent_dirichlet_allocation_tuning(data[\"Sentence\"], param_grid)"
   ]
  },
  {
   "cell_type": "code",
   "execution_count": null,
   "metadata": {},
   "outputs": [],
   "source": [
    "if config[\"unsupervised\"]:\n",
    "    display_topics(gs.best_estimator_, feature_names, 20)"
   ]
  },
  {
   "cell_type": "markdown",
   "metadata": {},
   "source": [
    "***\n",
    "# 7 Supervised"
   ]
  },
  {
   "cell_type": "markdown",
   "metadata": {},
   "source": [
    "## 7.0 Utils"
   ]
  },
  {
   "cell_type": "code",
   "execution_count": null,
   "metadata": {},
   "outputs": [],
   "source": [
    "def scree_plot(dataset, figsize=(15, 5)):\n",
    "    pca = PCA()\n",
    "    pca.fit(dataset)\n",
    "\n",
    "    plt.figure(figsize=figsize)\n",
    "    explain_variance = pd.Series(pca.explained_variance_ratio_)\n",
    "    explain_variance.plot(kind=\"bar\", alpha=0.7)\n",
    "\n",
    "    total = 0\n",
    "    var_ls = []\n",
    "    for x in explain_variance:\n",
    "        total = total + x\n",
    "        var_ls.append(total)\n",
    "\n",
    "    pd.Series(var_ls).plot(marker=\"o\", alpha=0.7)\n",
    "    plt.xlabel(\"Principle Components\", fontsize=\"x-large\")\n",
    "    plt.ylabel(\"Percentage Variance Explained\", fontsize=\"x-large\")\n",
    "    plt.title(\"Scree plot\", fontsize=\"xx-large\")\n",
    "    plt.show()\n",
    "\n",
    "    return pca"
   ]
  },
  {
   "cell_type": "code",
   "execution_count": null,
   "metadata": {},
   "outputs": [],
   "source": [
    "def apply_pca(dataset, n_components):\n",
    "    pca = PCA(n_components=n_components)\n",
    "    pca_data = pca.fit_transform(dataset)\n",
    "    components_name = [f\"PC{i+1}\" for i in range(pca_data.shape[1])]\n",
    "    pca_data = pd.DataFrame(data=pca_data, columns=components_name)\n",
    "    loadings = pd.DataFrame(\n",
    "        data=pca.components_.T,\n",
    "        columns=components_name,\n",
    "        index=dataset.columns)\n",
    "    return pca, pca_data, loadings"
   ]
  },
  {
   "cell_type": "code",
   "execution_count": null,
   "metadata": {},
   "outputs": [],
   "source": [
    "# https://www.codementor.io/@agarrahul01/multiclass-classification-using-random-forest-on-scikit-learn-library-hkk4lwawu\n",
    "# https://www.kaggle.com/patrickaudriaz/random-forests-for-multiclass-classification\n",
    "# \n",
    "def classifier_tuning(dataset: pd.DataFrame, model, param_grid: dict, scoring: str = \"f1_micro\"):\n",
    "    X = tfidf(dataset[\"Sentence\"], min_df=.005, max_df=1.0)\n",
    "\n",
    "    # target multi label binarizer\n",
    "    multi_label_binarizer = MultiLabelBinarizer()\n",
    "    y = multi_label_binarizer.fit_transform(dataset[\"Tags\"])\n",
    "\n",
    "    feature_names = X.columns\n",
    "    classes = multi_label_binarizer.classes_\n",
    "\n",
    "    X_train, X_test, y_train, y_test = train_test_split(X, y, test_size = 0.20, random_state = 0)\n",
    "\n",
    "    # multioutput\n",
    "    m_out = MultiOutputClassifier(model)\n",
    "    m_out.fit(X_train, y_train)\n",
    "\n",
    "    # gridsearch tuning/fitting\n",
    "    gs = GridSearchCV(m_out, param_grid, scoring=scoring, refit=True)\n",
    "    gs.fit(X_train, y_train)\n",
    "\n",
    "    # evaluate\n",
    "    print(f\"Score: {gs.score(X_test, y_test):.4}\")\n",
    "    print(f\"Best params: {gs.best_params_}\")\n",
    "\n",
    "    # advanced evaluation\n",
    "    best_model = gs.best_estimator_\n",
    "    y_pred = best_model.predict(X_test)\n",
    "\n",
    "    classif_report = classification_report(y_test, y_pred, target_names=classes, zero_division=0)\n",
    "\n",
    "    return gs, feature_names, classes, classif_report"
   ]
  },
  {
   "cell_type": "markdown",
   "metadata": {},
   "source": [
    "***\n",
    "## 7.1 PCA"
   ]
  },
  {
   "cell_type": "code",
   "execution_count": null,
   "metadata": {},
   "outputs": [],
   "source": [
    "# if config[\"supervised\"]:\n",
    "#     data_tfidf = tfidf(data, \"Sentence\")\n",
    "#     pca = scree_plot(data_tfidf.iloc[:, :20])"
   ]
  },
  {
   "cell_type": "markdown",
   "metadata": {},
   "source": [
    "***\n",
    "## 7.2 K Neighbors Classifier"
   ]
  },
  {
   "cell_type": "code",
   "execution_count": null,
   "metadata": {},
   "outputs": [],
   "source": [
    "if config[\"supervised\"]:\n",
    "    param_grid = {\n",
    "        \"estimator__n_neighbors\": [5],\n",
    "        \"estimator__n_jobs\": [10],\n",
    "        \"n_jobs\": [10]\n",
    "    }\n",
    "\n",
    "    model = KNeighborsClassifier()\n",
    "    gs, feature_names, classes, classif_report = classifier_tuning(data.iloc[:1000], model, param_grid)\n",
    "\n",
    "    print(classif_report)"
   ]
  },
  {
   "cell_type": "markdown",
   "metadata": {},
   "source": [
    "***\n",
    "## 7.2 Decision Tree Classifier"
   ]
  },
  {
   "cell_type": "code",
   "execution_count": null,
   "metadata": {},
   "outputs": [],
   "source": [
    "if config[\"supervised\"]:\n",
    "    param_grid = {\n",
    "        \"estimator__max_depth\": [None],\n",
    "        \"estimator__criterion\": [\"gini\", \"entropy\"],\n",
    "        \"estimator__random_state\": [0],\n",
    "        \"n_jobs\": [10]\n",
    "    }\n",
    "\n",
    "    model = DecisionTreeClassifier()\n",
    "    gs, feature_names, classes, classif_report = classifier_tuning(data.iloc[:10], model, param_grid)\n",
    "\n",
    "    print(classif_report)"
   ]
  },
  {
   "cell_type": "markdown",
   "metadata": {},
   "source": [
    "***\n",
    "## 7.2 Random Forest Classifier"
   ]
  },
  {
   "cell_type": "code",
   "execution_count": null,
   "metadata": {},
   "outputs": [],
   "source": [
    "if config[\"supervised\"]:\n",
    "    param_grid = {\n",
    "        \"estimator__n_estimators\": [100],\n",
    "        \"estimator__max_depth\": [None],\n",
    "        \"estimator__criterion\": [\"gini\", \"entropy\"],\n",
    "        \"estimator__n_jobs\": [10],\n",
    "        \"estimator__random_state\": [0],\n",
    "        \"n_jobs\": [10]\n",
    "    }\n",
    "\n",
    "    model = RandomForestClassifier()\n",
    "    gs, feature_names, classes, classif_report = classifier_tuning(data.iloc[:10], model, param_grid)\n",
    "\n",
    "    print(classif_report)"
   ]
  }
 ],
 "metadata": {
  "interpreter": {
   "hash": "586ad1ed5c97141e2437e681efbf1ec0adcd17d830cf5af2ca3d2819e743e158"
  },
  "kernelspec": {
   "display_name": "Python 3.8.12 64-bit ('base': conda)",
   "language": "python",
   "name": "python3"
  },
  "language_info": {
   "codemirror_mode": {
    "name": "ipython",
    "version": 3
   },
   "file_extension": ".py",
   "mimetype": "text/x-python",
   "name": "python",
   "nbconvert_exporter": "python",
   "pygments_lexer": "ipython3",
   "version": "3.8.12"
  },
  "orig_nbformat": 4
 },
 "nbformat": 4,
 "nbformat_minor": 2
}
